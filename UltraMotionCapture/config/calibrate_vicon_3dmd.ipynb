{
 "cells": [
  {
   "cell_type": "markdown",
   "metadata": {},
   "source": [
    "#### Preparation and Data Loading"
   ]
  },
  {
   "cell_type": "code",
   "execution_count": 1,
   "metadata": {},
   "outputs": [],
   "source": [
    "# add root folder of the project to path\n",
    "import sys\n",
    "sys.path.insert(0, '../')"
   ]
  },
  {
   "cell_type": "code",
   "execution_count": 2,
   "metadata": {},
   "outputs": [],
   "source": [
    "# load markers\n",
    "import numpy as np\n",
    "points_3dmd = np.load('../data/calibrate/points_3dmd.npy')\n",
    "\n",
    "import obj3d\n",
    "pcd_3dmd = obj3d.np2pcd(points_3dmd)"
   ]
  },
  {
   "cell_type": "code",
   "execution_count": 3,
   "metadata": {},
   "outputs": [
    {
     "name": "stdout",
     "output_type": "stream",
     "text": [
      "loaded 1 vicon file: ../dataset/6kmh_softbra_8markers_1.csv\n"
     ]
    }
   ],
   "source": [
    "# load kps\n",
    "import kps\n",
    "vicon = kps.MarkerSet()\n",
    "vicon.load_from_vicon('../dataset/6kmh_softbra_8markers_1.csv')\n",
    "vicon.interp_field()\n",
    "\n",
    "points_vicon = vicon.get_frame_coord(0)\n",
    "pcd_vicon = obj3d.np2pcd(points_vicon)"
   ]
  },
  {
   "cell_type": "code",
   "execution_count": 4,
   "metadata": {},
   "outputs": [
    {
     "data": {
      "application/vnd.jupyter.widget-view+json": {
       "model_id": "0aa8324d7fad44fb8e8beda447cda452",
       "version_major": 2,
       "version_minor": 0
      },
      "text/plain": [
       "Renderer(camera=PerspectiveCamera(aspect=1.3333333333333333, children=(DirectionalLight(intensity=0.25, positi…"
      ]
     },
     "metadata": {},
     "output_type": "display_data"
    }
   ],
   "source": [
    "# plot point clouds before calibration\n",
    "import pyvista as pv\n",
    "pv.set_jupyter_backend('pythreejs')\n",
    "\n",
    "pvpcd_3dmd = obj3d.np2pvpcd(points_3dmd, radius=10, phi_resolution=10, theta_resolution=10)\n",
    "\n",
    "pvpcd_vicon = obj3d.np2pvpcd(points_vicon, radius=10, phi_resolution=10, theta_resolution=10)\n",
    "\n",
    "scene = pv.Plotter()\n",
    "scene.add_mesh(pvpcd_3dmd, color='Gold')\n",
    "scene.add_mesh(pvpcd_vicon, color='Blue')\n",
    "scene.add_axes(box=True)\n",
    "scene.show()"
   ]
  },
  {
   "cell_type": "markdown",
   "metadata": {},
   "source": [
    "#### Pre-alignment and Calibration"
   ]
  },
  {
   "cell_type": "code",
   "execution_count": 5,
   "metadata": {},
   "outputs": [],
   "source": [
    "# pre-alignment\n",
    "import copy\n",
    "pcd_3dmd_pre = copy.deepcopy(pcd_3dmd)\n",
    "r_pre = pcd_3dmd_pre.get_rotation_matrix_from_xyz((np.pi/2, 0, 0))\n",
    "pcd_3dmd_pre.rotate(r_pre, center=(0, 0, 0))\n",
    "points_3dmd_pre = obj3d.pcd2np(pcd_3dmd_pre)"
   ]
  },
  {
   "cell_type": "code",
   "execution_count": 6,
   "metadata": {},
   "outputs": [
    {
     "data": {
      "application/vnd.jupyter.widget-view+json": {
       "model_id": "eeede68dcacb4177b2b11a34e8139b13",
       "version_major": 2,
       "version_minor": 0
      },
      "text/plain": [
       "Renderer(camera=PerspectiveCamera(aspect=1.3333333333333333, children=(DirectionalLight(intensity=0.25, positi…"
      ]
     },
     "metadata": {},
     "output_type": "display_data"
    }
   ],
   "source": [
    "# plot point clouds after pre-alignment\n",
    "pvpcd_3dmd_pre = obj3d.np2pvpcd(points_3dmd_pre, radius=10, phi_resolution=10, theta_resolution=10)\n",
    "\n",
    "scene = pv.Plotter()\n",
    "scene.add_mesh(pvpcd_3dmd_pre, color='Green')\n",
    "scene.add_mesh(pvpcd_3dmd, color='Gold')\n",
    "scene.add_mesh(pvpcd_vicon, color='Blue')\n",
    "scene.add_axes(box=True)\n",
    "scene.show()"
   ]
  },
  {
   "cell_type": "code",
   "execution_count": 7,
   "metadata": {},
   "outputs": [],
   "source": [
    "# cpd rigid registration\n",
    "from probreg import cpd\n",
    "tf_param, _, _ = cpd.registration_cpd(\n",
    "    pcd_3dmd_pre, pcd_vicon, 'rigid', maxiter=int(1e5), tol=1e-5,# update_scale=False,\n",
    ")\n",
    "\n",
    "r_cab = tf_param.rot\n",
    "s = tf_param.scale\n",
    "t = tf_param.t\n",
    "\n",
    "points_3dmd_cab = tf_param.transform(points_3dmd_pre)"
   ]
  },
  {
   "cell_type": "code",
   "execution_count": 8,
   "metadata": {},
   "outputs": [
    {
     "data": {
      "application/vnd.jupyter.widget-view+json": {
       "model_id": "6ce83fa28c164beba3acc3a59ea83d0d",
       "version_major": 2,
       "version_minor": 0
      },
      "text/plain": [
       "Renderer(camera=PerspectiveCamera(aspect=1.3333333333333333, children=(DirectionalLight(intensity=0.25, positi…"
      ]
     },
     "metadata": {},
     "output_type": "display_data"
    }
   ],
   "source": [
    "# plot point clouds after calibration\n",
    "# points_3dmd_cab = obj3d.pcd2np(pcd_3dmd_cab)\n",
    "pvpcd_3dmd_cab = obj3d.np2pvpcd(points_3dmd_cab, radius=10, phi_resolution=10, theta_resolution=10)\n",
    "\n",
    "scene = pv.Plotter()\n",
    "scene.add_mesh(pvpcd_3dmd_cab, color='Gold')\n",
    "scene.add_mesh(pvpcd_vicon, color='Blue')\n",
    "scene.show()"
   ]
  },
  {
   "cell_type": "markdown",
   "metadata": {},
   "source": [
    "#### Calibration Validation and Parameter Saving"
   ]
  },
  {
   "cell_type": "code",
   "execution_count": 9,
   "metadata": {},
   "outputs": [],
   "source": [
    "# combine pre-alignment and registration\n",
    "# r = np.matmul(r_pre, r_cab)\n",
    "r = np.matmul(r_cab, r_pre)"
   ]
  },
  {
   "cell_type": "code",
   "execution_count": 10,
   "metadata": {},
   "outputs": [
    {
     "data": {
      "application/vnd.jupyter.widget-view+json": {
       "model_id": "1e771acc600e45cb9cd9a998cb7a9e84",
       "version_major": 2,
       "version_minor": 0
      },
      "text/plain": [
       "Renderer(camera=PerspectiveCamera(aspect=1.3333333333333333, children=(DirectionalLight(intensity=0.25, positi…"
      ]
     },
     "metadata": {},
     "output_type": "display_data"
    }
   ],
   "source": [
    "# validate the combined parameters\n",
    "pcd_3dmd_copy = copy.deepcopy(pcd_3dmd)\n",
    "pcd_3dmd_copy.rotate(r, center=(0, 0, 0))\n",
    "pcd_3dmd_copy.scale(s, center=(0, 0, 0))\n",
    "pcd_3dmd_copy.translate(t)\n",
    "\n",
    "points_3dmd_copy = obj3d.pcd2np(pcd_3dmd_copy)\n",
    "pvpcd_3dmd_copy = obj3d.np2pvpcd(points_3dmd_copy, radius=10, phi_resolution=10, theta_resolution=10)\n",
    "\n",
    "scene = pv.Plotter()\n",
    "scene.add_mesh(pvpcd_3dmd_copy, color='Gold')\n",
    "scene.add_mesh(pvpcd_vicon, color='Blue')\n",
    "scene.show()"
   ]
  },
  {
   "cell_type": "code",
   "execution_count": 11,
   "metadata": {},
   "outputs": [],
   "source": [
    "# save parameters\n",
    "np.save('../data/calibrate/r', r)\n",
    "np.save('../data/calibrate/s', s)\n",
    "np.save('../data/calibrate/t', t)"
   ]
  },
  {
   "cell_type": "markdown",
   "metadata": {},
   "source": [
    "#### 3dMD-Vicon Mixture System"
   ]
  },
  {
   "cell_type": "code",
   "execution_count": 14,
   "metadata": {},
   "outputs": [
    {
     "data": {
      "application/vnd.jupyter.widget-view+json": {
       "model_id": "5a3596853c45415ba15823d0aaa3cb67",
       "version_major": 2,
       "version_minor": 0
      },
      "text/plain": [
       "Renderer(camera=PerspectiveCamera(aspect=1.3333333333333333, children=(DirectionalLight(intensity=0.25, positi…"
      ]
     },
     "metadata": {},
     "output_type": "display_data"
    }
   ],
   "source": [
    "# plot 3dmd data before calibrating to vicon\n",
    "mesh = pv.read('../data/6kmh_softbra_8markers_1/speed_6km_soft_bra.000001.obj')\n",
    "texture = pv.read_texture('../data/6kmh_softbra_8markers_1/speed_6km_soft_bra.000001.jpg')\n",
    "\n",
    "scene = pv.Plotter()\n",
    "scene.add_mesh(mesh, show_edges=True)\n",
    "scene.add_mesh(pvpcd_3dmd, color='Gold')\n",
    "scene.add_mesh(pvpcd_vicon, color='Blue')\n",
    "scene.show()"
   ]
  },
  {
   "cell_type": "code",
   "execution_count": 15,
   "metadata": {},
   "outputs": [
    {
     "name": "stderr",
     "output_type": "stream",
     "text": [
      "/Users/kirov/Anaconda/anaconda3/lib/python3.8/site-packages/pyvista/core/pointset.py:261: PyvistaDeprecationWarning: You did not specify a value for `inplace` and the default value will be changing to `False` in future versions for point-based meshes (e.g., `PolyData`). Please make sure you are not assuming this to be an inplace operation.\n",
      "  warnings.warn(DEFAULT_INPLACE_WARNING, PyvistaDeprecationWarning)\n"
     ]
    },
    {
     "data": {
      "application/vnd.jupyter.widget-view+json": {
       "model_id": "a7ecb0267ff04e3fac5fa6f6c94a1e3a",
       "version_major": 2,
       "version_minor": 0
      },
      "text/plain": [
       "Renderer(camera=PerspectiveCamera(aspect=1.3333333333333333, children=(DirectionalLight(intensity=0.25, positi…"
      ]
     },
     "metadata": {},
     "output_type": "display_data"
    }
   ],
   "source": [
    "# plot 3dmd data after calibrating to vicon\n",
    "s, m = obj3d.transform_rst2sm(r, s, t)\n",
    "\n",
    "mesh_cab = copy.deepcopy(mesh)\n",
    "mesh_cab.transform(m)\n",
    "mesh_cab.scale(s)\n",
    "\n",
    "scene = pv.Plotter()\n",
    "scene.add_mesh(mesh_cab, show_edges=True)\n",
    "scene.add_mesh(pvpcd_3dmd_cab, color='Gold')\n",
    "scene.add_mesh(pvpcd_vicon, color='Blue')\n",
    "scene.show()"
   ]
  },
  {
   "cell_type": "code",
   "execution_count": null,
   "metadata": {},
   "outputs": [],
   "source": []
  }
 ],
 "metadata": {
  "kernelspec": {
   "display_name": "Python 3.8.8 ('base')",
   "language": "python",
   "name": "python3"
  },
  "language_info": {
   "codemirror_mode": {
    "name": "ipython",
    "version": 3
   },
   "file_extension": ".py",
   "mimetype": "text/x-python",
   "name": "python",
   "nbconvert_exporter": "python",
   "pygments_lexer": "ipython3",
   "version": "3.8.8"
  },
  "orig_nbformat": 4,
  "vscode": {
   "interpreter": {
    "hash": "8c8ccae62b03e03f602162ec2d3ff7715f4331cfb18cae8be1463dcdd08d9f0b"
   }
  }
 },
 "nbformat": 4,
 "nbformat_minor": 2
}
