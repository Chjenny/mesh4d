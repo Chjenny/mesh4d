{
 "cells": [
  {
   "attachments": {},
   "cell_type": "markdown",
   "metadata": {},
   "source": [
    "> ## Calibrate Vicon coordinates to 3dMD coordinates\n",
    "\n",
    "$$\\bm{x}_{3dmd} = s \\bm{R} \\bm{x}_{vicon} + \\bm{t}$$\n",
    "\n",
    "If only want to dry-run, set `is_output` as `False`.\n",
    "\n",
    "Otherwise, the calibration parameters will be outputted to `mesh4d/config/calibrate/` folder:\n",
    "\n",
    "| Variables | Contents                                |\n",
    "| --------- | --------------------------------------- |\n",
    "| `s.npy`   | Storing the scaling rate $s$.           |\n",
    "| `r.npy`   | Storing the rotation matrix $\\bm R$.    |\n",
    "| `t.npy`   | Storing the translation vector $\\bm t$. |\n",
    "\n",
    "_P.S. Before calibration, 3dMD mesh, key points extracted from 3dMD mesh, and corresponding Vicon key points data need to be prepared. Noted that the key points from 3dMD mesh is extracted with `kps_extract.py` and saved as `points_3dmd.npy`._"
   ]
  },
  {
   "cell_type": "code",
   "execution_count": 18,
   "metadata": {},
   "outputs": [],
   "source": [
    "# is_output = True\n",
    "is_output = False"
   ]
  },
  {
   "attachments": {},
   "cell_type": "markdown",
   "metadata": {},
   "source": [
    "### Preparation and Data Loading\n",
    "\n",
    "Variables related to 3dMD system:\n",
    "\n",
    "| Variables     | Contents                                                    |\n",
    "| ------------- | ----------------------------------------------------------- |\n",
    "| `points_3dmd` | Loaded key points from 3dMD system as `numpy` (N, 3) array. |\n",
    "| `pcd_3dmd`    | Loaded key point converted as `open3d` point cloud.         |\n",
    "| `pvpcd_3dmd`  | Loaded key point converted as `pyvista` point cloud.        |\n",
    "\n",
    "Variables related to Vicon system:\n",
    "\n",
    "| Variables      | Contents                                                     |\n",
    "| -------------- | ------------------------------------------------------------ |\n",
    "| `points_vicon` | Loaded key points from Vicon system as `numpy` (N, 3) array. |\n",
    "| `pcd_vicon`    | Loaded key point converted as `open3d` point cloud.          |\n",
    "| `pvpcd_vicon`  | Loaded key point converted as `pyvista` point cloud.         |"
   ]
  },
  {
   "cell_type": "code",
   "execution_count": 19,
   "metadata": {},
   "outputs": [],
   "source": [
    "# add root folder of the project to path\n",
    "import sys\n",
    "sys.path.insert(0, '../../..')"
   ]
  },
  {
   "cell_type": "code",
   "execution_count": 20,
   "metadata": {},
   "outputs": [],
   "source": [
    "# load markers\n",
    "import numpy as np\n",
    "points_3dmd = np.load('../../config/calibrate/points_3dmd.npy')\n",
    "\n",
    "from mesh4d import obj3d\n",
    "pcd_3dmd = obj3d.np2pcd(points_3dmd)"
   ]
  },
  {
   "cell_type": "code",
   "execution_count": 21,
   "metadata": {},
   "outputs": [
    {
     "name": "stdout",
     "output_type": "stream",
     "text": [
      "loaded 1 vicon file: ../../data/6kmh_softbra_8markers_1.csv\n"
     ]
    }
   ],
   "source": [
    "# load kps\n",
    "from mesh4d import kps\n",
    "vicon = kps.MarkerSet()\n",
    "vicon.load_from_vicon('../../data/6kmh_softbra_8markers_1.csv')\n",
    "vicon.interp_field()\n",
    "\n",
    "points_vicon = vicon.get_frame_coord(0)\n",
    "pcd_vicon = obj3d.np2pcd(points_vicon)"
   ]
  },
  {
   "cell_type": "code",
   "execution_count": 22,
   "metadata": {},
   "outputs": [
    {
     "data": {
      "application/vnd.jupyter.widget-view+json": {
       "model_id": "048550401e834843ac88d76ac25bc434",
       "version_major": 2,
       "version_minor": 0
      },
      "text/plain": [
       "Renderer(camera=PerspectiveCamera(aspect=1.3333333333333333, children=(DirectionalLight(intensity=0.25, positi…"
      ]
     },
     "metadata": {},
     "output_type": "display_data"
    }
   ],
   "source": [
    "# plot point clouds before calibration\n",
    "import pyvista as pv\n",
    "pv.set_jupyter_backend('pythreejs')\n",
    "\n",
    "pvpcd_3dmd = obj3d.np2pvpcd(points_3dmd, radius=10, phi_resolution=10, theta_resolution=10)\n",
    "pvpcd_vicon = obj3d.np2pvpcd(points_vicon, radius=10, phi_resolution=10, theta_resolution=10)\n",
    "\n",
    "scene = pv.Plotter()\n",
    "scene.add_mesh(pvpcd_3dmd, color='Gold')\n",
    "scene.add_mesh(pvpcd_vicon, color='Blue')\n",
    "scene.add_axes(box=True)\n",
    "scene.show()"
   ]
  },
  {
   "attachments": {},
   "cell_type": "markdown",
   "metadata": {},
   "source": [
    "### Pre-alignment and Calibration\n",
    "\n",
    "To facilitate accurate calibration, manual pre-alignment (rotation `r_pre`) is implemented to Vicon key points and yields:\n",
    "\n",
    "| Variables          | Contents                                                |\n",
    "| ------------------ | ------------------------------------------------------- |\n",
    "| `points_vicon_pre` | Pre-aligned Vicon key points as `numpy` (N, 3) array    |\n",
    "| `pcd_vicon_pre`    | Pre-aligned Vicon point cloud as `open3d` point cloud.  |\n",
    "| `pvpcd_vicon_pre`  | Pre-aligned Vicon point cloud as `pyvista` point cloud. |\n",
    "\n",
    "And then the Vicon key points is calibrate with 3dMD key points:\n",
    "\n",
    "| Variables | Contents                          |\n",
    "| --------- | --------------------------------- |\n",
    "| `r_cab`   | The estimated rotation matrix.    |\n",
    "| `s`       | The estimated scaling rate.       |\n",
    "| `t`       | The estimated translation vector. |\n",
    "\n",
    "The estimated calibration parameters are applied to the pre-aligned Vicon point cloud and yields:\n",
    "\n",
    "| Variables          | Contents                                                |\n",
    "| ------------------ | ------------------------------------------------------- |\n",
    "| `points_vicon_cab` | Calibrated Vicon key points as `numpy` (N, 3) array    |\n",
    "| `pvpcd_vicon_cab`  | Calibrated Vicon point cloud as `pyvista` point cloud. |"
   ]
  },
  {
   "cell_type": "code",
   "execution_count": 23,
   "metadata": {},
   "outputs": [],
   "source": [
    "# pre-alignment\n",
    "import copy\n",
    "pcd_vicon_pre = copy.deepcopy(pcd_vicon)\n",
    "r_pre = pcd_vicon_pre.get_rotation_matrix_from_xyz((-np.pi/2, 0, 0))\n",
    "pcd_vicon_pre.rotate(r_pre, center=(0, 0, 0))\n",
    "points_vicon_pre = obj3d.pcd2np(pcd_vicon_pre)"
   ]
  },
  {
   "cell_type": "code",
   "execution_count": 24,
   "metadata": {},
   "outputs": [
    {
     "data": {
      "application/vnd.jupyter.widget-view+json": {
       "model_id": "b402ead1f3df4d0cbc9d78817cda6afd",
       "version_major": 2,
       "version_minor": 0
      },
      "text/plain": [
       "Renderer(camera=PerspectiveCamera(aspect=1.3333333333333333, children=(DirectionalLight(intensity=0.25, positi…"
      ]
     },
     "metadata": {},
     "output_type": "display_data"
    }
   ],
   "source": [
    "# plot point clouds after pre-alignment\n",
    "pvpcd_vicon_pre = obj3d.np2pvpcd(points_vicon_pre, radius=10, phi_resolution=10, theta_resolution=10)\n",
    "\n",
    "scene = pv.Plotter()\n",
    "scene.add_mesh(pvpcd_vicon_pre, color='Green')\n",
    "scene.add_mesh(pvpcd_3dmd, color='Gold')\n",
    "scene.add_mesh(pvpcd_vicon, color='Blue')\n",
    "scene.add_axes(box=True)\n",
    "scene.show()"
   ]
  },
  {
   "cell_type": "code",
   "execution_count": 25,
   "metadata": {},
   "outputs": [],
   "source": [
    "# cpd rigid registration\n",
    "from probreg import cpd\n",
    "tf_param, _, _ = cpd.registration_cpd(\n",
    "    pcd_vicon_pre, pcd_3dmd, 'rigid', maxiter=int(1e5), tol=1e-5,# update_scale=False,\n",
    ")\n",
    "\n",
    "r_cab = tf_param.rot\n",
    "s = tf_param.scale\n",
    "t = tf_param.t\n",
    "\n",
    "points_vicon_cab = tf_param.transform(points_vicon_pre)"
   ]
  },
  {
   "cell_type": "code",
   "execution_count": 26,
   "metadata": {},
   "outputs": [
    {
     "data": {
      "application/vnd.jupyter.widget-view+json": {
       "model_id": "0dbeeccd0e304d059076f8106a445dc4",
       "version_major": 2,
       "version_minor": 0
      },
      "text/plain": [
       "Renderer(camera=PerspectiveCamera(aspect=1.3333333333333333, children=(DirectionalLight(intensity=0.25, positi…"
      ]
     },
     "metadata": {},
     "output_type": "display_data"
    }
   ],
   "source": [
    "# plot point clouds after calibration\n",
    "# points_3dmd_cab = obj3d.pcd2np(pcd_3dmd_cab)\n",
    "pvpcd_vicon_cab = obj3d.np2pvpcd(points_vicon_cab, radius=10, phi_resolution=10, theta_resolution=10)\n",
    "\n",
    "scene = pv.Plotter()\n",
    "scene.add_mesh(pvpcd_vicon_cab, color='Gold')\n",
    "scene.add_mesh(pvpcd_3dmd, color='Blue')\n",
    "scene.show()"
   ]
  },
  {
   "attachments": {},
   "cell_type": "markdown",
   "metadata": {},
   "source": [
    "### Calibration Validation\n",
    "\n",
    "In previous steps, pre-alignment rotation `r_pre` and the estimated rotation `r_cab` are all implemented:\n",
    "\n",
    "$$\\bm{x}_{3dmd} = s \\bm{R}_{cab} [\\bm{R}_{pre} \\bm{x}_{vicon}] + \\bm{t}\n",
    "= s [\\bm{R}_{cab} \\bm{R}_{pre}] \\bm{x}_{vicon} + \\bm{t}$$\n",
    "\n",
    "Therefore, their mutual effects are calculated as $\\bm{R} = \\bm{R}_{cab} \\bm{R}_{pre}$ stored as `r`, leading to the complete calibration parameters:\n",
    "\n",
    "| Variables | Contents                        |\n",
    "| --------- | ------------------------------- |\n",
    "| `s`       | The scaling rate $s$.           |\n",
    "| `r`       | The rotation matrix $\\bm R$.    |\n",
    "| `t`       | The translation vector $\\bm t$. |\n",
    "\n",
    "_P.S. About the combined parameter $\\bm M$: [Spatial Transformation Matrices - Rainer Goebel](https://www.brainvoyager.com/bv/doc/UsersGuide/CoordsAndTransforms/SpatialTransformationMatrices.html)_\n",
    "\n",
    "$$\\mathcal T(\\bm{x}) = s \\bm{R} \\bm{x} + \\bm{t} = s \\bm{M} \\bm{x}$$\n",
    "\n",
    "To verify its effectiveness, these parameters are applied to the original Vicon point cloud and plotted together with the 3dMD mesh & key points:\n",
    "\n",
    "| Variables         | Contents                                                         |\n",
    "| ----------------- | ---------------------------------------------------------------- |\n",
    "| `mesh`            | 3dMD mesh loaded with `pyvista`.                                 |\n",
    "| `texture`         | 3dMD mesh texture loaded with `pyvista`.                         |\n",
    "| `pvpcd_vicon_val` | Validation calibrated Vicon point cloud as `open3d` point cloud. |"
   ]
  },
  {
   "cell_type": "code",
   "execution_count": 27,
   "metadata": {},
   "outputs": [],
   "source": [
    "# combine pre-alignment and registration\n",
    "# r = np.matmul(r_pre, r_cab)\n",
    "r = np.matmul(r_cab, r_pre)"
   ]
  },
  {
   "cell_type": "code",
   "execution_count": 28,
   "metadata": {},
   "outputs": [
    {
     "data": {
      "application/vnd.jupyter.widget-view+json": {
       "model_id": "358eb21c243b4398ae7436637a6fee60",
       "version_major": 2,
       "version_minor": 0
      },
      "text/plain": [
       "Renderer(camera=PerspectiveCamera(aspect=1.3333333333333333, children=(DirectionalLight(intensity=0.25, positi…"
      ]
     },
     "metadata": {},
     "output_type": "display_data"
    }
   ],
   "source": [
    "# plot 3dmd data before calibrating to vicon\n",
    "mesh = pv.read('../../data/6kmh_softbra_8markers_1/speed_6km_soft_bra.000001.obj')\n",
    "texture = pv.read_texture('../../data/6kmh_softbra_8markers_1/speed_6km_soft_bra.000001.jpg')\n",
    "\n",
    "scene = pv.Plotter()\n",
    "scene.add_mesh(mesh, show_edges=True)\n",
    "scene.add_mesh(pvpcd_3dmd, color='Gold')\n",
    "scene.add_mesh(pvpcd_vicon, color='Blue')\n",
    "scene.show()"
   ]
  },
  {
   "cell_type": "code",
   "execution_count": 29,
   "metadata": {},
   "outputs": [
    {
     "name": "stderr",
     "output_type": "stream",
     "text": [
      "/Users/kirov/Anaconda/anaconda3/lib/python3.8/site-packages/pyvista/core/pointset.py:261: PyvistaDeprecationWarning: You did not specify a value for `inplace` and the default value will be changing to `False` in future versions for point-based meshes (e.g., `PolyData`). Please make sure you are not assuming this to be an inplace operation.\n",
      "  warnings.warn(DEFAULT_INPLACE_WARNING, PyvistaDeprecationWarning)\n"
     ]
    },
    {
     "data": {
      "application/vnd.jupyter.widget-view+json": {
       "model_id": "6e59417b07ff49ac945b958bdeaef162",
       "version_major": 2,
       "version_minor": 0
      },
      "text/plain": [
       "Renderer(camera=PerspectiveCamera(aspect=1.3333333333333333, children=(DirectionalLight(intensity=0.25, positi…"
      ]
     },
     "metadata": {},
     "output_type": "display_data"
    }
   ],
   "source": [
    "# plot 3dmd data after calibrating to vicon\n",
    "from mesh4d import field\n",
    "s, m = field.transform_rst2sm(r, s, t)\n",
    "\n",
    "pvpcd_vicon_val = copy.deepcopy(pvpcd_vicon)\n",
    "pvpcd_vicon_val.transform(m)\n",
    "pvpcd_vicon_val.scale(s)\n",
    "\n",
    "scene = pv.Plotter()\n",
    "scene.add_mesh(mesh, show_edges=True)\n",
    "scene.add_mesh(pvpcd_3dmd, color='Gold')\n",
    "scene.add_mesh(pvpcd_vicon_val, color='Blue')\n",
    "scene.show()"
   ]
  },
  {
   "attachments": {},
   "cell_type": "markdown",
   "metadata": {},
   "source": [
    "### Parameter Saving\n",
    "\n",
    "If `is_output` is set as `True`, the calibration parameters will be outputted to `mesh4d/config/calibrate/` folder:\n",
    "\n",
    "| Variables | Contents                                |\n",
    "| --------- | --------------------------------------- |\n",
    "| `s.npy`   | Storing the scaling rate $s$.           |\n",
    "| `r.npy`   | Storing the rotation matrix $\\bm R$.    |\n",
    "| `t.npy`   | Storing the translation vector $\\bm t$. |"
   ]
  },
  {
   "cell_type": "code",
   "execution_count": 30,
   "metadata": {},
   "outputs": [],
   "source": [
    "# save parameters\n",
    "if is_output:\n",
    "    np.save('r', r)\n",
    "    np.save('s', s)\n",
    "    np.save('t', t)"
   ]
  }
 ],
 "metadata": {
  "kernelspec": {
   "display_name": "Python 3.8.8 ('base')",
   "language": "python",
   "name": "python3"
  },
  "language_info": {
   "codemirror_mode": {
    "name": "ipython",
    "version": 3
   },
   "file_extension": ".py",
   "mimetype": "text/x-python",
   "name": "python",
   "nbconvert_exporter": "python",
   "pygments_lexer": "ipython3",
   "version": "3.8.8"
  },
  "orig_nbformat": 4,
  "vscode": {
   "interpreter": {
    "hash": "8c8ccae62b03e03f602162ec2d3ff7715f4331cfb18cae8be1463dcdd08d9f0b"
   }
  }
 },
 "nbformat": 4,
 "nbformat_minor": 2
}
