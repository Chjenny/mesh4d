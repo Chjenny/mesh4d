{
 "cells": [
  {
   "attachments": {},
   "cell_type": "markdown",
   "metadata": {},
   "source": [
    "# **Calibrate Vicon coordinates to 3dMD coordinates**\n",
    "\n",
    "$$\\bm{x}_{3dmd} = s \\bm{R} \\bm{x}_{vicon} + \\bm{t}$$\n",
    "\n",
    "If only want to dry-run, set `is_output` as `False`.\n",
    "\n",
    "Otherwise, the calibration parameters will be outputted to `mesh4d/config/calibrate/` folder:\n",
    "\n",
    "| Variables | Contents                                |\n",
    "| --------- | --------------------------------------- |\n",
    "| `s.npy`   | Storing the scaling rate $s$.           |\n",
    "| `r.npy`   | Storing the rotation matrix $\\bm R$.    |\n",
    "| `t.npy`   | Storing the translation vector $\\bm t$. |\n",
    "\n",
    "_P.S. Before calibration, 3dMD mesh, key points extracted from 3dMD mesh, and corresponding Vicon key points data need to be prepared. Noted that the key points from 3dMD mesh is extracted with `kps_extract.py` and saved as `points_3dmd.npy`._"
   ]
  },
  {
   "cell_type": "code",
   "execution_count": 1,
   "metadata": {},
   "outputs": [],
   "source": [
    "# is_output = True\n",
    "is_output = False"
   ]
  },
  {
   "attachments": {},
   "cell_type": "markdown",
   "metadata": {},
   "source": [
    "# Preparation and Data Loading\n",
    "\n",
    "Variables related to 3dMD system:\n",
    "\n",
    "| Variables     | Contents                                                    |\n",
    "| ------------- | ----------------------------------------------------------- |\n",
    "| `points_3dmd` | Loaded key points from 3dMD system as `numpy` (N, 3) array. |\n",
    "| `pcd_3dmd`    | Loaded key point converted as `open3d` point cloud.         |\n",
    "| `pvpcd_3dmd`  | Loaded key point converted as `pyvista` point cloud.        |\n",
    "\n",
    "Variables related to Vicon system:\n",
    "\n",
    "| Variables      | Contents                                                     |\n",
    "| -------------- | ------------------------------------------------------------ |\n",
    "| `points_vicon` | Loaded key points from Vicon system as `numpy` (N, 3) array. |\n",
    "| `pcd_vicon`    | Loaded key point converted as `open3d` point cloud.          |\n",
    "| `pvpcd_vicon`  | Loaded key point converted as `pyvista` point cloud.         |"
   ]
  },
  {
   "cell_type": "code",
   "execution_count": 2,
   "metadata": {},
   "outputs": [],
   "source": [
    "# add root folder of the project to path\n",
    "import sys\n",
    "sys.path.insert(0, '../../..')"
   ]
  },
  {
   "cell_type": "code",
   "execution_count": 3,
   "metadata": {},
   "outputs": [],
   "source": [
    "# load markers\n",
    "import numpy as np\n",
    "points_3dmd = np.load('../../config/calibrate/points_3dmd.npy')\n",
    "\n",
    "from mesh4d import obj3d\n",
    "pcd_3dmd = obj3d.np2pcd(points_3dmd)"
   ]
  },
  {
   "cell_type": "code",
   "execution_count": 4,
   "metadata": {},
   "outputs": [
    {
     "name": "stdout",
     "output_type": "stream",
     "text": [
      "calibration parameters loaded\n",
      "[=================== ] 99.0% parsing the 206-th columnerror happended when loading kps file: column Trajectory Count.1\n",
      "[=================== ] 99.5% parsing the 207-th columnerror happended when loading kps file: column Trajectory Count.2\n",
      "[====================] 100.0% parsing the 208-th column\n",
      "loaded 1 vicon file: ../../../data/landmarks/static_3markers.csv\n"
     ]
    }
   ],
   "source": [
    "# load kps\n",
    "from mesh4d import kps\n",
    "\n",
    "vicon = kps.MarkerSet()\n",
    "vicon.load_from_vicon('../../../data/landmarks/static_3markers.csv', convert=False)\n",
    "\n",
    "# some silly format issue was found in the csv file lol orz...\n",
    "vicon.markers = {\n",
    "    'Bra_Miss Sun:C7': vicon.markers['Bra_Miss Sun:C7'],\n",
    "    'Bra_Miss Sun:T10': vicon.markers['Bra_Miss Sun:T10'],\n",
    "    'Bra_Miss Sun:CLAV': vicon.markers['Bra_Miss Sun:CLAV'],\n",
    "}\n",
    "\n",
    "vicon.interp_field()\n",
    "\n",
    "points_vicon = vicon.get_frame_coord(0).get_points_coord()\n",
    "pcd_vicon = obj3d.np2pcd(points_vicon)"
   ]
  },
  {
   "cell_type": "code",
   "execution_count": 5,
   "metadata": {},
   "outputs": [
    {
     "data": {
      "text/plain": [
       "(array([[  27.270815,  -31.203543, 1401.304932],\n",
       "        [ -60.131954,  -70.042122, 1116.331909],\n",
       "        [  89.845589,  -91.946724, 1120.162842]]),\n",
       " array([[-10.18279539, 854.56274138,  37.68072221],\n",
       "        [-94.09651767, 570.02232857,  56.2605112 ],\n",
       "        [ 52.54595752, 576.97629618,  84.49949104]]))"
      ]
     },
     "execution_count": 5,
     "metadata": {},
     "output_type": "execute_result"
    }
   ],
   "source": [
    "points_vicon, points_3dmd"
   ]
  },
  {
   "cell_type": "code",
   "execution_count": 6,
   "metadata": {},
   "outputs": [
    {
     "data": {
      "text/plain": [
       "PointCloud with 3 points."
      ]
     },
     "execution_count": 6,
     "metadata": {},
     "output_type": "execute_result"
    }
   ],
   "source": [
    "# pcd_vicon\n",
    "pcd_3dmd"
   ]
  },
  {
   "cell_type": "code",
   "execution_count": 7,
   "metadata": {},
   "outputs": [
    {
     "data": {
      "application/vnd.jupyter.widget-view+json": {
       "model_id": "df0a464159be45e3a2e6a693bd20b6e2",
       "version_major": 2,
       "version_minor": 0
      },
      "text/plain": [
       "Widget(value=\"<iframe src='http://localhost:62392/index.html?ui=P_0x7fe6b894fc10_0&reconnect=auto' style='widt…"
      ]
     },
     "metadata": {},
     "output_type": "display_data"
    }
   ],
   "source": [
    "# plot point clouds before calibration\n",
    "import pyvista as pv\n",
    "from mesh4d.analyse import visual\n",
    "\n",
    "pvpcd_3dmd = visual.np2pvpcd(points_3dmd, radius=10, phi_resolution=10, theta_resolution=10)\n",
    "pvpcd_vicon = visual.np2pvpcd(points_vicon, radius=10, phi_resolution=10, theta_resolution=10)\n",
    "\n",
    "scene = pv.Plotter()\n",
    "scene.add_mesh(pvpcd_3dmd, color='Gold')\n",
    "scene.add_mesh(pvpcd_vicon, color='Blue')\n",
    "scene.add_axes(box=True)\n",
    "scene.show()"
   ]
  },
  {
   "attachments": {},
   "cell_type": "markdown",
   "metadata": {},
   "source": [
    "# Pre-alignment and Calibration\n",
    "\n",
    "To facilitate accurate calibration, manual pre-alignment (rotation `r_pre`) is implemented to Vicon key points and yields:\n",
    "\n",
    "| Variables          | Contents                                                |\n",
    "| ------------------ | ------------------------------------------------------- |\n",
    "| `points_vicon_pre` | Pre-aligned Vicon key points as `numpy` (N, 3) array    |\n",
    "| `pcd_vicon_pre`    | Pre-aligned Vicon point cloud as `open3d` point cloud.  |\n",
    "| `pvpcd_vicon_pre`  | Pre-aligned Vicon point cloud as `pyvista` point cloud. |\n",
    "\n",
    "And then the Vicon key points is calibrate with 3dMD key points:\n",
    "\n",
    "| Variables | Contents                          |\n",
    "| --------- | --------------------------------- |\n",
    "| `r_cab`   | The estimated rotation matrix.    |\n",
    "| `s`       | The estimated scaling rate.       |\n",
    "| `t`       | The estimated translation vector. |\n",
    "\n",
    "The estimated calibration parameters are applied to the pre-aligned Vicon point cloud and yields:\n",
    "\n",
    "| Variables          | Contents                                                |\n",
    "| ------------------ | ------------------------------------------------------- |\n",
    "| `points_vicon_cab` | Calibrated Vicon key points as `numpy` (N, 3) array    |\n",
    "| `pvpcd_vicon_cab`  | Calibrated Vicon point cloud as `pyvista` point cloud. |"
   ]
  },
  {
   "cell_type": "code",
   "execution_count": 8,
   "metadata": {},
   "outputs": [],
   "source": [
    "# pre-alignment\n",
    "import copy\n",
    "pcd_vicon_pre = copy.deepcopy(pcd_vicon)\n",
    "r_pre = pcd_vicon_pre.get_rotation_matrix_from_xyz((-np.pi/2, 0, 0))\n",
    "pcd_vicon_pre.rotate(r_pre, center=(0, 0, 0))\n",
    "points_vicon_pre = obj3d.pcd2np(pcd_vicon_pre)"
   ]
  },
  {
   "cell_type": "code",
   "execution_count": 10,
   "metadata": {},
   "outputs": [
    {
     "data": {
      "application/vnd.jupyter.widget-view+json": {
       "model_id": "303da095f7154deb895df3219750af6d",
       "version_major": 2,
       "version_minor": 0
      },
      "text/plain": [
       "Widget(value=\"<iframe src='http://localhost:62392/index.html?ui=P_0x7fe6cb15ea90_1&reconnect=auto' style='widt…"
      ]
     },
     "metadata": {},
     "output_type": "display_data"
    }
   ],
   "source": [
    "# plot point clouds after pre-alignment\n",
    "pvpcd_vicon_pre = visual.np2pvpcd(points_vicon_pre, radius=10, phi_resolution=10, theta_resolution=10)\n",
    "\n",
    "scene = pv.Plotter()\n",
    "scene.add_mesh(pvpcd_vicon_pre, color='Green')\n",
    "scene.add_mesh(pvpcd_3dmd, color='Gold')\n",
    "scene.add_mesh(pvpcd_vicon, color='Blue')\n",
    "scene.add_axes(box=True)\n",
    "scene.show()"
   ]
  },
  {
   "cell_type": "code",
   "execution_count": 11,
   "metadata": {},
   "outputs": [],
   "source": [
    "# cpd rigid registration\n",
    "from probreg import cpd\n",
    "tf_param, _, _ = cpd.registration_cpd(\n",
    "    pcd_vicon_pre, pcd_3dmd, 'rigid', maxiter=int(1e5), tol=1e-5,# update_scale=False,\n",
    ")\n",
    "\n",
    "r_cab = tf_param.rot\n",
    "s = tf_param.scale\n",
    "t = tf_param.t\n",
    "\n",
    "points_vicon_cab = tf_param.transform(points_vicon_pre)"
   ]
  },
  {
   "cell_type": "code",
   "execution_count": 13,
   "metadata": {},
   "outputs": [
    {
     "data": {
      "application/vnd.jupyter.widget-view+json": {
       "model_id": "25cc79b2be80404fbff4ef2b56744fa0",
       "version_major": 2,
       "version_minor": 0
      },
      "text/plain": [
       "Widget(value=\"<iframe src='http://localhost:62392/index.html?ui=P_0x7fe6cae54400_2&reconnect=auto' style='widt…"
      ]
     },
     "metadata": {},
     "output_type": "display_data"
    }
   ],
   "source": [
    "# plot point clouds after calibration\n",
    "# points_3dmd_cab = obj3d.pcd2np(pcd_3dmd_cab)\n",
    "pvpcd_vicon_cab = visual.np2pvpcd(points_vicon_cab, radius=10, phi_resolution=10, theta_resolution=10)\n",
    "\n",
    "scene = pv.Plotter()\n",
    "scene.add_mesh(pvpcd_vicon_cab, color='Gold')\n",
    "scene.add_mesh(pvpcd_3dmd, color='Green')\n",
    "scene.show()"
   ]
  },
  {
   "attachments": {},
   "cell_type": "markdown",
   "metadata": {},
   "source": [
    "# Calibration Validation\n",
    "\n",
    "In previous steps, pre-alignment rotation `r_pre` and the estimated rotation `r_cab` are all implemented:\n",
    "\n",
    "$$\\bm{x}_{3dmd} = s \\bm{R}_{cab} [\\bm{R}_{pre} \\bm{x}_{vicon}] + \\bm{t}\n",
    "= s [\\bm{R}_{cab} \\bm{R}_{pre}] \\bm{x}_{vicon} + \\bm{t}$$\n",
    "\n",
    "Therefore, their mutual effects are calculated as $\\bm{R} = \\bm{R}_{cab} \\bm{R}_{pre}$ stored as `r`, leading to the complete calibration parameters:\n",
    "\n",
    "| Variables | Contents                        |\n",
    "| --------- | ------------------------------- |\n",
    "| `s`       | The scaling rate $s$.           |\n",
    "| `r`       | The rotation matrix $\\bm R$.    |\n",
    "| `t`       | The translation vector $\\bm t$. |\n",
    "\n",
    "_P.S. About the combined parameter $\\bm M$: [Spatial Transformation Matrices - Rainer Goebel](https://www.brainvoyager.com/bv/doc/UsersGuide/CoordsAndTransforms/SpatialTransformationMatrices.html)_\n",
    "\n",
    "$$\\mathcal T(\\bm{x}) = s \\bm{R} \\bm{x} + \\bm{t} = s \\bm{M} \\bm{x}$$\n",
    "\n",
    "To verify its effectiveness, these parameters are applied to the original Vicon point cloud and plotted together with the 3dMD mesh & key points:\n",
    "\n",
    "| Variables         | Contents                                                         |\n",
    "| ----------------- | ---------------------------------------------------------------- |\n",
    "| `mesh`            | 3dMD mesh loaded with `pyvista`.                                 |\n",
    "| `texture`         | 3dMD mesh texture loaded with `pyvista`.                         |\n",
    "| `pvpcd_vicon_val` | Validation calibrated Vicon point cloud as `open3d` point cloud. |"
   ]
  },
  {
   "cell_type": "code",
   "execution_count": 14,
   "metadata": {},
   "outputs": [],
   "source": [
    "# combine pre-alignment and registration\n",
    "r = np.matmul(r_cab, r_pre)"
   ]
  },
  {
   "cell_type": "code",
   "execution_count": 15,
   "metadata": {},
   "outputs": [
    {
     "data": {
      "application/vnd.jupyter.widget-view+json": {
       "model_id": "a5762a497fe0461aafeb221741440f0f",
       "version_major": 2,
       "version_minor": 0
      },
      "text/plain": [
       "Widget(value=\"<iframe src='http://localhost:62392/index.html?ui=P_0x7fe6cae54460_3&reconnect=auto' style='widt…"
      ]
     },
     "metadata": {},
     "output_type": "display_data"
    }
   ],
   "source": [
    "# plot 3dmd data before calibrating to vicon\n",
    "mesh = pv.read('../../../data/meshes/static_3markers/static_standing.000001.obj')\n",
    "texture = pv.read_texture('../../../data/meshes/static_3markers/static_standing.000001.jpg')\n",
    "\n",
    "scene = pv.Plotter()\n",
    "scene.add_mesh(mesh, show_edges=True)\n",
    "scene.add_mesh(pvpcd_3dmd, color='Gold')\n",
    "scene.add_mesh(pvpcd_vicon, color='Blue')\n",
    "scene.show()"
   ]
  },
  {
   "cell_type": "code",
   "execution_count": 16,
   "metadata": {},
   "outputs": [
    {
     "data": {
      "application/vnd.jupyter.widget-view+json": {
       "model_id": "92e69db670244f9cbb1ca6730e3bd09a",
       "version_major": 2,
       "version_minor": 0
      },
      "text/plain": [
       "Widget(value=\"<iframe src='http://localhost:62392/index.html?ui=P_0x7fe6caf2b460_4&reconnect=auto' style='widt…"
      ]
     },
     "metadata": {},
     "output_type": "display_data"
    }
   ],
   "source": [
    "# plot 3dmd data after calibrating to vicon\n",
    "from mesh4d import field\n",
    "s, m = field.transform_rst2sm(r, s, t)\n",
    "\n",
    "pvpcd_vicon_val = copy.deepcopy(pvpcd_vicon)\n",
    "pvpcd_vicon_val.transform(m)\n",
    "pvpcd_vicon_val.scale(s)\n",
    "\n",
    "scene = pv.Plotter()\n",
    "scene.add_mesh(mesh, show_edges=True)\n",
    "scene.add_mesh(pvpcd_3dmd, color='Gold')\n",
    "scene.add_mesh(pvpcd_vicon_val, color='Green')\n",
    "scene.show()"
   ]
  },
  {
   "attachments": {},
   "cell_type": "markdown",
   "metadata": {},
   "source": [
    "# Parameter Saving\n",
    "\n",
    "If `is_output` is set as `True`, the calibration parameters will be outputted to `mesh4d/config/calibrate/` folder:\n",
    "\n",
    "| Variables | Contents                                |\n",
    "| --------- | --------------------------------------- |\n",
    "| `s.npy`   | Storing the scaling rate $s$.           |\n",
    "| `r.npy`   | Storing the rotation matrix $\\bm R$.    |\n",
    "| `t.npy`   | Storing the translation vector $\\bm t$. |"
   ]
  },
  {
   "cell_type": "code",
   "execution_count": 17,
   "metadata": {},
   "outputs": [],
   "source": [
    "# save parameters\n",
    "if is_output:\n",
    "    np.save('r', r)\n",
    "    np.save('s', s)\n",
    "    np.save('t', t)"
   ]
  },
  {
   "attachments": {},
   "cell_type": "markdown",
   "metadata": {},
   "source": [
    "P.S. Comparison of two calibrations based on _6km/h running data_ and _static standing_ data"
   ]
  },
  {
   "cell_type": "code",
   "execution_count": 18,
   "metadata": {},
   "outputs": [
    {
     "data": {
      "text/plain": [
       "(array([[ 0.99884686,  0.04494361, -0.01688256],\n",
       "        [ 0.01434727,  0.05614733,  0.9983194 ],\n",
       "        [ 0.04581599, -0.99741042,  0.05543776]]),\n",
       " array([[ 0.97596883,  0.19838636, -0.09015376],\n",
       "        [ 0.12082303, -0.14835325,  0.98152591],\n",
       "        [ 0.18134675, -0.96883134, -0.16875779]]))"
      ]
     },
     "execution_count": 18,
     "metadata": {},
     "output_type": "execute_result"
    }
   ],
   "source": [
    "r, np.load('legacy/r.npy')"
   ]
  },
  {
   "cell_type": "code",
   "execution_count": 19,
   "metadata": {},
   "outputs": [
    {
     "data": {
      "text/plain": [
       "(0.9845805672618684, array(0.95665592))"
      ]
     },
     "execution_count": 19,
     "metadata": {},
     "output_type": "execute_result"
    }
   ],
   "source": [
    "s, np.load('legacy/s.npy')"
   ]
  },
  {
   "cell_type": "code",
   "execution_count": 20,
   "metadata": {},
   "outputs": [
    {
     "data": {
      "text/plain": [
       "(array([ -12.91906155, -521.41703203,  -70.80417767]),\n",
       " array([  15.42358446, -414.9979231 ,  157.55436241]))"
      ]
     },
     "execution_count": 20,
     "metadata": {},
     "output_type": "execute_result"
    }
   ],
   "source": [
    "t, np.load('legacy/t.npy')"
   ]
  },
  {
   "cell_type": "code",
   "execution_count": null,
   "metadata": {},
   "outputs": [],
   "source": []
  }
 ],
 "metadata": {
  "kernelspec": {
   "display_name": "Python 3.8.8 ('base')",
   "language": "python",
   "name": "python3"
  },
  "language_info": {
   "codemirror_mode": {
    "name": "ipython",
    "version": 3
   },
   "file_extension": ".py",
   "mimetype": "text/x-python",
   "name": "python",
   "nbconvert_exporter": "python",
   "pygments_lexer": "ipython3",
   "version": "3.9.16"
  },
  "orig_nbformat": 4,
  "vscode": {
   "interpreter": {
    "hash": "8c8ccae62b03e03f602162ec2d3ff7715f4331cfb18cae8be1463dcdd08d9f0b"
   }
  }
 },
 "nbformat": 4,
 "nbformat_minor": 2
}
