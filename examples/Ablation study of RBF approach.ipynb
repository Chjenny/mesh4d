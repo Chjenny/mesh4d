{
 "cells": [
  {
   "cell_type": "code",
   "execution_count": null,
   "metadata": {},
   "outputs": [],
   "source": [
    "# add root folder of the project to path\n",
    "import sys\n",
    "sys.path.insert(0, '..')"
   ]
  },
  {
   "cell_type": "code",
   "execution_count": null,
   "metadata": {},
   "outputs": [],
   "source": [
    "# parameter settings\n",
    "is_plot = False\n",
    "is_export = False\n",
    "\n",
    "landmarks_path = '../data/landmarks/refine_6kmh_braless_18markers_12fps.pkl'\n",
    "meshes_path = '../data/meshes/6kmh_braless_26markers/'\n",
    "test_landmarks_path = '../data/test/braless_random_landmarks.pkl'\n",
    "\n",
    "start=0\n",
    "stride = 12\n",
    "end=120\n",
    "\n",
    "export_folder = 'output/rbf_ablation/'"
   ]
  },
  {
   "attachments": {},
   "cell_type": "markdown",
   "metadata": {},
   "source": [
    "# Data Loading"
   ]
  },
  {
   "cell_type": "code",
   "execution_count": null,
   "metadata": {},
   "outputs": [],
   "source": [
    "from mesh4d import obj3d\n",
    "\n",
    "mesh_ls, texture_ls = obj3d.load_mesh_series(\n",
    "    folder=meshes_path,\n",
    "    start=start,\n",
    "    stride=stride,\n",
    "    end=end,\n",
    ")"
   ]
  },
  {
   "cell_type": "code",
   "execution_count": null,
   "metadata": {},
   "outputs": [],
   "source": [
    "from mesh4d import utils\n",
    "\n",
    "landmarks = utils.load_pkl_object(landmarks_path)\n",
    "landmarks.interp_field()"
   ]
  },
  {
   "cell_type": "code",
   "execution_count": null,
   "metadata": {},
   "outputs": [],
   "source": [
    "from mesh4d.analyse.crave import clip_with_contour\n",
    "\n",
    "contour = landmarks.extract(('marker 0', 'marker 2', 'marker 15', 'marker 17'))\n",
    "mesh_clip_ls = clip_with_contour(mesh_ls, start_time=0, fps=12, contour=contour, clip_bound='y', margin=0.5)"
   ]
  },
  {
   "cell_type": "code",
   "execution_count": null,
   "metadata": {},
   "outputs": [],
   "source": [
    "body_ls = obj3d.init_obj_series(\n",
    "    mesh_ls, \n",
    "    obj_type=obj3d.Obj3d_Deform\n",
    "    )"
   ]
  },
  {
   "cell_type": "code",
   "execution_count": null,
   "metadata": {},
   "outputs": [],
   "source": [
    "breast_ls = obj3d.init_obj_series(\n",
    "    mesh_clip_ls, \n",
    "    obj_type=obj3d.Obj3d_Deform\n",
    "    )"
   ]
  },
  {
   "attachments": {},
   "cell_type": "markdown",
   "metadata": {},
   "source": [
    "# Ablation testing class"
   ]
  },
  {
   "cell_type": "code",
   "execution_count": null,
   "metadata": {},
   "outputs": [],
   "source": [
    "from mesh4d.regist.reg_rbf import Obj4d_RBF, Trans_Nonrigid_RBF\n",
    "\n",
    "class Obj4d_RBF_ablation(Obj4d_RBF):\n",
    "    def __init__(self, enable_rigid: bool = False, enable_nonrigid: bool = False, k_nbr=1, kernel='thin_plate_spline', **kwargs):\n",
    "        super().__init__(enable_rigid, enable_nonrigid, **kwargs)\n",
    "        self.k_nbr = k_nbr\n",
    "        self.kernel = kernel\n",
    "\n",
    "    def process_nonrigid_dynamic(self, idx_source: int, idx_target: int, landmark_name: str, **kwargs):\n",
    "        trans = Trans_Nonrigid_RBF(\n",
    "            source_obj=self.obj_ls[idx_source],\n",
    "            target_obj=self.obj_ls[idx_target],\n",
    "        )\n",
    "        trans.regist(landmark_name, k_nbr=self.k_nbr, kernel=self.kernel, **kwargs)\n",
    "        self.obj_ls[idx_source].set_trans_nonrigid(trans)"
   ]
  },
  {
   "attachments": {},
   "cell_type": "markdown",
   "metadata": {},
   "source": [
    "# Kernel selection"
   ]
  },
  {
   "cell_type": "code",
   "execution_count": null,
   "metadata": {},
   "outputs": [],
   "source": [
    "kernel_results = {\n",
    "    'control landmarks': {},\n",
    "    'non-control landmarks': {},\n",
    "}"
   ]
  },
  {
   "attachments": {},
   "cell_type": "markdown",
   "metadata": {},
   "source": [
    "## Control landmarks"
   ]
  },
  {
   "cell_type": "code",
   "execution_count": null,
   "metadata": {},
   "outputs": [],
   "source": [
    "import time\n",
    "import mesh4d\n",
    "from mesh4d import kps\n",
    "mesh4d.output_msg = False\n",
    "\n",
    "for k_nbr in [0, ]:\n",
    "    for kernel in ['thin_plate_spline', 'linear', 'cubic', 'quintic']:\n",
    "        kernel_results['control landmarks'][kernel] = {}\n",
    "        results = kernel_results['control landmarks'][kernel]\n",
    "        \n",
    "        print('='*70)\n",
    "        print('knbr {} - kernel {}'.format(k_nbr, kernel))\n",
    "\n",
    "        # registration\n",
    "        start_time = time.time()\n",
    "\n",
    "        o4 = Obj4d_RBF_ablation(\n",
    "            fps=120 / stride,\n",
    "            enable_rigid=False,\n",
    "            enable_nonrigid=True,\n",
    "            k_nbr=k_nbr,\n",
    "            kernel=kernel,\n",
    "        )\n",
    "\n",
    "        o4.add_obj(*body_ls)\n",
    "        o4.load_markerset('landmarks', landmarks)\n",
    "        o4.regist('landmarks')\n",
    "\n",
    "        duration = time.time() - start_time\n",
    "        \n",
    "        # computation time\n",
    "        print(\"computation time: {}\".format(duration))\n",
    "        results['duration'] = duration\n",
    "        \n",
    "        # control landmarks\n",
    "        kps_source = landmarks.get_time_coord(0)\n",
    "        o4.vkps_track(kps_source, frame_id=0)\n",
    "        vkps = o4.assemble_markerset(name='vkps')\n",
    "        diff = kps.MarkerSet.diff(vkps, landmarks)\n",
    "\n",
    "        print(diff['diff_str'])\n",
    "        results['dist_mean'] = diff['dist_mean']\n",
    "        results['dist_std'] = diff['dist_std']"
   ]
  },
  {
   "attachments": {},
   "cell_type": "markdown",
   "metadata": {},
   "source": [
    "## Non-control landmarks"
   ]
  },
  {
   "cell_type": "code",
   "execution_count": null,
   "metadata": {},
   "outputs": [],
   "source": [
    "import mesh4d\n",
    "import numpy as np\n",
    "mesh4d.output_msg = False\n",
    "\n",
    "for k_nbr in [0, ]:\n",
    "    for kernel in ['thin_plate_spline', 'linear', 'cubic', 'quintic']:\n",
    "        kernel_results['non-control landmarks'][kernel] = {}\n",
    "        results = kernel_results['non-control landmarks'][kernel]\n",
    "\n",
    "        print('='*70)\n",
    "        print('knbr {} - kernel {}'.format(k_nbr, kernel))\n",
    "\n",
    "        dist_ls = []\n",
    "        duration_ls = []\n",
    "\n",
    "        # k-fold cross-verification\n",
    "        for name in landmarks.markers.keys():\n",
    "            # split dataset\n",
    "            landmarks_test, landmarks_train = landmarks.split((name, ))\n",
    "\n",
    "            # registration\n",
    "            start_time = time.time()\n",
    "            \n",
    "            o4 = Obj4d_RBF_ablation(\n",
    "                fps=120 / stride,\n",
    "                enable_rigid=False,\n",
    "                enable_nonrigid=True,\n",
    "                k_nbr=k_nbr,\n",
    "                kernel=kernel,\n",
    "            )\n",
    "\n",
    "            o4.add_obj(*body_ls)\n",
    "            o4.load_markerset('landmarks_train', landmarks_train)\n",
    "            o4.load_markerset('landmarks_test', landmarks_test)\n",
    "            o4.regist('landmarks_train')\n",
    "\n",
    "            duration = time.time() - start_time\n",
    "            duration_ls.append(duration)\n",
    "\n",
    "            # virtual key points tracking\n",
    "            kps_source = landmarks_test.get_time_coord(0)\n",
    "            o4.vkps_track(kps_source, frame_id=0, name='vkps')\n",
    "            vkps = o4.assemble_markerset(name='vkps')\n",
    "            diff = kps.MarkerSet.diff(vkps, landmarks_test)\n",
    "\n",
    "            for marker_diff in diff['diff_dict'].values():\n",
    "                dist_ls.append(marker_diff['dist'])\n",
    "        \n",
    "        dist_mean = np.mean(np.array(dist_ls))\n",
    "        dist_std = np.std(np.array(dist_ls))\n",
    "\n",
    "        print(\"computation time: {}\".format(np.mean(np.array(duration))))\n",
    "        print('overall error: {:.2f} ± {:.2f} (mm)'.format(dist_mean, dist_std))\n",
    "\n",
    "        results['duration'] = duration\n",
    "        results['dist_mean'] = diff['dist_mean']\n",
    "        results['dist_std'] = diff['dist_std']"
   ]
  },
  {
   "cell_type": "code",
   "execution_count": null,
   "metadata": {},
   "outputs": [],
   "source": [
    "utils.save_pkl_object(kernel_results, export_folder, 'kernel_results')"
   ]
  },
  {
   "attachments": {},
   "cell_type": "markdown",
   "metadata": {},
   "source": [
    "# Post-alignment"
   ]
  },
  {
   "cell_type": "code",
   "execution_count": null,
   "metadata": {},
   "outputs": [],
   "source": [
    "align_results = {\n",
    "    'merge': {},\n",
    "}"
   ]
  },
  {
   "attachments": {},
   "cell_type": "markdown",
   "metadata": {},
   "source": [
    "## Shape mergence improvement"
   ]
  },
  {
   "cell_type": "code",
   "execution_count": null,
   "metadata": {},
   "outputs": [],
   "source": [
    "import mesh4d\n",
    "import numpy as np\n",
    "from scipy.spatial import KDTree\n",
    "mesh4d.output_msg = False\n",
    "\n",
    "for k_nbr in [0, 1, 2, 5]:\n",
    "    for kernel in ['thin_plate_spline', ]:\n",
    "        align_results['merge'][k_nbr] = {}\n",
    "        results = align_results['merge'][k_nbr]\n",
    "\n",
    "        print('='*70)\n",
    "        print('knbr {} - kernel {}'.format(k_nbr, kernel))\n",
    "\n",
    "        # registration\n",
    "        start_time = time.time()\n",
    "\n",
    "        o4 = Obj4d_RBF_ablation(\n",
    "            fps=120 / stride,\n",
    "            enable_rigid=False,\n",
    "            enable_nonrigid=True,\n",
    "            k_nbr=k_nbr,\n",
    "            kernel=kernel,\n",
    "        )\n",
    "\n",
    "        o4.add_obj(*body_ls)\n",
    "        o4.load_markerset('landmarks', landmarks)\n",
    "        o4.regist('landmarks')\n",
    "\n",
    "        duration = time.time() - start_time\n",
    "        \n",
    "        # computation time\n",
    "        print(\"computation time: {}\".format(duration))\n",
    "        results['duration'] = duration\n",
    "        \n",
    "        # shape mergence\n",
    "        dist_ls = []\n",
    "\n",
    "        for id in range(len(o4.obj_ls) - 1):\n",
    "            # get predicted deform points\n",
    "            # source_points = o4.obj_ls[id].get_vertices()\n",
    "            source_points = breast_ls[id].get_vertices()\n",
    "            deform_points = o4.obj_ls[id].trans_nonrigid.shift_points(source_points)\n",
    "            \n",
    "            # search deform points' nearest points in target points\n",
    "            target_points = o4.obj_ls[id + 1].get_vertices()\n",
    "            tree = KDTree(target_points)\n",
    "            _, idx = tree.query(deform_points)\n",
    "            target_nearest_points = target_points[idx]\n",
    "\n",
    "            # calculate the distance from deform points and its nearest points in target points\n",
    "            dist = np.linalg.norm(target_nearest_points - deform_points, axis=1)\n",
    "            dist_ls.append(dist)\n",
    "\n",
    "        dist_array = np.concatenate(dist_ls)\n",
    "        results['dist_mean'] = np.mean(dist_array)\n",
    "        results['dist_std'] = np.std(dist_array)\n",
    "\n",
    "        print(\"nearest point distance: {:.2f} ± {:.2f} (mm)\".format(results['dist_mean'], results['dist_std']))"
   ]
  },
  {
   "cell_type": "code",
   "execution_count": null,
   "metadata": {},
   "outputs": [],
   "source": [
    "utils.save_pkl_object(align_results, export_folder, 'align_results')"
   ]
  }
 ],
 "metadata": {
  "kernelspec": {
   "display_name": "base",
   "language": "python",
   "name": "python3"
  },
  "language_info": {
   "codemirror_mode": {
    "name": "ipython",
    "version": 3
   },
   "file_extension": ".py",
   "mimetype": "text/x-python",
   "name": "python",
   "nbconvert_exporter": "python",
   "pygments_lexer": "ipython3",
   "version": "3.9.16"
  },
  "vscode": {
   "interpreter": {
    "hash": "8c8ccae62b03e03f602162ec2d3ff7715f4331cfb18cae8be1463dcdd08d9f0b"
   }
  }
 },
 "nbformat": 4,
 "nbformat_minor": 2
}
