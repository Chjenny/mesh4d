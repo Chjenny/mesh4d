{
 "cells": [
  {
   "cell_type": "code",
   "execution_count": null,
   "metadata": {},
   "outputs": [],
   "source": [
    "# add root folder of the project to path\n",
    "import sys\n",
    "sys.path.insert(0, '..')"
   ]
  },
  {
   "cell_type": "code",
   "execution_count": null,
   "metadata": {},
   "outputs": [],
   "source": [
    "# parameter settings\n",
    "is_plot = False\n",
    "is_export = False\n",
    "\n",
    "landmarks_path = '../data/landmarks/refine_6kmh_braless_18markers_12fps.pkl'\n",
    "meshes_path = '../data/meshes/6kmh_braless_26markers/'\n",
    "test_landmarks_path = '../data/test/braless_random_landmarks.pkl'\n",
    "\n",
    "start=0\n",
    "stride = 12\n",
    "end=120\n",
    "\n",
    "export_folder = 'output/rbf_ablation/'"
   ]
  },
  {
   "attachments": {},
   "cell_type": "markdown",
   "metadata": {},
   "source": [
    "# Data Loading"
   ]
  },
  {
   "cell_type": "code",
   "execution_count": null,
   "metadata": {},
   "outputs": [],
   "source": [
    "from mesh4d import obj3d\n",
    "\n",
    "mesh_ls, texture_ls = obj3d.load_mesh_series(\n",
    "    folder=meshes_path,\n",
    "    start=start,\n",
    "    stride=stride,\n",
    "    end=end,\n",
    ")"
   ]
  },
  {
   "cell_type": "code",
   "execution_count": null,
   "metadata": {},
   "outputs": [],
   "source": [
    "from mesh4d import utils\n",
    "\n",
    "landmarks = utils.load_pkl_object(landmarks_path)\n",
    "landmarks.interp_field()"
   ]
  },
  {
   "cell_type": "code",
   "execution_count": null,
   "metadata": {},
   "outputs": [],
   "source": [
    "from mesh4d.analyse.crave import clip_with_contour\n",
    "\n",
    "contour = landmarks.extract(('marker 0', 'marker 2', 'marker 15', 'marker 17'))\n",
    "mesh_clip_ls = clip_with_contour(mesh_ls, start_time=0, fps=12, contour=contour, clip_bound='y', margin=0.5)"
   ]
  },
  {
   "cell_type": "code",
   "execution_count": null,
   "metadata": {},
   "outputs": [],
   "source": [
    "body_ls = obj3d.init_obj_series(\n",
    "    mesh_ls, \n",
    "    obj_type=obj3d.Obj3d_Deform\n",
    "    )"
   ]
  },
  {
   "cell_type": "code",
   "execution_count": null,
   "metadata": {},
   "outputs": [],
   "source": [
    "breast_ls = obj3d.init_obj_series(\n",
    "    mesh_clip_ls, \n",
    "    obj_type=obj3d.Obj3d_Deform\n",
    "    )"
   ]
  },
  {
   "attachments": {},
   "cell_type": "markdown",
   "metadata": {},
   "source": [
    "# Ablation testing class"
   ]
  },
  {
   "cell_type": "code",
   "execution_count": null,
   "metadata": {},
   "outputs": [],
   "source": [
    "from mesh4d.regist.reg_rbf import Obj4d_RBF, Trans_Nonrigid_RBF\n",
    "\n",
    "class Obj4d_RBF_ablation(Obj4d_RBF):\n",
    "    def __init__(self, enable_rigid: bool = False, enable_nonrigid: bool = False, k_nbr=1, kernel='thin_plate_spline', **kwargs):\n",
    "        super().__init__(enable_rigid, enable_nonrigid, **kwargs)\n",
    "        self.k_nbr = k_nbr\n",
    "        self.kernel = kernel\n",
    "\n",
    "    def process_nonrigid_dynamic(self, idx_source: int, idx_target: int, landmark_name: str, **kwargs):\n",
    "        trans = Trans_Nonrigid_RBF(\n",
    "            source_obj=self.obj_ls[idx_source],\n",
    "            target_obj=self.obj_ls[idx_target],\n",
    "        )\n",
    "        trans.regist(landmark_name, k_nbr=self.k_nbr, kernel=self.kernel, **kwargs)\n",
    "        self.obj_ls[idx_source].set_trans_nonrigid(trans)"
   ]
  },
  {
   "attachments": {},
   "cell_type": "markdown",
   "metadata": {},
   "source": [
    "# Kernel selection"
   ]
  },
  {
   "cell_type": "code",
   "execution_count": null,
   "metadata": {},
   "outputs": [],
   "source": [
    "kernel_results = {\n",
    "    'control landmarks': {},\n",
    "    'non-control landmarks': {},\n",
    "}"
   ]
  },
  {
   "attachments": {},
   "cell_type": "markdown",
   "metadata": {},
   "source": [
    "## Control landmarks"
   ]
  },
  {
   "cell_type": "code",
   "execution_count": null,
   "metadata": {},
   "outputs": [],
   "source": [
    "import time\n",
    "import mesh4d\n",
    "from mesh4d import kps\n",
    "mesh4d.output_msg = False\n",
    "\n",
    "for k_nbr in [0, ]:\n",
    "    for kernel in ['thin_plate_spline', 'linear', 'cubic', 'quintic']:\n",
    "        kernel_results['control landmarks'][kernel] = {}\n",
    "        results = kernel_results['control landmarks'][kernel]\n",
    "        \n",
    "        print('='*70)\n",
    "        print('knbr {} - kernel {}'.format(k_nbr, kernel))\n",
    "\n",
    "        # registration\n",
    "        start_time = time.time()\n",
    "\n",
    "        o4 = Obj4d_RBF_ablation(\n",
    "            fps=120 / stride,\n",
    "            enable_rigid=False,\n",
    "            enable_nonrigid=True,\n",
    "            k_nbr=k_nbr,\n",
    "            kernel=kernel,\n",
    "        )\n",
    "\n",
    "        o4.add_obj(*body_ls)\n",
    "        o4.load_markerset('landmarks', landmarks)\n",
    "        o4.regist('landmarks')\n",
    "\n",
    "        duration = time.time() - start_time\n",
    "        \n",
    "        # computation time\n",
    "        print(\"computation time: {}\".format(duration))\n",
    "        results['duration'] = duration\n",
    "        \n",
    "        # control landmarks\n",
    "        kps_source = landmarks.get_time_coord(0)\n",
    "        o4.vkps_track(kps_source, frame_id=0)\n",
    "        vkps = o4.assemble_markerset(name='vkps')\n",
    "        diff = kps.MarkerSet.diff(vkps, landmarks)\n",
    "\n",
    "        print(diff['diff_str'])\n",
    "        results['dist_mean'] = diff['dist_mean']\n",
    "        results['dist_std'] = diff['dist_std']"
   ]
  },
  {
   "attachments": {},
   "cell_type": "markdown",
   "metadata": {},
   "source": [
    "## Non-control landmarks"
   ]
  },
  {
   "cell_type": "code",
   "execution_count": null,
   "metadata": {},
   "outputs": [],
   "source": [
    "import mesh4d\n",
    "import numpy as np\n",
    "mesh4d.output_msg = False\n",
    "\n",
    "for k_nbr in [0, ]:\n",
    "    for kernel in ['thin_plate_spline', 'linear', 'cubic', 'quintic']:\n",
    "        kernel_results['non-control landmarks'][kernel] = {}\n",
    "        results = kernel_results['non-control landmarks'][kernel]\n",
    "\n",
    "        print('='*70)\n",
    "        print('knbr {} - kernel {}'.format(k_nbr, kernel))\n",
    "\n",
    "        dist_ls = []\n",
    "        duration_ls = []\n",
    "\n",
    "        # k-fold cross-verification\n",
    "        for name in landmarks.markers.keys():\n",
    "            # split dataset\n",
    "            landmarks_test, landmarks_train = landmarks.split((name, ))\n",
    "\n",
    "            # registration\n",
    "            start_time = time.time()\n",
    "            \n",
    "            o4 = Obj4d_RBF_ablation(\n",
    "                fps=120 / stride,\n",
    "                enable_rigid=False,\n",
    "                enable_nonrigid=True,\n",
    "                k_nbr=k_nbr,\n",
    "                kernel=kernel,\n",
    "            )\n",
    "\n",
    "            o4.add_obj(*body_ls)\n",
    "            o4.load_markerset('landmarks_train', landmarks_train)\n",
    "            o4.load_markerset('landmarks_test', landmarks_test)\n",
    "            o4.regist('landmarks_train')\n",
    "\n",
    "            duration = time.time() - start_time\n",
    "            duration_ls.append(duration)\n",
    "\n",
    "            # virtual key points tracking\n",
    "            kps_source = landmarks_test.get_time_coord(0)\n",
    "            o4.vkps_track(kps_source, frame_id=0, name='vkps')\n",
    "            vkps = o4.assemble_markerset(name='vkps')\n",
    "            diff = kps.MarkerSet.diff(vkps, landmarks_test)\n",
    "\n",
    "            for marker_diff in diff['diff_dict'].values():\n",
    "                dist_ls.append(marker_diff['dist'])\n",
    "        \n",
    "        dist_mean = np.mean(np.array(dist_ls))\n",
    "        dist_std = np.std(np.array(dist_ls))\n",
    "\n",
    "        print(\"computation time: {}\".format(np.mean(np.array(duration))))\n",
    "        print('overall error: {:.2f} ± {:.2f} (mm)'.format(dist_mean, dist_std))\n",
    "\n",
    "        results['duration'] = duration\n",
    "        results['dist_mean'] = diff['dist_mean']\n",
    "        results['dist_std'] = diff['dist_std']"
   ]
  },
  {
   "attachments": {},
   "cell_type": "markdown",
   "metadata": {},
   "source": [
    "## Visualization"
   ]
  },
  {
   "cell_type": "code",
   "execution_count": null,
   "metadata": {},
   "outputs": [],
   "source": [
    "# data aggregate\n",
    "duration_ls = []\n",
    "control_dist_mean_ls = []\n",
    "control_dist_std_ls = []\n",
    "\n",
    "for kernel in kernel_results['control landmarks'].values():\n",
    "    duration_ls.append(kernel['duration'])\n",
    "    control_dist_mean_ls.append(kernel['dist_mean']/10)\n",
    "    control_dist_std_ls.append(kernel['dist_std']/10)\n",
    "\n",
    "noncontrol_dist_mean_ls = []\n",
    "noncontrol_dist_std_ls = []\n",
    "\n",
    "for kernel in kernel_results['non-control landmarks'].values():\n",
    "    noncontrol_dist_mean_ls.append(kernel['dist_mean']/10)\n",
    "    noncontrol_dist_std_ls.append(kernel['dist_std']/10)"
   ]
  },
  {
   "cell_type": "code",
   "execution_count": null,
   "metadata": {},
   "outputs": [],
   "source": [
    "import matplotlib.pyplot as plt\n",
    "plt.rcParams['figure.dpi'] = 600\n",
    "\n",
    "fig, ax1 = plt.subplots()\n",
    "ax2 = ax1.twinx()\n",
    "\n",
    "# control landmarks\n",
    "ax1.bar(np.arange(\n",
    "    len(control_dist_mean_ls)) * 4, control_dist_mean_ls, color='olive',\n",
    "    label='control landmarks alginment',\n",
    "    tick_label= ['TPS', 'linear', 'cubic', 'quintic'],\n",
    "    )\n",
    "\n",
    "# non-control landmarks\n",
    "ax1.bar(\n",
    "    np.arange(len(noncontrol_dist_mean_ls)) * 4 + 1, noncontrol_dist_mean_ls, color='goldenrod',\n",
    "    label='non-control landmarks alginment',\n",
    "    )\n",
    "\n",
    "# duration\n",
    "ax2.bar(np.arange(len(duration_ls)) * 4 + 2, duration_ls, color='teal', label='computation time')\n",
    "\n",
    "ax1.set_ylabel('Alignment Error (cm)')\n",
    "ax2.set_ylabel('Computation Time (s)')\n",
    "ax1.set_yscale('log')\n",
    "ax1.legend(loc=[0.25, 0.85])\n",
    "ax2.legend(loc=[0.25, 0.77])\n",
    "plt.grid(linestyle='--', axis='y')"
   ]
  },
  {
   "attachments": {},
   "cell_type": "markdown",
   "metadata": {},
   "source": [
    "# Post-alignment"
   ]
  },
  {
   "cell_type": "code",
   "execution_count": null,
   "metadata": {},
   "outputs": [],
   "source": [
    "align_results = {\n",
    "    'control landmarks': {},\n",
    "    'non-control landmarks': {},\n",
    "}"
   ]
  },
  {
   "attachments": {},
   "cell_type": "markdown",
   "metadata": {},
   "source": [
    "## Shape mergence improvement"
   ]
  },
  {
   "cell_type": "code",
   "execution_count": null,
   "metadata": {},
   "outputs": [],
   "source": [
    "import mesh4d\n",
    "import numpy as np\n",
    "from scipy.spatial import KDTree\n",
    "mesh4d.output_msg = False\n",
    "\n",
    "for k_nbr in [0, 1, 2, 5]:\n",
    "    for kernel in ['thin_plate_spline', ]:\n",
    "        align_results['merge'][k_nbr] = {}\n",
    "        results = align_results['merge'][k_nbr]\n",
    "\n",
    "        print('='*70)\n",
    "        print('knbr {} - kernel {}'.format(k_nbr, kernel))\n",
    "\n",
    "        # registration\n",
    "        start_time = time.time()\n",
    "\n",
    "        o4 = Obj4d_RBF_ablation(\n",
    "            fps=120 / stride,\n",
    "            enable_rigid=False,\n",
    "            enable_nonrigid=True,\n",
    "            k_nbr=k_nbr,\n",
    "            kernel=kernel,\n",
    "        )\n",
    "\n",
    "        o4.add_obj(*body_ls)\n",
    "        o4.load_markerset('landmarks', landmarks)\n",
    "        o4.regist('landmarks')\n",
    "\n",
    "        duration = time.time() - start_time\n",
    "        \n",
    "        # computation time\n",
    "        print(\"computation time: {}\".format(duration))\n",
    "        results['duration'] = duration\n",
    "        \n",
    "        # shape mergence\n",
    "        dist_ls = []\n",
    "\n",
    "        for id in range(len(o4.obj_ls) - 1):\n",
    "            # get predicted deform points\n",
    "            source_points = o4.obj_ls[id].get_vertices()\n",
    "            deform_points = o4.obj_ls[id].trans_nonrigid.shift_points(source_points)\n",
    "            \n",
    "            # search deform points' nearest points in target points\n",
    "            target_points = o4.obj_ls[id + 1].get_vertices()\n",
    "            tree = KDTree(target_points)\n",
    "            _, idx = tree.query(deform_points)\n",
    "            target_nearest_points = target_points[idx]\n",
    "\n",
    "            # calculate the distance from deform points and its nearest points in target points\n",
    "            dist = np.linalg.norm(target_nearest_points - deform_points, axis=1)\n",
    "            dist_ls.append(dist)\n",
    "\n",
    "        dist_array = np.concatenate(dist_ls)\n",
    "        results['dist_mean'] = np.mean(dist_array)\n",
    "        results['dist_std'] = np.std(dist_array)\n",
    "\n",
    "        print(\"nearest point distance: {:.2f} ± {:.2f} (mm)\".format(results['dist_mean'], results['dist_std']))"
   ]
  },
  {
   "attachments": {},
   "cell_type": "markdown",
   "metadata": {},
   "source": [
    "## Non-control landmarks tracking"
   ]
  },
  {
   "cell_type": "code",
   "execution_count": null,
   "metadata": {},
   "outputs": [],
   "source": [
    "import mesh4d\n",
    "import numpy as np\n",
    "mesh4d.output_msg = False\n",
    "\n",
    "for k_nbr in [0, 1, 2, 5]:\n",
    "    for kernel in ['thin_plate_spline', ]:\n",
    "        align_results['non-control landmarks'][k_nbr] = {}\n",
    "        results = align_results['non-control landmarks'][k_nbr]\n",
    "\n",
    "        print('='*70)\n",
    "        print('knbr {} - kernel {}'.format(k_nbr, kernel))\n",
    "\n",
    "        dist_ls = []\n",
    "        duration_ls = []\n",
    "\n",
    "        # k-fold cross-verification\n",
    "        for name in landmarks.markers.keys():\n",
    "            # split dataset\n",
    "            landmarks_test, landmarks_train = landmarks.split((name, ))\n",
    "\n",
    "            # registration\n",
    "            start_time = time.time()\n",
    "            \n",
    "            o4 = Obj4d_RBF_ablation(\n",
    "                fps=120 / stride,\n",
    "                enable_rigid=False,\n",
    "                enable_nonrigid=True,\n",
    "                k_nbr=k_nbr,\n",
    "                kernel=kernel,\n",
    "            )\n",
    "\n",
    "            o4.add_obj(*body_ls)\n",
    "            o4.load_markerset('landmarks_train', landmarks_train)\n",
    "            o4.load_markerset('landmarks_test', landmarks_test)\n",
    "            o4.regist('landmarks_train')\n",
    "\n",
    "            duration = time.time() - start_time\n",
    "            duration_ls.append(duration)\n",
    "\n",
    "            # virtual key points tracking\n",
    "            kps_source = landmarks_test.get_time_coord(0)\n",
    "            o4.vkps_track(kps_source, frame_id=0, name='vkps')\n",
    "            vkps = o4.assemble_markerset(name='vkps')\n",
    "            diff = kps.MarkerSet.diff(vkps, landmarks_test)\n",
    "\n",
    "            for marker_diff in diff['diff_dict'].values():\n",
    "                dist_ls.append(marker_diff['dist'])\n",
    "        \n",
    "        dist_mean = np.mean(np.array(dist_ls))\n",
    "        dist_std = np.std(np.array(dist_ls))\n",
    "\n",
    "        print(\"computation time: {}\".format(np.mean(np.array(duration))))\n",
    "        print('overall error: {:.2f} ± {:.2f} (mm)'.format(dist_mean, dist_std))\n",
    "\n",
    "        results['duration'] = duration\n",
    "        results['dist_mean'] = diff['dist_mean']\n",
    "        results['dist_std'] = diff['dist_std']"
   ]
  },
  {
   "cell_type": "code",
   "execution_count": null,
   "metadata": {},
   "outputs": [],
   "source": [
    "align_results['non-control landmarks']"
   ]
  },
  {
   "attachments": {},
   "cell_type": "markdown",
   "metadata": {},
   "source": [
    "## Visualization"
   ]
  },
  {
   "cell_type": "code",
   "execution_count": null,
   "metadata": {},
   "outputs": [],
   "source": [
    "# data aggregate\n",
    "duration_ls = []\n",
    "merge_dist_mean_ls = []\n",
    "noncontrol_dist_mean_ls = []\n",
    "\n",
    "for k_nbr in align_results['merge'].values():\n",
    "    duration_ls.append(k_nbr['duration'])\n",
    "    merge_dist_mean_ls.append(k_nbr['dist_mean']/10)\n",
    "\n",
    "for k_nbr in align_results['merge'].values():\n",
    "    noncontrol_dist_mean_ls.append(k_nbr['dist_mean']/10)"
   ]
  },
  {
   "cell_type": "code",
   "execution_count": null,
   "metadata": {},
   "outputs": [],
   "source": [
    "import matplotlib.pyplot as plt\n",
    "plt.rcParams['figure.dpi'] = 600\n",
    "\n",
    "fig, ax1 = plt.subplots()\n",
    "ax2 = ax1.twinx()\n",
    "\n",
    "# shape mergence\n",
    "ax1.bar(np.arange(\n",
    "    len(merge_dist_mean_ls)) * 4, merge_dist_mean_ls, color='olive',\n",
    "    label='shape alignment',\n",
    "    )\n",
    "\n",
    "# non-control landmarks\n",
    "ax1.bar(np.arange(\n",
    "    len(noncontrol_dist_mean_ls)) * 4 + 1, merge_dist_mean_ls, color='goldenrod',\n",
    "    label='non-control landmarks',\n",
    "    tick_label= ['None', '1', '2', '5'],\n",
    "    )\n",
    "\n",
    "# duration\n",
    "ax2.bar(np.arange(len(duration_ls)) * 4 + 2, duration_ls, color='teal', label='computation time')\n",
    "\n",
    "ax1.set_xlabel('$M$ in post alignment ')\n",
    "ax1.set_ylabel('Shape Alignment Distance (cm)')\n",
    "ax1.set_yscale('log')\n",
    "ax1.legend(loc=[0.01, 0.48])\n",
    "\n",
    "ax2.set_ylabel('Computation Time (s)')\n",
    "ax2.legend(loc=[0.01, 0.4])\n",
    "\n",
    "plt.grid(linestyle='--', axis='y')"
   ]
  },
  {
   "attachments": {},
   "cell_type": "markdown",
   "metadata": {},
   "source": [
    "## Tracking accuracy improvement"
   ]
  },
  {
   "attachments": {},
   "cell_type": "markdown",
   "metadata": {},
   "source": [
    "from numpy import random\n",
    "from numpy.random import default_rng\n",
    "\n",
    "g = default_rng(42)\n",
    "\n",
    "align_results = {}\n",
    "try_num = 3\n",
    "\n",
    "for point_num in [4, 8, 12, 16]:\n",
    "    align_results[point_num] = {}\n",
    "        \n",
    "    for k_nbr in [0, 1]:\n",
    "        for kernel in ['thin_plate_spline', ]:\n",
    "            print('='*70)\n",
    "            print('point_num {} - knbr {} - kernel {}'.format(point_num, k_nbr, kernel))\n",
    "            \n",
    "            align_results[point_num][k_nbr] = {}\n",
    "            results = align_results[point_num][k_nbr]\n",
    "            dist_ls = []\n",
    "            duration_ls = []\n",
    "            \n",
    "            for _ in range(try_num):\n",
    "                # split dataset\n",
    "                indices = g.choice(18, size=point_num, replace=False)\n",
    "                landmarks_train, landmarks_test = landmarks.split(['marker {}'.format(id) for id in indices])\n",
    "                \n",
    "                # registration\n",
    "                start_time = time.time()\n",
    "                \n",
    "                o4 = Obj4d_RBF_ablation(\n",
    "                    fps=120 / stride,\n",
    "                    enable_rigid=False,\n",
    "                    enable_nonrigid=True,\n",
    "                    k_nbr=k_nbr,\n",
    "                    kernel=kernel,\n",
    "                )\n",
    "\n",
    "                o4.add_obj(*body_ls)\n",
    "                o4.load_markerset('landmarks_train', landmarks_train)\n",
    "                o4.load_markerset('landmarks_test', landmarks_test)\n",
    "                o4.regist('landmarks_train')\n",
    "\n",
    "                duration = time.time() - start_time\n",
    "                duration_ls.append(duration)\n",
    "\n",
    "                # virtual key points tracking\n",
    "                kps_source = landmarks_test.get_time_coord(0)\n",
    "                o4.vkps_track(kps_source, frame_id=0, name='vkps')\n",
    "                vkps = o4.assemble_markerset(name='vkps')\n",
    "                diff = kps.MarkerSet.diff(vkps, landmarks_test)\n",
    "\n",
    "                for marker_diff in diff['diff_dict'].values():\n",
    "                    dist_ls.append(marker_diff['dist'])\n",
    "                \n",
    "            dist_mean = np.mean(np.array(dist_ls))\n",
    "            dist_std = np.std(np.array(dist_ls))\n",
    "            results['dist_mean'] = dist_mean\n",
    "            results['dist_std'] = dist_std\n",
    "\n",
    "            print('-'*70)\n",
    "            print(\"computation time: {}\".format(np.mean(np.array(duration))))\n",
    "            print('overall error: {:.2f} ± {:.2f} (mm)'.format(dist_mean, dist_std))"
   ]
  },
  {
   "attachments": {},
   "cell_type": "markdown",
   "metadata": {},
   "source": [
    "from scipy.interpolate import interp1d\n",
    "import matplotlib.pyplot as plt\n",
    "plt.rcParams['figure.dpi'] = 600\n",
    "\n",
    "# sample improvements\n",
    "ratio_ls = []\n",
    "improve_ls = []\n",
    "\n",
    "for point_num, result in align_results.items():\n",
    "    ratio_ls.append(point_num / 18 * 100)\n",
    "    improve_ls.append((1 - result[1]['dist_mean'] / result[0]['dist_mean']) * 100)\n",
    "\n",
    "plt.scatter(ratio_ls, improve_ls)\n",
    "\n",
    "# continues improvements\n",
    "y = interp1d(ratio_ls, improve_ls, kind='quadratic')\n",
    "xs = np.linspace(np.min(ratio_ls), np.max(ratio_ls), num=100, endpoint=True)\n",
    "plt.plot(xs, y(xs), linestyle='--')\n",
    "\n",
    "plt.xlabel('Landmarks Coverage Rate (%)')\n",
    "plt.ylabel('Accuracy Improvement (%)')\n",
    "plt.grid('--')"
   ]
  },
  {
   "cell_type": "code",
   "execution_count": null,
   "metadata": {},
   "outputs": [],
   "source": []
  }
 ],
 "metadata": {
  "kernelspec": {
   "display_name": "base",
   "language": "python",
   "name": "python3"
  },
  "language_info": {
   "codemirror_mode": {
    "name": "ipython",
    "version": 3
   },
   "file_extension": ".py",
   "mimetype": "text/x-python",
   "name": "python",
   "nbconvert_exporter": "python",
   "pygments_lexer": "ipython3",
   "version": "3.9.16"
  },
  "vscode": {
   "interpreter": {
    "hash": "8c8ccae62b03e03f602162ec2d3ff7715f4331cfb18cae8be1463dcdd08d9f0b"
   }
  }
 },
 "nbformat": 4,
 "nbformat_minor": 2
}
