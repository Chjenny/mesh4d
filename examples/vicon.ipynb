{
 "cells": [
  {
   "cell_type": "code",
   "execution_count": 1,
   "metadata": {},
   "outputs": [],
   "source": [
    "# add root folder of the project to path\n",
    "import sys\n",
    "sys.path.insert(0, '../')"
   ]
  },
  {
   "cell_type": "code",
   "execution_count": 2,
   "metadata": {},
   "outputs": [
    {
     "name": "stdout",
     "output_type": "stream",
     "text": [
      "loaded 1 vicon file: ../dataset/6kmh_softbra_8markers_1.csv\n"
     ]
    }
   ],
   "source": [
    "# load kps\n",
    "import kps\n",
    "vicon = kps.MarkerSet()\n",
    "vicon.load_from_vicon('../dataset/6kmh_softbra_8markers_1.csv')\n",
    "vicon.interp_field()"
   ]
  },
  {
   "cell_type": "code",
   "execution_count": 3,
   "metadata": {},
   "outputs": [
    {
     "name": "stdout",
     "output_type": "stream",
     "text": [
      "loaded 1 mesh file: ../dataset/45kmh_26markers_12fps/speed_45km_h_26_marker_set_1.000001.obj\n",
      "loaded 1 mesh file: ../dataset/45kmh_26markers_12fps/speed_45km_h_26_marker_set_1.000011.obj\n"
     ]
    }
   ],
   "source": [
    "# load 3dmd series\n",
    "import obj3d\n",
    "o3_ls = obj3d.load_obj_series('../dataset/45kmh_26markers_12fps/', 0, 1, obj_type=obj3d.Obj3d_Kps, sample_hd=1000)"
   ]
  },
  {
   "cell_type": "code",
   "execution_count": 4,
   "metadata": {},
   "outputs": [
    {
     "name": "stdout",
     "output_type": "stream",
     "text": [
      "registered 1 nonrigid transformation\n",
      "fixed 1 nonrigid transformation\n",
      "\n",
      "error analysis:\n",
      "distance between tracked key points and ground truth:\n",
      "3328.4053\n",
      "ratio to lateral distance：\n",
      "54026.5820%\n"
     ]
    }
   ],
   "source": [
    "# init 4d object with vicon key points\n",
    "import obj4d\n",
    "o4 = obj4d.Obj4d_Kps(\n",
    "    enable_nonrigid=True,\n",
    "    mode='data',\n",
    "    markerset=vicon,\n",
    "    fps=120\n",
    ")\n",
    "o4.add_obj(*o3_ls, lmd=1e3)\n",
    "# o4.obj_ls[0].trans_nonrigid.show()\n",
    "o4.error_estimate()"
   ]
  },
  {
   "cell_type": "code",
   "execution_count": null,
   "metadata": {},
   "outputs": [],
   "source": []
  }
 ],
 "metadata": {
  "kernelspec": {
   "display_name": "Python 3.8.8 ('base')",
   "language": "python",
   "name": "python3"
  },
  "language_info": {
   "codemirror_mode": {
    "name": "ipython",
    "version": 3
   },
   "file_extension": ".py",
   "mimetype": "text/x-python",
   "name": "python",
   "nbconvert_exporter": "python",
   "pygments_lexer": "ipython3",
   "version": "3.8.8"
  },
  "orig_nbformat": 4,
  "vscode": {
   "interpreter": {
    "hash": "8c8ccae62b03e03f602162ec2d3ff7715f4331cfb18cae8be1463dcdd08d9f0b"
   }
  }
 },
 "nbformat": 4,
 "nbformat_minor": 2
}
