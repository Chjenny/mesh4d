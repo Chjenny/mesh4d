{
 "cells": [
  {
   "cell_type": "code",
   "execution_count": null,
   "metadata": {},
   "outputs": [],
   "source": [
    "# add root folder of the project to path\n",
    "import sys\n",
    "sys.path.insert(0, '..')"
   ]
  },
  {
   "cell_type": "code",
   "execution_count": null,
   "metadata": {},
   "outputs": [],
   "source": [
    "import UltraMotionCapture\n",
    "UltraMotionCapture.output_msg = False  # mute all output message"
   ]
  },
  {
   "attachments": {},
   "cell_type": "markdown",
   "metadata": {},
   "source": [
    "#### Pipeline Testing Operators"
   ]
  },
  {
   "cell_type": "code",
   "execution_count": null,
   "metadata": {},
   "outputs": [],
   "source": [
    "import time\n",
    "from UltraMotionCapture import kps, obj3d, obj4d\n",
    "\n",
    "def pipeline_operator(\n",
    "    file_vicon: str = '../UltraMotionCapture/data/6kmh_softbra_8markers_1.csv',\n",
    "    folder_3dmd: str = '../UltraMotionCapture/data/6kmh_softbra_8markers_1/',\n",
    "    start: int = 0,\n",
    "    stride: int = 10,\n",
    "    frame_num: int = 2,\n",
    "    sample_num: int = 1500,\n",
    "    scale_rate: float = 1,\n",
    "    ):\n",
    "    \"\"\"tbf\"\"\"\n",
    "    start_time = time.time()\n",
    "\n",
    "    # load vicon data\n",
    "    vicon = kps.MarkerSet()\n",
    "    vicon.load_from_vicon(\n",
    "        filedir=file_vicon, \n",
    "        scale_rate=scale_rate\n",
    "    )\n",
    "    vicon.interp_field()\n",
    "\n",
    "    # load 3dmd data\n",
    "    o3_ls = obj3d.load_obj_series(\n",
    "        folder=folder_3dmd,\n",
    "        start=start,\n",
    "        end=frame_num * stride - 1,\n",
    "        stride=stride,\n",
    "        sample_num=sample_num,\n",
    "        scale_rate=scale_rate,\n",
    "        obj_type=obj3d.Obj3d_Deform,\n",
    "    )\n",
    "\n",
    "    # init obj4d data and estimate the displacement field\n",
    "    fps = 120 / stride\n",
    "    o4 = obj4d.Obj4d_Deform(\n",
    "        markerset=vicon,\n",
    "        fps=fps,\n",
    "        enable_rigid=False,\n",
    "        enable_nonrigid=True,\n",
    "    )\n",
    "    o4.add_obj(*o3_ls)\n",
    "\n",
    "    # estimate the computational time\n",
    "    end_time = time.time()\n",
    "    regist_time = end_time - start_time\n",
    "\n",
    "    # return error estimation result combined with the computational time\n",
    "    diff_dict = o4.regist_verify()\n",
    "    diff_dict['compute_time'] = regist_time\n",
    "    return diff_dict"
   ]
  },
  {
   "cell_type": "code",
   "execution_count": null,
   "metadata": {},
   "outputs": [],
   "source": [
    "def condition_contrl_testing(\n",
    "    condition_name: str,\n",
    "    condition_ls: list,\n",
    "    ):\n",
    "    \"\"\"tbf\"\"\"\n",
    "    dist_mean_ls = []\n",
    "    dist_std_ls = []\n",
    "    compute_time_ls = []\n",
    "\n",
    "    for condition in condition_ls:\n",
    "        diff_dict = pipeline_operator(**{condition_name: condition})\n",
    "\n",
    "        dist_mean_ls.append(diff_dict['dist_mean'])\n",
    "        dist_std_ls.append(diff_dict['dist_std'])\n",
    "        compute_time_ls.append(diff_dict['compute_time'])\n",
    "\n",
    "        print('{} = {} running time: {} s'.format(condition_name, condition, diff_dict['compute_time']))\n",
    "\n",
    "    return dist_mean_ls, dist_std_ls, compute_time_ls"
   ]
  },
  {
   "cell_type": "code",
   "execution_count": null,
   "metadata": {},
   "outputs": [],
   "source": [
    "import matplotlib.pyplot as plt\n",
    "plt.rcParams[\"font.family\"] = \"Times New Roman\"\n",
    "plt.rcParams['figure.dpi'] = 150\n",
    "\n",
    "def plot_operator(\n",
    "    condition_str: str,\n",
    "    condition_ls: list,\n",
    "    dist_mean_ls: list, \n",
    "    dist_std_ls: list, \n",
    "    compute_time_ls: list,\n",
    "    x_axis_mode: str = 'linear'\n",
    "    ):\n",
    "    \"\"\"tbf\"\"\"\n",
    "    fig, axs = plt.subplots(2, 1)\n",
    "\n",
    "    axs[0].plot(\n",
    "        condition_ls, \n",
    "        dist_mean_ls\n",
    "        )\n",
    "\n",
    "    axs[0].errorbar(\n",
    "        condition_ls,\n",
    "        dist_mean_ls,\n",
    "        yerr = dist_std_ls,\n",
    "        fmt ='o',\n",
    "        capsize=5)\n",
    "\n",
    "    axs[1].plot(\n",
    "        condition_ls,\n",
    "        compute_time_ls\n",
    "        )\n",
    "\n",
    "    # labels setting\n",
    "    plt.xlabel(condition_str)\n",
    "    axs[0].set_ylabel('registration error (mm)')\n",
    "    axs[0].grid(True)\n",
    "    axs[1].set_ylabel('computation time (s)')\n",
    "    axs[1].grid(True)\n",
    "    \n",
    "    if x_axis_mode == 'log':\n",
    "        axs[0].set_xscale('log')\n",
    "        axs[1].set_xscale('log')\n",
    "\n",
    "    # fig.show()"
   ]
  },
  {
   "attachments": {},
   "cell_type": "markdown",
   "metadata": {},
   "source": [
    "#### Factor: Sampling Points"
   ]
  },
  {
   "cell_type": "code",
   "execution_count": null,
   "metadata": {},
   "outputs": [],
   "source": [
    "# testing value\n",
    "condition_ls = (100, 500, 1000, 1500, 2000, 2500, 3000)\n",
    "dist_mean_ls, dist_std_ls, compute_time_ls = condition_contrl_testing('sample_num', condition_ls)"
   ]
  },
  {
   "cell_type": "code",
   "execution_count": null,
   "metadata": {},
   "outputs": [],
   "source": [
    "plot_operator('sampling points per point cloud', condition_ls, dist_mean_ls, dist_std_ls, compute_time_ls)"
   ]
  },
  {
   "attachments": {},
   "cell_type": "markdown",
   "metadata": {},
   "source": [
    "#### Factor: Scaling Rate"
   ]
  },
  {
   "cell_type": "code",
   "execution_count": null,
   "metadata": {},
   "outputs": [],
   "source": [
    "# testing value\n",
    "condition_ls = (1, 1e-1, 1e-2, 1e-3, 1e-4)\n",
    "dist_mean_ls, dist_std_ls, compute_time_ls = condition_contrl_testing('scale_rate', condition_ls)"
   ]
  },
  {
   "cell_type": "code",
   "execution_count": null,
   "metadata": {},
   "outputs": [],
   "source": [
    "plot_operator('scaling rate of the point cloud', condition_ls, dist_mean_ls, dist_std_ls, compute_time_ls, x_axis_mode='log')"
   ]
  },
  {
   "attachments": {},
   "cell_type": "markdown",
   "metadata": {},
   "source": [
    "#### Factor: Frame Stride"
   ]
  },
  {
   "cell_type": "code",
   "execution_count": null,
   "metadata": {},
   "outputs": [],
   "source": [
    "# testing value\n",
    "condition_ls = (1, 4, 6, 8, 10)\n",
    "dist_mean_ls, dist_std_ls, compute_time_ls = condition_contrl_testing('stride', condition_ls)"
   ]
  },
  {
   "cell_type": "code",
   "execution_count": null,
   "metadata": {},
   "outputs": [],
   "source": [
    "plot_operator('stride between frames', condition_ls, dist_mean_ls, dist_std_ls, compute_time_ls)"
   ]
  },
  {
   "cell_type": "code",
   "execution_count": null,
   "metadata": {},
   "outputs": [],
   "source": []
  }
 ],
 "metadata": {
  "kernelspec": {
   "display_name": "Python 3.8.8 ('base')",
   "language": "python",
   "name": "python3"
  },
  "language_info": {
   "codemirror_mode": {
    "name": "ipython",
    "version": 3
   },
   "file_extension": ".py",
   "mimetype": "text/x-python",
   "name": "python",
   "nbconvert_exporter": "python",
   "pygments_lexer": "ipython3",
   "version": "3.8.8"
  },
  "vscode": {
   "interpreter": {
    "hash": "8c8ccae62b03e03f602162ec2d3ff7715f4331cfb18cae8be1463dcdd08d9f0b"
   }
  }
 },
 "nbformat": 4,
 "nbformat_minor": 2
}
