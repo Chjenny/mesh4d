{
 "cells": [
  {
   "attachments": {},
   "cell_type": "markdown",
   "metadata": {},
   "source": [
    "#### Mesh & Key Points Loading"
   ]
  },
  {
   "cell_type": "code",
   "execution_count": null,
   "metadata": {},
   "outputs": [],
   "source": [
    "# add root folder of the project to path\n",
    "import sys\n",
    "sys.path.insert(0, '..')"
   ]
  },
  {
   "cell_type": "code",
   "execution_count": null,
   "metadata": {},
   "outputs": [],
   "source": [
    "from UltraMotionCapture import obj3d\n",
    "\n",
    "o3_ls = obj3d.load_obj_series(\n",
    "    folder='../UltraMotionCapture/data/6kmh_softbra_8markers_1/',\n",
    "    start=0,\n",
    "    end=1,\n",
    "    obj_type=obj3d.Obj3d_Deform,\n",
    "    sample_num=100,\n",
    ")"
   ]
  },
  {
   "cell_type": "code",
   "execution_count": null,
   "metadata": {},
   "outputs": [],
   "source": [
    "from UltraMotionCapture import kps\n",
    "\n",
    "vicon = kps.MarkerSet()\n",
    "vicon.load_from_vicon('../UltraMotionCapture/data/6kmh_softbra_8markers_1.csv')\n",
    "vicon.interp_field()"
   ]
  },
  {
   "cell_type": "code",
   "execution_count": null,
   "metadata": {},
   "outputs": [],
   "source": [
    "from UltraMotionCapture import obj4d\n",
    "\n",
    "o4 = obj4d.Obj4d_Deform(\n",
    "    markerset=vicon,\n",
    "    fps=120,\n",
    "    enable_rigid=False,\n",
    "    enable_nonrigid=True,\n",
    ")\n",
    "o4.add_obj(*o3_ls)"
   ]
  },
  {
   "cell_type": "code",
   "execution_count": null,
   "metadata": {},
   "outputs": [],
   "source": [
    "import pyvista as pv\n",
    "pv.set_jupyter_backend('pythreejs')\n",
    "\n",
    "o3_ls[0].show()"
   ]
  },
  {
   "cell_type": "code",
   "execution_count": null,
   "metadata": {},
   "outputs": [],
   "source": [
    "o3_ls[0].mesh"
   ]
  },
  {
   "attachments": {},
   "cell_type": "markdown",
   "metadata": {},
   "source": [
    "#### Error Estimation"
   ]
  },
  {
   "cell_type": "code",
   "execution_count": null,
   "metadata": {},
   "outputs": [],
   "source": [
    "o3_ls[0].kps.compare_with_groundtruth(o3_ls[1].kps)"
   ]
  }
 ],
 "metadata": {
  "kernelspec": {
   "display_name": "Python 3.8.8 ('base')",
   "language": "python",
   "name": "python3"
  },
  "language_info": {
   "codemirror_mode": {
    "name": "ipython",
    "version": 3
   },
   "file_extension": ".py",
   "mimetype": "text/x-python",
   "name": "python",
   "nbconvert_exporter": "python",
   "pygments_lexer": "ipython3",
   "version": "3.8.8"
  },
  "vscode": {
   "interpreter": {
    "hash": "8c8ccae62b03e03f602162ec2d3ff7715f4331cfb18cae8be1463dcdd08d9f0b"
   }
  }
 },
 "nbformat": 4,
 "nbformat_minor": 2
}
