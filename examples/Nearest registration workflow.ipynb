{
 "cells": [
  {
   "cell_type": "code",
   "execution_count": null,
   "metadata": {},
   "outputs": [],
   "source": [
    "# add root folder of the project to path\n",
    "import sys\n",
    "sys.path.insert(0, '..')"
   ]
  },
  {
   "cell_type": "code",
   "execution_count": null,
   "metadata": {},
   "outputs": [],
   "source": [
    "# parameter settings\n",
    "is_plot = True\n",
    "is_export = False\n",
    "\n",
    "start=0\n",
    "stride = 12\n",
    "end = 120\n",
    "\n",
    "landmarks_path = '../data/landmarks/refine_6kmh_braless_18markers_12fps.pkl'\n",
    "meshes_path = '../data/meshes/6kmh_braless_26markers/'\n",
    "test_landmarks_path = '../data/test/braless_random_landmarks.pkl'"
   ]
  },
  {
   "attachments": {},
   "cell_type": "markdown",
   "metadata": {},
   "source": [
    "# Data Loading"
   ]
  },
  {
   "cell_type": "code",
   "execution_count": null,
   "metadata": {},
   "outputs": [],
   "source": [
    "from mesh4d import utils\n",
    "\n",
    "landmarks = utils.load_pkl_object(landmarks_path)\n",
    "landmarks.interp_field()"
   ]
  },
  {
   "cell_type": "code",
   "execution_count": null,
   "metadata": {},
   "outputs": [],
   "source": [
    "from mesh4d import obj3d\n",
    "\n",
    "o3_ls = obj3d.load_obj_series(\n",
    "    folder=meshes_path,\n",
    "    start=start,\n",
    "    stride=stride,\n",
    "    end=end,\n",
    "    obj_type=obj3d.Obj3d_Deform\n",
    ")"
   ]
  },
  {
   "attachments": {},
   "cell_type": "markdown",
   "metadata": {},
   "source": [
    "# Ultra-dense Motion Capture"
   ]
  },
  {
   "cell_type": "code",
   "execution_count": null,
   "metadata": {},
   "outputs": [],
   "source": [
    "import time\n",
    "from mesh4d import obj4d\n",
    "\n",
    "start_time = time.time()\n",
    "\n",
    "o4 = obj4d.Obj4d_Deform(\n",
    "    fps=120 / stride,\n",
    "    enable_rigid=False,\n",
    "    enable_nonrigid=True,\n",
    ")\n",
    "o4.add_obj(*o3_ls, k_nbr=100)\n",
    "o4.load_markerset('landmarks', landmarks)\n",
    "\n",
    "duration = time.time() - start_time"
   ]
  },
  {
   "cell_type": "code",
   "execution_count": null,
   "metadata": {},
   "outputs": [],
   "source": [
    "print(\"computation time: {}\".format(duration))\n",
    "\n",
    "if is_export:\n",
    "    utils.save_pkl_object(duration, 'output/nearest/duration.pkl')"
   ]
  },
  {
   "cell_type": "code",
   "execution_count": null,
   "metadata": {},
   "outputs": [],
   "source": [
    "kps_source = landmarks.get_time_coord(0)\n",
    "o4.vkps_track(kps_source, frame_id=0, k_nbr=10)"
   ]
  },
  {
   "cell_type": "code",
   "execution_count": null,
   "metadata": {},
   "outputs": [],
   "source": [
    "from mesh4d import kps\n",
    "\n",
    "vkps = o4.assemble_markerset(name='vkps')\n",
    "diff = kps.MarkerSet.diff(vkps, landmarks)"
   ]
  },
  {
   "cell_type": "code",
   "execution_count": null,
   "metadata": {},
   "outputs": [],
   "source": [
    "if is_export:\n",
    "    utils.save_pkl_object(diff, 'output/nearest/diff.pkl')"
   ]
  },
  {
   "cell_type": "code",
   "execution_count": null,
   "metadata": {},
   "outputs": [],
   "source": [
    "if is_plot:\n",
    "    o4.show_deform_gif(output_folder='output/nearest/', filename='vkps', kps_names=('vkps', 'landmarks'))"
   ]
  },
  {
   "attachments": {},
   "cell_type": "markdown",
   "metadata": {},
   "source": [
    "# Randomly Selected Landmarks"
   ]
  },
  {
   "cell_type": "code",
   "execution_count": null,
   "metadata": {},
   "outputs": [],
   "source": [
    "from mesh4d import utils\n",
    "\n",
    "test_landmarks = utils.load_pkl_object(test_landmarks_path)\n",
    "test_kps = test_landmarks.get_frame_coord(0)"
   ]
  },
  {
   "cell_type": "code",
   "execution_count": null,
   "metadata": {},
   "outputs": [],
   "source": [
    "o4.vkps_track(test_kps, frame_id=0, name='vkps_random')\n",
    "vkps_random = o4.assemble_markerset(name='vkps_random')\n",
    "vkps_random.get_trace_length()"
   ]
  },
  {
   "cell_type": "code",
   "execution_count": null,
   "metadata": {},
   "outputs": [],
   "source": [
    "if is_plot:\n",
    "    o4.show_deform_gif(output_folder='output/nearest/', filename='vkps_random', kps_names=('vkps_random',))"
   ]
  },
  {
   "attachments": {},
   "cell_type": "markdown",
   "metadata": {},
   "source": [
    "# Full-field Deformation Estimation\n",
    "\n",
    "Evenly sample points from the mesh and track its movement"
   ]
  },
  {
   "cell_type": "code",
   "execution_count": null,
   "metadata": {},
   "outputs": [],
   "source": [
    "full_kps = o3_ls[0].get_sample_kps(10000)\n",
    "o4.vkps_track(full_kps, frame_id=0, name='vkps_full')"
   ]
  },
  {
   "cell_type": "code",
   "execution_count": null,
   "metadata": {},
   "outputs": [],
   "source": [
    "vkps_full = o4.assemble_markerset(name='vkps_full')\n",
    "vkps_full.interp_field()"
   ]
  },
  {
   "cell_type": "code",
   "execution_count": null,
   "metadata": {},
   "outputs": [],
   "source": [
    "_, starts, traces = vkps_full.get_trace_length()\n",
    "\n",
    "if is_plot:\n",
    "    o3_ls[0].show_with_value_mask(starts, traces, min_threshold=500, max_threshold=900)"
   ]
  }
 ],
 "metadata": {
  "kernelspec": {
   "display_name": "Python 3.8.8 ('base')",
   "language": "python",
   "name": "python3"
  },
  "language_info": {
   "codemirror_mode": {
    "name": "ipython",
    "version": 3
   },
   "file_extension": ".py",
   "mimetype": "text/x-python",
   "name": "python",
   "nbconvert_exporter": "python",
   "pygments_lexer": "ipython3",
   "version": "3.9.16"
  },
  "vscode": {
   "interpreter": {
    "hash": "8c8ccae62b03e03f602162ec2d3ff7715f4331cfb18cae8be1463dcdd08d9f0b"
   }
  }
 },
 "nbformat": 4,
 "nbformat_minor": 2
}
