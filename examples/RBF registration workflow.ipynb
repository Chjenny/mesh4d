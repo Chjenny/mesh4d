{
 "cells": [
  {
   "cell_type": "code",
   "execution_count": null,
   "metadata": {},
   "outputs": [],
   "source": [
    "# add root folder of the project to path\n",
    "import sys\n",
    "sys.path.insert(0, '..')"
   ]
  },
  {
   "cell_type": "code",
   "execution_count": null,
   "metadata": {},
   "outputs": [],
   "source": [
    "# parameter settings\n",
    "is_plot = False\n",
    "is_export = False\n",
    "\n",
    "start=0\n",
    "stride = 12\n",
    "end=120\n",
    "\n",
    "landmarks_path = '../data/landmarks/6kmh_braless_18markers_12fps.pkl'\n",
    "meshes_path = '../data/meshes/6kmh_braless_26markers/'\n",
    "test_landmarks_path = '../data/test/braless_random_landmarks.pkl'"
   ]
  },
  {
   "attachments": {},
   "cell_type": "markdown",
   "metadata": {},
   "source": [
    "# Data Loading"
   ]
  },
  {
   "cell_type": "code",
   "execution_count": null,
   "metadata": {},
   "outputs": [],
   "source": [
    "from mesh4d import utils\n",
    "\n",
    "landmarks = utils.load_pkl_object(landmarks_path)\n",
    "landmarks.interp_field()"
   ]
  },
  {
   "cell_type": "code",
   "execution_count": null,
   "metadata": {},
   "outputs": [],
   "source": [
    "from mesh4d import obj3d\n",
    "from mesh4d.analysis import reg_rbf\n",
    "\n",
    "o3_ls = obj3d.load_obj_series(\n",
    "    folder=meshes_path,\n",
    "    start=start,\n",
    "    stride=stride,\n",
    "    end=end,\n",
    "    obj_type=reg_rbf.Obj3d_RBF,\n",
    ")"
   ]
  },
  {
   "attachments": {},
   "cell_type": "markdown",
   "metadata": {},
   "source": [
    "# Ultra-dense Motion Capture"
   ]
  },
  {
   "cell_type": "code",
   "execution_count": null,
   "metadata": {},
   "outputs": [],
   "source": [
    "import time\n",
    "\n",
    "start_time = time.time()\n",
    "\n",
    "o4 = reg_rbf.Obj4d_RBF(\n",
    "    fps=120 / stride,\n",
    "    enable_rigid=False,\n",
    "    enable_nonrigid=True,\n",
    ")\n",
    "o4.add_obj(*o3_ls, landmarks=landmarks)\n",
    "o4.load_markerset('landmarks', landmarks)\n",
    "\n",
    "duration = time.time() - start_time"
   ]
  },
  {
   "cell_type": "code",
   "execution_count": null,
   "metadata": {},
   "outputs": [],
   "source": [
    "print(\"computation time: {}\".format(duration))\n",
    "\n",
    "if is_export:\n",
    "    utils.save_pkl_object(duration, 'output/rbf/duration.pkl')"
   ]
  },
  {
   "cell_type": "code",
   "execution_count": null,
   "metadata": {},
   "outputs": [],
   "source": [
    "kps_source = landmarks.get_time_coord(0)\n",
    "o4.vkps_track(kps_source, frame_id=0)"
   ]
  },
  {
   "cell_type": "code",
   "execution_count": null,
   "metadata": {},
   "outputs": [],
   "source": [
    "from mesh4d import kps\n",
    "vkps = o4.assemble_markerset(name='vkps')\n",
    "diff = kps.MarkerSet.diff(vkps, landmarks)"
   ]
  },
  {
   "cell_type": "code",
   "execution_count": null,
   "metadata": {},
   "outputs": [],
   "source": [
    "if is_plot:\n",
    "    o4.show_deform_gif(output_folder='output/rbf/', filename='vkps', kps_names=('vkps', 'landmarks'))"
   ]
  },
  {
   "attachments": {},
   "cell_type": "markdown",
   "metadata": {},
   "source": [
    "Assemble the tracked virtual key points"
   ]
  },
  {
   "cell_type": "code",
   "execution_count": null,
   "metadata": {},
   "outputs": [],
   "source": [
    "if is_export:\n",
    "    utils.save_pkl_object(diff, 'output/rbf/diff.pkl')"
   ]
  },
  {
   "attachments": {},
   "cell_type": "markdown",
   "metadata": {},
   "source": [
    "# Randomly Selected Landmarks"
   ]
  },
  {
   "cell_type": "code",
   "execution_count": null,
   "metadata": {},
   "outputs": [],
   "source": [
    "from mesh4d import utils\n",
    "\n",
    "test_landmarks = utils.load_pkl_object(test_landmarks_path)\n",
    "test_kps = test_landmarks.get_frame_coord(0)"
   ]
  },
  {
   "cell_type": "code",
   "execution_count": null,
   "metadata": {},
   "outputs": [],
   "source": [
    "o4.vkps_track(test_kps, frame_id=0, name='vkps_random')\n",
    "vkps_random = o4.assemble_markerset(name='vkps_random')\n",
    "vkps_random.cal_trace()"
   ]
  },
  {
   "cell_type": "code",
   "execution_count": null,
   "metadata": {},
   "outputs": [],
   "source": [
    "if is_plot:\n",
    "    o4.show_deform_gif(output_folder='output/rbf/', filename='vkps_random', kps_names=('vkps_random',))"
   ]
  },
  {
   "cell_type": "code",
   "execution_count": null,
   "metadata": {},
   "outputs": [],
   "source": [
    "o3_ls[0].trans_nonrigid.shift_points(((1,1,1),), k_nbr=1)"
   ]
  },
  {
   "attachments": {},
   "cell_type": "markdown",
   "metadata": {},
   "source": [
    "# Full-field Deformation Estimation\n",
    "\n",
    "Evenly sample points from the mesh and track its movement"
   ]
  },
  {
   "cell_type": "code",
   "execution_count": null,
   "metadata": {},
   "outputs": [],
   "source": [
    "full_kps = o3_ls[0].get_sample_kps(10000)\n",
    "o4.vkps_track(full_kps, frame_id=0, name='vkps_full')\n",
    "vkps_full = o4.assemble_markerset(name='vkps_full')"
   ]
  },
  {
   "attachments": {},
   "cell_type": "markdown",
   "metadata": {},
   "source": [
    "Calculate its whole period trace length and prepare the `points` and `values` lists corresponding with each other"
   ]
  },
  {
   "cell_type": "code",
   "execution_count": null,
   "metadata": {},
   "outputs": [],
   "source": [
    "points_dict = vkps_full.get_frame_coord(0).points\n",
    "values_dict = vkps_full.cal_trace()\n",
    "\n",
    "points = []\n",
    "values = []\n",
    "\n",
    "for name in points_dict.keys():\n",
    "    points.append(points_dict[name])\n",
    "    values.append(values_dict[name])"
   ]
  },
  {
   "cell_type": "code",
   "execution_count": null,
   "metadata": {},
   "outputs": [],
   "source": [
    "if is_plot:\n",
    "    o3_ls[0].show_with_value_mask(points, values, min_threshold=500, max_threshold=900)"
   ]
  },
  {
   "attachments": {},
   "cell_type": "markdown",
   "metadata": {},
   "source": [
    "# K-fold cross-verfication"
   ]
  },
  {
   "cell_type": "markdown",
   "metadata": {},
   "source": [
    "import time\n",
    "from mesh4d import kps\n",
    "\n",
    "import mesh4d\n",
    "mesh4d.output_msg = False\n",
    "\n",
    "for name in landmarks.markers.keys():\n",
    "    # split dataset\n",
    "    landmarks_test, landmarks_train = landmarks.split((name, ))\n",
    "\n",
    "    start_time = time.time()\n",
    "\n",
    "    o4 = reg_rbf.Obj4d_RBF(\n",
    "        fps=120 / stride,\n",
    "        enable_rigid=False,\n",
    "        enable_nonrigid=True,\n",
    "    )\n",
    "    o4.add_obj(*o3_ls, landmarks=landmarks_train)\n",
    "    o4.load_markerset('landmarks_train', landmarks_train)\n",
    "    o4.load_markerset('landmarks_test', landmarks_test)\n",
    "\n",
    "    duration = time.time() - start_time\n",
    "    print(\"computation time: {}\".format(duration))\n",
    "    utils.save_pkl_object(duration, 'output/rbf/{}/duration.pkl'.format(name))\n",
    "\n",
    "    # virtual key points tracking\n",
    "    kps_source = landmarks_test.get_time_coord(0)\n",
    "    o4.vkps_track(kps_source, frame_id=0, name='vkps_test')\n",
    "    kps_source = landmarks_train.get_time_coord(0)\n",
    "    o4.vkps_track(kps_source, frame_id=0, name='vkps_train')\n",
    "\n",
    "    # quantitative estimation\n",
    "    if is_plot:\n",
    "        o4.show_deform_gif(output_folder='output/rbf/{}'.format(name), filename='vkps_train', kps_names=('vkps_train', 'landmarks_train'))\n",
    "        o4.show_deform_gif(output_folder='output/rbf/{}'.format(name), filename='vkps_test', kps_names=('vkps_test', 'landmarks_test'))\n",
    "        \n",
    "    # quantitative estimation\n",
    "    vkps = o4.assemble_markerset(name='vkps_train')\n",
    "    diff_train = kps.MarkerSet.diff(vkps, landmarks_train)\n",
    "    utils.save_pkl_object(diff_train, 'output/rbf/{}/diff_train.pkl'.format(name))\n",
    "\n",
    "    vkps = o4.assemble_markerset(name='vkps_test')\n",
    "    diff_test = kps.MarkerSet.diff(vkps, landmarks_test)\n",
    "    utils.save_pkl_object(diff_test, 'output/rbf/{}/diff_test.pkl'.format(name))\n",
    "\n",
    "    print(\"{} train error: {} test_error: {}\".format(name, diff_train['diff_str'], diff_test['diff_str']))"
   ]
  }
 ],
 "metadata": {
  "kernelspec": {
   "display_name": "base",
   "language": "python",
   "name": "python3"
  },
  "language_info": {
   "codemirror_mode": {
    "name": "ipython",
    "version": 3
   },
   "file_extension": ".py",
   "mimetype": "text/x-python",
   "name": "python",
   "nbconvert_exporter": "python",
   "pygments_lexer": "ipython3",
   "version": "3.9.16"
  },
  "vscode": {
   "interpreter": {
    "hash": "8c8ccae62b03e03f602162ec2d3ff7715f4331cfb18cae8be1463dcdd08d9f0b"
   }
  }
 },
 "nbformat": 4,
 "nbformat_minor": 2
}
