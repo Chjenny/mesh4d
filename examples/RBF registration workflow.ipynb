{
 "cells": [
  {
   "cell_type": "code",
   "execution_count": null,
   "metadata": {},
   "outputs": [],
   "source": [
    "# add root folder of the project to path\n",
    "import sys\n",
    "sys.path.insert(0, '..')"
   ]
  },
  {
   "cell_type": "code",
   "execution_count": null,
   "metadata": {},
   "outputs": [],
   "source": [
    "# parameter settings\n",
    "is_plot = True\n",
    "start=0\n",
    "stride = 12\n",
    "end=120\n",
    "\n",
    "\"\"\"\n",
    "landmarks_path = '../data/landmarks/6kmh_softbra_8markers_12fps.pkl'\n",
    "meshes_path = '../data/meshes/6kmh_softbra_8markers/'\n",
    "test_landmarks_path = '../data/test/softbra_random_landmarks.pkl'\n",
    "\"\"\"\n",
    "\n",
    "landmarks_path = '../data/landmarks/6kmh_braless_18markers_12fps.pkl'\n",
    "meshes_path = '../data/meshes/6kmh_braless_26markers/'\n",
    "test_landmarks_path = '../data/test/braless_random_landmarks.pkl'"
   ]
  },
  {
   "attachments": {},
   "cell_type": "markdown",
   "metadata": {},
   "source": [
    "# Data Loading"
   ]
  },
  {
   "attachments": {},
   "cell_type": "markdown",
   "metadata": {},
   "source": [
    "Load landmarks data\n",
    "\n",
    "_P.S. Sine the construction of RBF motion model requires access to some landmarks data, it's split into the training and testing dataset_"
   ]
  },
  {
   "cell_type": "code",
   "execution_count": null,
   "metadata": {},
   "outputs": [],
   "source": [
    "from mesh4d import utils\n",
    "\n",
    "landmarks = utils.load_pkl_object(landmarks_path)\n",
    "landmarks.interp_field()"
   ]
  },
  {
   "cell_type": "code",
   "execution_count": null,
   "metadata": {},
   "outputs": [],
   "source": [
    "landmarks_test, landmarks_train = landmarks.split(('marker 5', ))"
   ]
  },
  {
   "attachments": {},
   "cell_type": "markdown",
   "metadata": {},
   "source": [
    "Load meshes data"
   ]
  },
  {
   "cell_type": "code",
   "execution_count": null,
   "metadata": {},
   "outputs": [],
   "source": [
    "from mesh4d import obj3d\n",
    "from mesh4d.analysis import reg_rbf\n",
    "\n",
    "o3_ls = obj3d.load_obj_series(\n",
    "    folder=meshes_path,\n",
    "    start=start,\n",
    "    stride=stride,\n",
    "    end=end,\n",
    "    obj_type=reg_rbf.Obj3d_RBF,\n",
    ")"
   ]
  },
  {
   "attachments": {},
   "cell_type": "markdown",
   "metadata": {},
   "source": [
    "# Displacement Field Estimation"
   ]
  },
  {
   "cell_type": "code",
   "execution_count": null,
   "metadata": {},
   "outputs": [],
   "source": [
    "o4 = reg_rbf.Obj4d_RBF(\n",
    "    fps=120 / stride,\n",
    "    enable_rigid=False,\n",
    "    enable_nonrigid=True,\n",
    ")\n",
    "o4.add_obj(*o3_ls, landmarks=landmarks_train)\n",
    "o4.load_markerset('landmarks_train', landmarks_train)\n",
    "o4.load_markerset('landmarks_test', landmarks_test)"
   ]
  },
  {
   "cell_type": "code",
   "execution_count": null,
   "metadata": {},
   "outputs": [],
   "source": [
    "import pyvista as pv\n",
    "pv.set_jupyter_backend('static')\n",
    "\n",
    "if is_plot:\n",
    "    o3_ls[0].show()"
   ]
  },
  {
   "cell_type": "code",
   "execution_count": null,
   "metadata": {},
   "outputs": [],
   "source": [
    "if is_plot:\n",
    "    o3_ls[0].show_deform(mode='nonrigid')"
   ]
  },
  {
   "cell_type": "code",
   "execution_count": null,
   "metadata": {},
   "outputs": [],
   "source": [
    "if is_plot:\n",
    "    o3_ls[0].show_deform(mode='rigid')"
   ]
  },
  {
   "cell_type": "code",
   "execution_count": null,
   "metadata": {},
   "outputs": [],
   "source": [
    "obj_deform = o3_ls[0].get_deform_obj3d()\n",
    "obj_gt = o3_ls[1]\n",
    "\n",
    "if is_plot:\n",
    "    obj3d.Obj3d_Kps.show_diff(obj_deform, obj_gt)"
   ]
  },
  {
   "attachments": {},
   "cell_type": "markdown",
   "metadata": {},
   "source": [
    "# Ultra-dense Motion Capture"
   ]
  },
  {
   "cell_type": "code",
   "execution_count": null,
   "metadata": {},
   "outputs": [],
   "source": [
    "kps_source = landmarks_test.get_time_coord(0)\n",
    "o4.vkps_track(kps_source, frame_id=0)"
   ]
  },
  {
   "cell_type": "code",
   "execution_count": null,
   "metadata": {},
   "outputs": [],
   "source": [
    "if is_plot:\n",
    "    o4.show_deform_gif(output_folder='output', filename='obj4d_vkps_rbf', kps_names=('vkps', 'landmarks_test'))"
   ]
  },
  {
   "attachments": {},
   "cell_type": "markdown",
   "metadata": {},
   "source": [
    "Assemble the tracked virtual key points"
   ]
  },
  {
   "cell_type": "code",
   "execution_count": null,
   "metadata": {},
   "outputs": [],
   "source": [
    "vkps = o4.assemble_markerset(name='vkps')"
   ]
  },
  {
   "cell_type": "code",
   "execution_count": null,
   "metadata": {},
   "outputs": [],
   "source": [
    "if is_plot:\n",
    "    vkps.plot_frame(frame_id=0)"
   ]
  },
  {
   "cell_type": "code",
   "execution_count": null,
   "metadata": {},
   "outputs": [],
   "source": [
    "from mesh4d import kps\n",
    "diff = kps.MarkerSet.diff(vkps, landmarks_test)"
   ]
  },
  {
   "cell_type": "code",
   "execution_count": null,
   "metadata": {},
   "outputs": [],
   "source": [
    "utils.save_pkl_object(diff, 'output/diff_rbf.pkl')"
   ]
  },
  {
   "attachments": {},
   "cell_type": "markdown",
   "metadata": {},
   "source": [
    "# Randomly Selected Landmarks"
   ]
  },
  {
   "cell_type": "code",
   "execution_count": null,
   "metadata": {},
   "outputs": [],
   "source": [
    "from mesh4d import utils\n",
    "\n",
    "test_landmarks = utils.load_pkl_object(test_landmarks_path)\n",
    "test_kps = test_landmarks.get_frame_coord(0)"
   ]
  },
  {
   "cell_type": "code",
   "execution_count": null,
   "metadata": {},
   "outputs": [],
   "source": [
    "o4.vkps_track(test_kps, frame_id=0, name='test')"
   ]
  },
  {
   "cell_type": "code",
   "execution_count": null,
   "metadata": {},
   "outputs": [],
   "source": [
    "if is_plot:\n",
    "    o4.show_deform_gif(output_folder='output', filename='obj4d_vkps_rbf_random', kps_names=('test',))"
   ]
  },
  {
   "cell_type": "code",
   "execution_count": null,
   "metadata": {},
   "outputs": [],
   "source": []
  }
 ],
 "metadata": {
  "kernelspec": {
   "display_name": "base",
   "language": "python",
   "name": "python3"
  },
  "language_info": {
   "codemirror_mode": {
    "name": "ipython",
    "version": 3
   },
   "file_extension": ".py",
   "mimetype": "text/x-python",
   "name": "python",
   "nbconvert_exporter": "python",
   "pygments_lexer": "ipython3",
   "version": "3.9.16"
  },
  "vscode": {
   "interpreter": {
    "hash": "8c8ccae62b03e03f602162ec2d3ff7715f4331cfb18cae8be1463dcdd08d9f0b"
   }
  }
 },
 "nbformat": 4,
 "nbformat_minor": 2
}
