{
 "cells": [
  {
   "cell_type": "code",
   "execution_count": null,
   "metadata": {},
   "outputs": [],
   "source": [
    "# add root folder of the project to path\n",
    "import sys\n",
    "sys.path.insert(0, '..')"
   ]
  },
  {
   "cell_type": "code",
   "execution_count": null,
   "metadata": {},
   "outputs": [],
   "source": [
    "# plot image or not\n",
    "is_plot = True"
   ]
  },
  {
   "attachments": {},
   "cell_type": "markdown",
   "metadata": {},
   "source": [
    "#### Data Loading"
   ]
  },
  {
   "cell_type": "code",
   "execution_count": null,
   "metadata": {},
   "outputs": [],
   "source": [
    "from mesh4d import kps\n",
    "\n",
    "vicon = kps.MarkerSet()\n",
    "vicon.load_from_vicon(\n",
    "    '../mesh4d/data/6kmh_softbra_8markers_1.csv',\n",
    "    scale_rate=1e-2,\n",
    ")\n",
    "vicon.interp_field()"
   ]
  },
  {
   "cell_type": "code",
   "execution_count": null,
   "metadata": {},
   "outputs": [],
   "source": [
    "from mesh4d import obj3d\n",
    "from mesh4d.analysis import reg_cpd\n",
    "\n",
    "o3_ls = obj3d.load_obj_series(\n",
    "    folder='../mesh4d/data/6kmh_softbra_8markers_1/',\n",
    "    start=0,\n",
    "    stride=5,\n",
    "    end=119,\n",
    "    scale_rate=1e-2,\n",
    "    sample_num=1000,\n",
    "    obj_type=reg_cpd.Obj3d_CPD,\n",
    ")"
   ]
  },
  {
   "attachments": {},
   "cell_type": "markdown",
   "metadata": {},
   "source": [
    "#### Displacement Field Estimation"
   ]
  },
  {
   "cell_type": "code",
   "execution_count": null,
   "metadata": {},
   "outputs": [],
   "source": [
    "o4 = reg_cpd.Obj4d_CPD(\n",
    "    fps=120,\n",
    "    enable_rigid=False,\n",
    "    enable_nonrigid=True,\n",
    ")\n",
    "o4.add_obj(*o3_ls)\n",
    "o4.load_markerset('M8', vicon)"
   ]
  },
  {
   "cell_type": "code",
   "execution_count": null,
   "metadata": {},
   "outputs": [],
   "source": [
    "import pyvista as pv\n",
    "pv.set_jupyter_backend('pythreejs')\n",
    "\n",
    "if is_plot:\n",
    "    o3_ls[0].show()"
   ]
  },
  {
   "cell_type": "code",
   "execution_count": null,
   "metadata": {},
   "outputs": [],
   "source": [
    "if is_plot:\n",
    "    o3_ls[0].show_deform(mode='nonrigid')"
   ]
  },
  {
   "cell_type": "code",
   "execution_count": null,
   "metadata": {},
   "outputs": [],
   "source": [
    "if is_plot:\n",
    "    o3_ls[0].show_deform(mode='rigid')"
   ]
  },
  {
   "cell_type": "code",
   "execution_count": null,
   "metadata": {},
   "outputs": [],
   "source": [
    "obj_deform = o3_ls[0].get_deform_obj3d()\n",
    "obj_gt = o3_ls[1]\n",
    "\n",
    "if is_plot:\n",
    "    obj3d.Obj3d_Kps.show_diff(obj_deform, obj_gt)"
   ]
  },
  {
   "attachments": {},
   "cell_type": "markdown",
   "metadata": {},
   "source": [
    "#### Ultra-dense Motion Capture"
   ]
  },
  {
   "cell_type": "code",
   "execution_count": null,
   "metadata": {},
   "outputs": [],
   "source": [
    "kps_source = vicon.get_time_coord(5/120)\n",
    "o4.vkps_track(kps_source, frame_id=5)"
   ]
  },
  {
   "cell_type": "code",
   "execution_count": null,
   "metadata": {},
   "outputs": [],
   "source": [
    "if is_plot:\n",
    "    o4.show_deform_gif(output_folder='output', filename='obj4d_vkps_cpd', kps_names=('vkps', ))"
   ]
  },
  {
   "cell_type": "code",
   "execution_count": null,
   "metadata": {},
   "outputs": [],
   "source": []
  }
 ],
 "metadata": {
  "kernelspec": {
   "display_name": "base",
   "language": "python",
   "name": "python3"
  },
  "language_info": {
   "codemirror_mode": {
    "name": "ipython",
    "version": 3
   },
   "file_extension": ".py",
   "mimetype": "text/x-python",
   "name": "python",
   "nbconvert_exporter": "python",
   "pygments_lexer": "ipython3",
   "version": "3.8.8"
  },
  "vscode": {
   "interpreter": {
    "hash": "8c8ccae62b03e03f602162ec2d3ff7715f4331cfb18cae8be1463dcdd08d9f0b"
   }
  }
 },
 "nbformat": 4,
 "nbformat_minor": 2
}
