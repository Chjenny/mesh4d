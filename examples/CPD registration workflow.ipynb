{
 "cells": [
  {
   "cell_type": "code",
   "execution_count": null,
   "metadata": {},
   "outputs": [],
   "source": [
    "# add root folder of the project to path\n",
    "import sys\n",
    "sys.path.insert(0, '..')"
   ]
  },
  {
   "cell_type": "code",
   "execution_count": null,
   "metadata": {},
   "outputs": [],
   "source": [
    "from UltraMotionCapture import kps\n",
    "\n",
    "vicon = kps.MarkerSet()\n",
    "vicon.load_from_vicon(\n",
    "    '../UltraMotionCapture/data/6kmh_softbra_8markers_1.csv',\n",
    "    scale_rate=1e-2,\n",
    ")\n",
    "vicon.interp_field()"
   ]
  },
  {
   "cell_type": "code",
   "execution_count": null,
   "metadata": {},
   "outputs": [],
   "source": [
    "from UltraMotionCapture import obj3d\n",
    "from UltraMotionCapture.analysis import reg_cpd\n",
    "\n",
    "o3_ls = obj3d.load_obj_series(\n",
    "    folder='../UltraMotionCapture/data/6kmh_softbra_8markers_1/',\n",
    "    start=0,\n",
    "    stride=1,\n",
    "    end=1,\n",
    "    scale_rate=1e-2,\n",
    "    sample_num=1000,\n",
    "    obj_type=reg_cpd.Obj3d_CPD,\n",
    ")"
   ]
  },
  {
   "cell_type": "code",
   "execution_count": null,
   "metadata": {},
   "outputs": [],
   "source": [
    "o4 = reg_cpd.Obj4d_CPD(\n",
    "    fps=120,\n",
    "    enable_rigid=False,\n",
    "    enable_nonrigid=True,\n",
    ")\n",
    "o4.add_obj(*o3_ls)\n",
    "o4.load_markerset('M8', vicon)"
   ]
  },
  {
   "cell_type": "code",
   "execution_count": null,
   "metadata": {},
   "outputs": [],
   "source": [
    "from probreg import cpd\n",
    "cpd.registration_cpd(\n",
    "            o3_ls[0].pcd, o3_ls[1].pcd, 'nonrigid'\n",
    "        )"
   ]
  },
  {
   "cell_type": "code",
   "execution_count": null,
   "metadata": {},
   "outputs": [],
   "source": [
    "import pyvista as pv\n",
    "pv.set_jupyter_backend('pythreejs')\n",
    "\n",
    "o3_ls[0].show()"
   ]
  },
  {
   "cell_type": "code",
   "execution_count": null,
   "metadata": {},
   "outputs": [],
   "source": [
    "o3_ls[0].show_with_deform()"
   ]
  },
  {
   "cell_type": "code",
   "execution_count": null,
   "metadata": {},
   "outputs": [],
   "source": [
    "o3_ls[0].show_diff_deform_gt(o3_ls[1])"
   ]
  },
  {
   "cell_type": "code",
   "execution_count": null,
   "metadata": {},
   "outputs": [],
   "source": []
  }
 ],
 "metadata": {
  "kernelspec": {
   "display_name": "base",
   "language": "python",
   "name": "python3"
  },
  "language_info": {
   "codemirror_mode": {
    "name": "ipython",
    "version": 3
   },
   "file_extension": ".py",
   "mimetype": "text/x-python",
   "name": "python",
   "nbconvert_exporter": "python",
   "pygments_lexer": "ipython3",
   "version": "3.8.8"
  },
  "vscode": {
   "interpreter": {
    "hash": "8c8ccae62b03e03f602162ec2d3ff7715f4331cfb18cae8be1463dcdd08d9f0b"
   }
  }
 },
 "nbformat": 4,
 "nbformat_minor": 2
}
