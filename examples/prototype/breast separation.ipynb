{
 "cells": [
  {
   "cell_type": "code",
   "execution_count": null,
   "metadata": {},
   "outputs": [],
   "source": [
    "# add root folder of the project to path\n",
    "import sys\n",
    "sys.path.insert(0, '../..')"
   ]
  },
  {
   "attachments": {},
   "cell_type": "markdown",
   "metadata": {},
   "source": [
    "#### Load mesh and key points"
   ]
  },
  {
   "cell_type": "code",
   "execution_count": null,
   "metadata": {},
   "outputs": [],
   "source": [
    "# load kps\n",
    "from UltraMotionCapture import kps, obj3d\n",
    "\n",
    "vicon = kps.MarkerSet()\n",
    "vicon.load_from_vicon('../../UltraMotionCapture/data/6kmh_softbra_8markers_1.csv')\n",
    "vicon.interp_field()\n",
    "\n",
    "points_vicon = vicon.get_frame_coord(0)\n",
    "pvpcd_vicon = obj3d.np2pvpcd(points_vicon, radius=10, phi_resolution=10, theta_resolution=10)"
   ]
  },
  {
   "cell_type": "code",
   "execution_count": null,
   "metadata": {},
   "outputs": [],
   "source": [
    "# load parameters\n",
    "import numpy as np\n",
    "from UltraMotionCapture import field\n",
    "\n",
    "r = np.load('../../UltraMotionCapture/config/calibrate/r.npy')\n",
    "s = np.load('../../UltraMotionCapture/config/calibrate/s.npy')\n",
    "t = np.load('../../UltraMotionCapture/config/calibrate/t.npy')\n",
    "s, m = field.transform_rst2sm(r, s, t)"
   ]
  },
  {
   "cell_type": "code",
   "execution_count": null,
   "metadata": {},
   "outputs": [],
   "source": [
    "# load mesh\n",
    "import pyvista as pv\n",
    "pv.set_jupyter_backend('pythreejs')\n",
    "\n",
    "mesh = pv.read('../../UltraMotionCapture/data/6kmh_softbra_8markers_1/speed_6km_soft_bra.000001.obj')\n",
    "texture = pv.read_texture('../../UltraMotionCapture/data/6kmh_softbra_8markers_1/speed_6km_soft_bra.000001.jpg')\n",
    "\n",
    "mesh.transform(m)\n",
    "mesh.scale(s)"
   ]
  },
  {
   "cell_type": "code",
   "execution_count": null,
   "metadata": {},
   "outputs": [],
   "source": [
    "# plot mesh and kps\n",
    "scene = pv.Plotter()\n",
    "scene.add_mesh(mesh, show_edges=True)\n",
    "scene.add_mesh(pvpcd_vicon, color='Blue')\n",
    "scene.show()"
   ]
  },
  {
   "attachments": {},
   "cell_type": "markdown",
   "metadata": {},
   "source": [
    "#### Fix Dis-connectivity Problem"
   ]
  },
  {
   "cell_type": "code",
   "execution_count": null,
   "metadata": {},
   "outputs": [],
   "source": [
    "# mesh.triangulate()\n",
    "clean = mesh.clean()\n",
    "bodies = clean.split_bodies(label=True)\n",
    "bodies.plot(multi_colors=True, opacity=0.25)"
   ]
  },
  {
   "cell_type": "code",
   "execution_count": null,
   "metadata": {},
   "outputs": [],
   "source": [
    "name = bodies.keys()[0]\n",
    "points = bodies[name]\n",
    "surf = points.extract_surface()\n",
    "surf.plot()"
   ]
  },
  {
   "attachments": {},
   "cell_type": "markdown",
   "metadata": {},
   "source": [
    "#### Calculate Geodesic Paths"
   ]
  },
  {
   "cell_type": "code",
   "execution_count": null,
   "metadata": {},
   "outputs": [],
   "source": [
    "kps_id =[surf.find_closest_point(tuple(kp)) for kp in points_vicon]"
   ]
  },
  {
   "cell_type": "code",
   "execution_count": null,
   "metadata": {},
   "outputs": [],
   "source": [
    "geod_paths = {}\n",
    "geod_dists = {}\n",
    "\n",
    "for i in range(len(kps_id)):\n",
    "    for j in range(i):\n",
    "        name = '{} to {}'.format(i, j)\n",
    "        geod_paths[name] = surf.geodesic(kps_id[i], kps_id[j])\n",
    "        geod_dists[name] = surf.geodesic_distance(kps_id[i], kps_id[j])"
   ]
  },
  {
   "cell_type": "code",
   "execution_count": null,
   "metadata": {},
   "outputs": [],
   "source": [
    "# print geodesic distances\n",
    "geod_dists"
   ]
  },
  {
   "cell_type": "code",
   "execution_count": null,
   "metadata": {},
   "outputs": [],
   "source": [
    "geod_paths_ls = list(geod_paths.values())\n",
    "geods = sum(geod_paths_ls[1:], start=geod_paths_ls[0])\n",
    "\n",
    "scene = pv.Plotter()\n",
    "scene.add_mesh(mesh)\n",
    "scene.add_mesh(geods, line_width=1000, color='blue')\n",
    "scene.show()"
   ]
  },
  {
   "cell_type": "code",
   "execution_count": null,
   "metadata": {},
   "outputs": [],
   "source": []
  }
 ],
 "metadata": {
  "kernelspec": {
   "display_name": "base",
   "language": "python",
   "name": "python3"
  },
  "language_info": {
   "codemirror_mode": {
    "name": "ipython",
    "version": 3
   },
   "file_extension": ".py",
   "mimetype": "text/x-python",
   "name": "python",
   "nbconvert_exporter": "python",
   "pygments_lexer": "ipython3",
   "version": "3.8.8"
  },
  "vscode": {
   "interpreter": {
    "hash": "8c8ccae62b03e03f602162ec2d3ff7715f4331cfb18cae8be1463dcdd08d9f0b"
   }
  }
 },
 "nbformat": 4,
 "nbformat_minor": 2
}
