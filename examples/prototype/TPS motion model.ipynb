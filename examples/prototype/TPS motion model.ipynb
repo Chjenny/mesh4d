{
 "cells": [
  {
   "cell_type": "code",
   "execution_count": null,
   "metadata": {},
   "outputs": [],
   "source": [
    "# add root folder of the project to path\n",
    "import sys\n",
    "sys.path.insert(0, '../..')"
   ]
  },
  {
   "attachments": {},
   "cell_type": "markdown",
   "metadata": {},
   "source": [
    "# Load landamarks"
   ]
  },
  {
   "cell_type": "code",
   "execution_count": null,
   "metadata": {},
   "outputs": [],
   "source": [
    "from mesh4d import utils\n",
    "m8 = utils.load_pkl_object('../../data/landmarks/6kmh_braless_18markers_12fps.pkl')\n",
    "m8.interp_field()"
   ]
  },
  {
   "cell_type": "code",
   "execution_count": null,
   "metadata": {},
   "outputs": [],
   "source": [
    "from mesh4d.analyse import visual\n",
    "\n",
    "points_frame1 = m8.get_frame_coord(0).get_points_coord()\n",
    "pvpcd_frame1 = visual.np2pvpcd(points_frame1, radius=10)\n",
    "\n",
    "points_frame2 = m8.get_frame_coord(1).get_points_coord()\n",
    "pvpcd_frame2 = visual.np2pvpcd(points_frame2, radius=10)"
   ]
  },
  {
   "attachments": {},
   "cell_type": "markdown",
   "metadata": {},
   "source": [
    "Visualise the 1st frame and the 2nd frames as gold balls and green balls, respectively."
   ]
  },
  {
   "cell_type": "code",
   "execution_count": null,
   "metadata": {},
   "outputs": [],
   "source": [
    "import pyvista as pv\n",
    "\n",
    "scene = pv.Plotter()\n",
    "scene.add_mesh(pvpcd_frame1, color='gold')\n",
    "scene.add_mesh(pvpcd_frame2, color='green')\n",
    "scene.show()"
   ]
  },
  {
   "attachments": {},
   "cell_type": "markdown",
   "metadata": {},
   "source": [
    "# Construct the Thin-Plate-Spline motion model"
   ]
  },
  {
   "cell_type": "code",
   "execution_count": null,
   "metadata": {},
   "outputs": [],
   "source": [
    "from scipy.interpolate import RBFInterpolator\n",
    "\n",
    "disp = points_frame2 - points_frame1\n",
    "field = RBFInterpolator(points_frame1, disp)"
   ]
  },
  {
   "attachments": {},
   "cell_type": "markdown",
   "metadata": {},
   "source": [
    "# TPS motion model visualisation"
   ]
  },
  {
   "cell_type": "code",
   "execution_count": null,
   "metadata": {},
   "outputs": [],
   "source": [
    "# movements of the control points\n",
    "disp_crontrol = field(points_frame1)"
   ]
  },
  {
   "cell_type": "code",
   "execution_count": null,
   "metadata": {},
   "outputs": [],
   "source": [
    "# reconstruct a surface based on all points from the 1st & 2nd frames \n",
    "# the points on this surface is used to visualise the displacement of different place\n",
    "import numpy as np\n",
    "points = np.concatenate((points_frame1, points_frame2))\n",
    "\n",
    "points = pv.wrap(points)\n",
    "surf = points.reconstruct_surface()\n",
    "points_surf = np.array(surf.points)"
   ]
  },
  {
   "cell_type": "code",
   "execution_count": null,
   "metadata": {},
   "outputs": [],
   "source": [
    "# movements of the surface points\n",
    "disp_surf = field(points_surf)"
   ]
  },
  {
   "cell_type": "code",
   "execution_count": null,
   "metadata": {},
   "outputs": [],
   "source": [
    "scene = pv.Plotter()\n",
    "\n",
    "scene.add_mesh(pvpcd_frame1, color='gold', opacity=0.5)\n",
    "scene.add_mesh(pvpcd_frame2, color='green', opacity=0.5)\n",
    "\n",
    "for idx in range(len(disp_crontrol)):\n",
    "    arrow = pv.Arrow(start=points_frame1[idx], direction=disp_crontrol[idx], scale=np.linalg.norm(disp_crontrol[idx]))\n",
    "    scene.add_mesh(arrow, color='black')\n",
    "\n",
    "for idx in range(len(disp_surf)):\n",
    "    arrow = pv.Arrow(start=points_surf[idx], direction=disp_surf[idx], scale=np.linalg.norm(disp_surf[idx]))\n",
    "    scene.add_mesh(arrow, color='white')\n",
    "\n",
    "scene.show()"
   ]
  },
  {
   "cell_type": "code",
   "execution_count": null,
   "metadata": {},
   "outputs": [],
   "source": []
  }
 ],
 "metadata": {
  "kernelspec": {
   "display_name": "mesh4d",
   "language": "python",
   "name": "python3"
  },
  "language_info": {
   "codemirror_mode": {
    "name": "ipython",
    "version": 3
   },
   "file_extension": ".py",
   "mimetype": "text/x-python",
   "name": "python",
   "nbconvert_exporter": "python",
   "pygments_lexer": "ipython3",
   "version": "3.9.16"
  }
 },
 "nbformat": 4,
 "nbformat_minor": 2
}
