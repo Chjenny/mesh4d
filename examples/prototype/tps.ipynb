{
 "cells": [
  {
   "attachments": {},
   "cell_type": "markdown",
   "metadata": {},
   "source": [
    "# Data Synthesis"
   ]
  },
  {
   "cell_type": "code",
   "execution_count": null,
   "metadata": {},
   "outputs": [],
   "source": [
    "import numpy as np\n",
    "xobs = np.random.rand(20, 2)\n",
    "t = np.random.rand(20, 2)/5\n",
    "yobs = xobs + t"
   ]
  },
  {
   "cell_type": "code",
   "execution_count": null,
   "metadata": {},
   "outputs": [],
   "source": [
    "import matplotlib.pyplot as plt\n",
    "\n",
    "plt.scatter(xobs[:, 0], xobs[:, 1], color='green')\n",
    "plt.scatter(yobs[:, 0], yobs[:, 1], color='gold')\n",
    "\n",
    "for idx in range(len(xobs)):\n",
    "    plt.arrow(xobs[idx, 0], xobs[idx, 1],\n",
    "              t[idx, 0], t[idx, 1],\n",
    "              head_width=1e-2,\n",
    "              length_includes_head=True,\n",
    "              )"
   ]
  },
  {
   "attachments": {},
   "cell_type": "markdown",
   "metadata": {},
   "source": [
    "# Displacement Field Interpolation"
   ]
  },
  {
   "cell_type": "code",
   "execution_count": null,
   "metadata": {},
   "outputs": [],
   "source": [
    "from scipy.interpolate import RBFInterpolator\n",
    "\n",
    "field = RBFInterpolator(xobs, t)"
   ]
  },
  {
   "attachments": {},
   "cell_type": "markdown",
   "metadata": {},
   "source": [
    "Verify the estimated interpolation the on prior-correspondences"
   ]
  },
  {
   "cell_type": "code",
   "execution_count": null,
   "metadata": {},
   "outputs": [],
   "source": [
    "plt.scatter(xobs[:, 0], xobs[:, 1], color='green')\n",
    "plt.scatter(yobs[:, 0], yobs[:, 1], color='gold')\n",
    "\n",
    "field_t = field(xobs)\n",
    "\n",
    "for idx in range(len(xobs)):\n",
    "    plt.arrow(\n",
    "        xobs[idx, 0], xobs[idx, 1],\n",
    "        field_t[idx, 0], field_t[idx, 1],\n",
    "        head_width=1e-2,\n",
    "        color='lightgray'\n",
    "        )"
   ]
  },
  {
   "attachments": {},
   "cell_type": "markdown",
   "metadata": {},
   "source": [
    "# Field Visualisation"
   ]
  },
  {
   "cell_type": "code",
   "execution_count": null,
   "metadata": {},
   "outputs": [],
   "source": [
    "grid = np.array([(x, y)\n",
    "        for x in np.linspace(0, 1, 10) \n",
    "        for y in np.linspace(0, 1, 10)])\n",
    "\n",
    "grid_t = field(grid)"
   ]
  },
  {
   "cell_type": "code",
   "execution_count": null,
   "metadata": {},
   "outputs": [],
   "source": [
    "plt.scatter(xobs[:, 0], xobs[:, 1], color='green')\n",
    "plt.scatter(yobs[:, 0], yobs[:, 1], color='gold')\n",
    "\n",
    "for idx in range(len(xobs)):\n",
    "    plt.arrow(xobs[idx, 0], xobs[idx, 1],\n",
    "              t[idx, 0], t[idx, 1],\n",
    "              head_width=1e-2,\n",
    "              length_includes_head=True,\n",
    "              )\n",
    "\n",
    "for idx in range(len(grid)):\n",
    "    plt.arrow(\n",
    "        grid[idx, 0], grid[idx, 1],\n",
    "        grid_t[idx, 0], grid_t[idx, 1],\n",
    "        head_width=1e-2,\n",
    "        color='lightgray'\n",
    "        )"
   ]
  },
  {
   "cell_type": "code",
   "execution_count": null,
   "metadata": {},
   "outputs": [],
   "source": []
  }
 ],
 "metadata": {
  "kernelspec": {
   "display_name": "base",
   "language": "python",
   "name": "python3"
  },
  "language_info": {
   "codemirror_mode": {
    "name": "ipython",
    "version": 3
   },
   "file_extension": ".py",
   "mimetype": "text/x-python",
   "name": "python",
   "nbconvert_exporter": "python",
   "pygments_lexer": "ipython3",
   "version": "3.9.16"
  }
 },
 "nbformat": 4,
 "nbformat_minor": 2
}
