{
 "cells": [
  {
   "cell_type": "code",
   "execution_count": null,
   "metadata": {},
   "outputs": [],
   "source": [
    "# add root folder of the project to path\n",
    "import sys\n",
    "sys.path.insert(0, '../..')"
   ]
  },
  {
   "attachments": {},
   "cell_type": "markdown",
   "metadata": {},
   "source": [
    "# Load mesh & contour landmarks"
   ]
  },
  {
   "cell_type": "code",
   "execution_count": null,
   "metadata": {},
   "outputs": [],
   "source": [
    "import pyvista as pv\n",
    "\n",
    "mesh = pv.read('../../data/meshes/6kmh_braless_26markers/speed_6km_h_26_marker_set_.000001.obj')"
   ]
  },
  {
   "cell_type": "code",
   "execution_count": null,
   "metadata": {},
   "outputs": [],
   "source": [
    "from mesh4d import utils\n",
    "\n",
    "landmarks = utils.load_pkl_object('../../data/landmarks/refine_6kmh_braless_18markers_12fps.pkl')\n",
    "landmarks.interp_field()"
   ]
  },
  {
   "cell_type": "code",
   "execution_count": null,
   "metadata": {},
   "outputs": [],
   "source": [
    "contour = landmarks.extract(('marker 0', 'marker 1', 'marker 2', 'marker 3', 'marker 14', 'marker 15', 'marker 16', 'marker 17')).get_frame_coord(0)\n",
    "contour_points = contour.get_points_coord()"
   ]
  },
  {
   "attachments": {},
   "cell_type": "markdown",
   "metadata": {},
   "source": [
    "# Estimate the contour plane\n",
    "\n",
    "$$\\begin{cases}\n",
    "(\\bm p_{contour} - \\bm p_{center})^T \\bm n = 0\\\\\n",
    "\\|\\bm n\\|_1 = 1\n",
    "\\end{cases}$$\n",
    "$$\\Longrightarrow \\bm A \\bm n = \\bm b$$\n",
    "\n",
    "Solve norm vector of the plane $\\bm n$ with least-squares method. Together with the center point $p_{center}$, the (approximate) contour plane is estimated."
   ]
  },
  {
   "cell_type": "code",
   "execution_count": null,
   "metadata": {},
   "outputs": [],
   "source": [
    "from mesh4d.analyse import measure\n",
    "contour_center = measure.points_get_center(contour_points)"
   ]
  },
  {
   "cell_type": "code",
   "execution_count": null,
   "metadata": {},
   "outputs": [],
   "source": [
    "import numpy as np\n",
    "A_up = contour_points - contour_center\n",
    "A_down = np.expand_dims(\n",
    "    np.ones(len(contour_center)), \n",
    "    axis=0\n",
    "    )\n",
    "A = np.concatenate((A_up, A_down))\n",
    "A"
   ]
  },
  {
   "cell_type": "code",
   "execution_count": null,
   "metadata": {},
   "outputs": [],
   "source": [
    "b_up = np.zeros(len(contour_points))\n",
    "b_down = np.ones(1)\n",
    "b = np.concatenate((b_up, b_down))\n",
    "b"
   ]
  },
  {
   "cell_type": "code",
   "execution_count": null,
   "metadata": {},
   "outputs": [],
   "source": [
    "norm_vec = np.linalg.lstsq(A, b)[0]\n",
    "norm_vec"
   ]
  },
  {
   "cell_type": "code",
   "execution_count": null,
   "metadata": {},
   "outputs": [],
   "source": [
    "norm_vec / np.linalg.norm(norm_vec)"
   ]
  },
  {
   "attachments": {},
   "cell_type": "markdown",
   "metadata": {},
   "source": [
    "# Mesh clipping"
   ]
  },
  {
   "cell_type": "code",
   "execution_count": null,
   "metadata": {},
   "outputs": [],
   "source": [
    "mesh_clip = mesh.clip(norm_vec, origin=contour_center, invert=False)"
   ]
  },
  {
   "cell_type": "code",
   "execution_count": null,
   "metadata": {},
   "outputs": [],
   "source": [
    "min_bound = measure.points_get_min_bound(contour_points)\n",
    "mesh_clip = mesh_clip.clip('z', origin=min_bound, invert=False)"
   ]
  },
  {
   "cell_type": "code",
   "execution_count": null,
   "metadata": {},
   "outputs": [],
   "source": [
    "max_bound = measure.points_get_max_bound(contour_points)\n",
    "mesh_clip = mesh_clip.clip('z', origin=max_bound, invert=True)"
   ]
  },
  {
   "cell_type": "code",
   "execution_count": null,
   "metadata": {},
   "outputs": [],
   "source": [
    "scene = pv.Plotter()\n",
    "scene.add_mesh(mesh_clip, show_edges=True)\n",
    "scene.camera_position = 'xy'\n",
    "scene.show()"
   ]
  },
  {
   "cell_type": "code",
   "execution_count": null,
   "metadata": {},
   "outputs": [],
   "source": []
  }
 ],
 "metadata": {
  "kernelspec": {
   "display_name": "mesh4d",
   "language": "python",
   "name": "python3"
  },
  "language_info": {
   "codemirror_mode": {
    "name": "ipython",
    "version": 3
   },
   "file_extension": ".py",
   "mimetype": "text/x-python",
   "name": "python",
   "nbconvert_exporter": "python",
   "pygments_lexer": "ipython3",
   "version": "3.9.16"
  }
 },
 "nbformat": 4,
 "nbformat_minor": 2
}
