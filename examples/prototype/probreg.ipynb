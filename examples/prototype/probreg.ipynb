{
 "cells": [
  {
   "cell_type": "code",
   "execution_count": null,
   "metadata": {},
   "outputs": [],
   "source": [
    "# add root folder of the project to path\n",
    "import sys\n",
    "sys.path.insert(0, '../..')"
   ]
  },
  {
   "attachments": {},
   "cell_type": "markdown",
   "metadata": {},
   "source": [
    "# Data loading"
   ]
  },
  {
   "cell_type": "code",
   "execution_count": null,
   "metadata": {},
   "outputs": [],
   "source": [
    "# parameter settings\n",
    "is_plot = True\n",
    "is_export = True\n",
    "\n",
    "landmarks_path = '../../data/landmarks/refine_6kmh_braless_18markers_12fps.pkl'\n",
    "meshes_path = '../../data/meshes/6kmh_braless_26markers/'\n",
    "test_landmarks_path = '../../data/test/braless_random_landmarks.pkl'\n",
    "\n",
    "start=0\n",
    "stride = 12\n",
    "end=120"
   ]
  },
  {
   "cell_type": "code",
   "execution_count": null,
   "metadata": {},
   "outputs": [],
   "source": [
    "from mesh4d import obj3d\n",
    "\n",
    "mesh_ls, texture_ls = obj3d.load_mesh_series(\n",
    "    folder=meshes_path,\n",
    "    start=start,\n",
    "    stride=stride,\n",
    "    end=end,\n",
    ")"
   ]
  },
  {
   "cell_type": "code",
   "execution_count": null,
   "metadata": {},
   "outputs": [],
   "source": [
    "from mesh4d import utils\n",
    "\n",
    "landmarks = utils.load_pkl_object(landmarks_path)\n",
    "landmarks.interp_field()"
   ]
  },
  {
   "cell_type": "code",
   "execution_count": null,
   "metadata": {},
   "outputs": [],
   "source": [
    "from mesh4d.analyse.crave import clip_with_contour\n",
    "\n",
    "contour = landmarks.extract(('marker 0', 'marker 2', 'marker 15', 'marker 17'))\n",
    "mesh_clip_ls = clip_with_contour(mesh_ls, start_time=0, fps=12, contour=contour, clip_bound='xy', margin=0.5)"
   ]
  },
  {
   "cell_type": "code",
   "execution_count": null,
   "metadata": {},
   "outputs": [],
   "source": [
    "body_ls = obj3d.init_obj_series(\n",
    "    mesh_ls, \n",
    "    obj_type=obj3d.Obj3d_Deform\n",
    ")"
   ]
  },
  {
   "cell_type": "code",
   "execution_count": null,
   "metadata": {},
   "outputs": [],
   "source": [
    "breast_ls = obj3d.init_obj_series(\n",
    "    mesh_clip_ls, \n",
    "    obj_type=obj3d.Obj3d_Deform\n",
    "    )"
   ]
  },
  {
   "attachments": {},
   "cell_type": "markdown",
   "metadata": {},
   "source": [
    "# Sampling point clouds"
   ]
  },
  {
   "cell_type": "code",
   "execution_count": null,
   "metadata": {},
   "outputs": [],
   "source": [
    "pcd0 = breast_ls[0].get_vertices()\n",
    "pcd1 = breast_ls[1].get_vertices()"
   ]
  },
  {
   "cell_type": "code",
   "execution_count": null,
   "metadata": {},
   "outputs": [],
   "source": [
    "pcd0 = breast_ls[0].get_sample_points(1000)\n",
    "pcd1 = breast_ls[1].get_sample_points(1000)"
   ]
  },
  {
   "attachments": {},
   "cell_type": "markdown",
   "metadata": {},
   "source": [
    "# `probreg` registration"
   ]
  },
  {
   "attachments": {},
   "cell_type": "markdown",
   "metadata": {},
   "source": [
    "## Coherent Point Drift"
   ]
  },
  {
   "cell_type": "code",
   "execution_count": null,
   "metadata": {},
   "outputs": [],
   "source": [
    "from probreg import cpd\n",
    "tf_param, _, _ = cpd.registration_cpd(pcd0, pcd1)\n",
    "pcd_tf = tf_param.transform(pcd0)"
   ]
  },
  {
   "attachments": {},
   "cell_type": "markdown",
   "metadata": {},
   "source": [
    "## Bayesian Coherent Point Drift"
   ]
  },
  {
   "cell_type": "code",
   "execution_count": null,
   "metadata": {},
   "outputs": [],
   "source": [
    "from probreg import bcpd\n",
    "tf_param = bcpd.registration_bcpd(pcd0, pcd1)\n",
    "pcd_tf = tf_param.transform(pcd0)"
   ]
  },
  {
   "cell_type": "code",
   "execution_count": null,
   "metadata": {},
   "outputs": [],
   "source": [
    "import pyvista as pv\n",
    "scene = pv.Plotter()\n",
    "# scene.add_points(pcd0, point_size=1e-3, color='gold')\n",
    "scene.add_points(pcd1, point_size=1e-3, color='green')\n",
    "scene.add_points(pcd_tf, point_size=1e-3, color='blue')\n",
    "scene.show()"
   ]
  },
  {
   "cell_type": "code",
   "execution_count": null,
   "metadata": {},
   "outputs": [],
   "source": []
  }
 ],
 "metadata": {
  "kernelspec": {
   "display_name": "mesh4d",
   "language": "python",
   "name": "python3"
  },
  "language_info": {
   "codemirror_mode": {
    "name": "ipython",
    "version": 3
   },
   "file_extension": ".py",
   "mimetype": "text/x-python",
   "name": "python",
   "nbconvert_exporter": "python",
   "pygments_lexer": "ipython3",
   "version": "3.9.16"
  }
 },
 "nbformat": 4,
 "nbformat_minor": 2
}
