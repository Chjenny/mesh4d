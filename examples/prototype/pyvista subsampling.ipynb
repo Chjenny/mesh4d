{
 "cells": [
  {
   "cell_type": "code",
   "execution_count": null,
   "metadata": {},
   "outputs": [],
   "source": [
    "# add root folder of the project to path\n",
    "import sys\n",
    "sys.path.insert(0, '../..')"
   ]
  },
  {
   "attachments": {},
   "cell_type": "markdown",
   "metadata": {},
   "source": [
    "#### Data Loading"
   ]
  },
  {
   "cell_type": "code",
   "execution_count": null,
   "metadata": {},
   "outputs": [],
   "source": [
    "# load parameters\n",
    "import numpy as np\n",
    "from UltraMotionCapture import field\n",
    "\n",
    "r = np.load('../../UltraMotionCapture/config/calibrate/r.npy')\n",
    "s = np.load('../../UltraMotionCapture/config/calibrate/s.npy')\n",
    "t = np.load('../../UltraMotionCapture/config/calibrate/t.npy')\n",
    "s, m = field.transform_rst2sm(r, s, t)"
   ]
  },
  {
   "cell_type": "code",
   "execution_count": null,
   "metadata": {},
   "outputs": [],
   "source": [
    "# load mesh\n",
    "import pyvista as pv\n",
    "pv.set_jupyter_backend('pythreejs')\n",
    "\n",
    "mesh = pv.read('../../UltraMotionCapture/data/6kmh_softbra_8markers_1/speed_6km_soft_bra.000001.obj')\n",
    "texture = pv.read_texture('../../UltraMotionCapture/data/6kmh_softbra_8markers_1/speed_6km_soft_bra.000001.jpg')\n",
    "\n",
    "mesh.transform(m)\n",
    "mesh.scale(s)"
   ]
  },
  {
   "cell_type": "code",
   "execution_count": null,
   "metadata": {},
   "outputs": [],
   "source": [
    "mesh.plot(show_edges=True)"
   ]
  },
  {
   "attachments": {},
   "cell_type": "markdown",
   "metadata": {},
   "source": [
    "#### Fix Dis-connectivity Problem"
   ]
  },
  {
   "cell_type": "code",
   "execution_count": null,
   "metadata": {},
   "outputs": [],
   "source": [
    "# mesh.triangulate()\n",
    "clean = mesh.clean()\n",
    "bodies = clean.split_bodies()\n",
    "# bodies.plot(multi_colors=True, opacity=0.25)"
   ]
  },
  {
   "cell_type": "code",
   "execution_count": null,
   "metadata": {},
   "outputs": [],
   "source": [
    "point_nums = [len(body.points) for body in bodies]\n",
    "max_index = point_nums.index(max(point_nums))"
   ]
  },
  {
   "cell_type": "code",
   "execution_count": null,
   "metadata": {},
   "outputs": [],
   "source": [
    "surf = bodies[max_index].extract_surface()\n",
    "surf.plot()"
   ]
  },
  {
   "attachments": {},
   "cell_type": "markdown",
   "metadata": {},
   "source": [
    "#### Subsampling with `decimate()`\n",
    "\n",
    "Result shows that `decimate()` evenly sampled the mesh."
   ]
  },
  {
   "cell_type": "code",
   "execution_count": null,
   "metadata": {},
   "outputs": [],
   "source": [
    "subsample = surf.decimate(0.95)\n",
    "subsample.plot(show_edges=True)"
   ]
  },
  {
   "cell_type": "code",
   "execution_count": null,
   "metadata": {},
   "outputs": [],
   "source": [
    "import numpy as np\n",
    "from UltraMotionCapture import obj3d\n",
    "\n",
    "points = np.array(subsample.points)\n",
    "pcd = obj3d.np2pcd(points)"
   ]
  },
  {
   "cell_type": "code",
   "execution_count": null,
   "metadata": {},
   "outputs": [],
   "source": [
    "pvpcd = obj3d.np2pvpcd(points)\n",
    "type(pcd)"
   ]
  },
  {
   "cell_type": "code",
   "execution_count": null,
   "metadata": {},
   "outputs": [],
   "source": [
    "scene = pv.Plotter()\n",
    "scene.add_points(points)\n",
    "scene.show()"
   ]
  },
  {
   "attachments": {},
   "cell_type": "markdown",
   "metadata": {},
   "source": [
    "#### Subsampling with `decimate_pro()`\n",
    "\n",
    "Result shows that `decimate_pro()` samples the complex structure with denser sampling points, which might be useful for proper alignment since that it can serve as a attention mechanism. However, it might be more unstable. "
   ]
  },
  {
   "cell_type": "code",
   "execution_count": null,
   "metadata": {},
   "outputs": [],
   "source": [
    "subsample_pro = surf.decimate_pro(0.95)\n",
    "subsample_pro.plot(show_edges=True, color='white')"
   ]
  },
  {
   "cell_type": "code",
   "execution_count": null,
   "metadata": {},
   "outputs": [],
   "source": [
    "points_pro = np.array(subsample_pro.points)\n",
    "pcd_pro = obj3d.np2pcd(points_pro)"
   ]
  },
  {
   "cell_type": "code",
   "execution_count": null,
   "metadata": {},
   "outputs": [],
   "source": [
    "scene = pv.Plotter()\n",
    "scene.add_points(points_pro)\n",
    "scene.show()"
   ]
  },
  {
   "cell_type": "code",
   "execution_count": null,
   "metadata": {},
   "outputs": [],
   "source": [
    "scene = pv.Plotter()\n",
    "scene.add_points(points_pro)\n",
    "scene.add_mesh(subsample_pro.translate((700, 0, 0)), show_edges=True)\n",
    "scene.show()"
   ]
  },
  {
   "cell_type": "code",
   "execution_count": null,
   "metadata": {},
   "outputs": [],
   "source": []
  }
 ],
 "metadata": {
  "kernelspec": {
   "display_name": "base",
   "language": "python",
   "name": "python3"
  },
  "language_info": {
   "codemirror_mode": {
    "name": "ipython",
    "version": 3
   },
   "file_extension": ".py",
   "mimetype": "text/x-python",
   "name": "python",
   "nbconvert_exporter": "python",
   "pygments_lexer": "ipython3",
   "version": "3.8.8"
  },
  "vscode": {
   "interpreter": {
    "hash": "8c8ccae62b03e03f602162ec2d3ff7715f4331cfb18cae8be1463dcdd08d9f0b"
   }
  }
 },
 "nbformat": 4,
 "nbformat_minor": 2
}
