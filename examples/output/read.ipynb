{
 "cells": [
  {
   "cell_type": "code",
   "execution_count": null,
   "metadata": {},
   "outputs": [],
   "source": [
    "# add root folder of the project to path\n",
    "import sys\n",
    "sys.path.insert(0, '../..')"
   ]
  },
  {
   "cell_type": "code",
   "execution_count": null,
   "metadata": {},
   "outputs": [],
   "source": [
    "from mesh4d import utils"
   ]
  },
  {
   "attachments": {},
   "cell_type": "markdown",
   "metadata": {},
   "source": [
    "# Computation Time"
   ]
  },
  {
   "cell_type": "code",
   "execution_count": null,
   "metadata": {},
   "outputs": [],
   "source": [
    "time_cpd = utils.load_pkl_object('cpd/duration.pkl')\n",
    "time_ecpd = utils.load_pkl_object('ecpd/duration.pkl')\n",
    "time_rbf = utils.load_pkl_object('rbf/duration.pkl')"
   ]
  },
  {
   "cell_type": "code",
   "execution_count": null,
   "metadata": {},
   "outputs": [],
   "source": [
    "time_rbf, time_ecpd, time_cpd"
   ]
  },
  {
   "cell_type": "code",
   "execution_count": null,
   "metadata": {},
   "outputs": [],
   "source": [
    "import matplotlib.pyplot as plt\n",
    "plt.rcParams[\"font.family\"] = \"Times New Roman\"\n",
    "plt.rcParams['figure.dpi'] = 600\n",
    "\n",
    "data = [time_rbf, time_ecpd, time_cpd]\n",
    "labels = ['Our Approach', 'ECPD Approach', 'CPD Approach']\n",
    "colors = ['goldenrod', 'teal', 'teal']\n",
    "plt.bar(range(len(data)), data, tick_label=labels, color=colors, width=0.5)\n",
    "\n",
    "plt.ylabel('Computation Time (s)')\n",
    "plt.show()"
   ]
  },
  {
   "attachments": {},
   "cell_type": "markdown",
   "metadata": {},
   "source": [
    "# Control Landmarks"
   ]
  },
  {
   "cell_type": "code",
   "execution_count": null,
   "metadata": {},
   "outputs": [],
   "source": [
    "diff_ecpd = utils.load_pkl_object('ecpd/diff.pkl')\n",
    "diff_rbf = utils.load_pkl_object('rbf/diff.pkl')"
   ]
  },
  {
   "cell_type": "code",
   "execution_count": null,
   "metadata": {},
   "outputs": [],
   "source": [
    "for name in diff_rbf['diff_dict'].keys():\n",
    "    print(\"{} & ${:.2f} \\pm {:.2f}$ & ${:.2f} \\pm {:.2f}$ & - \\\\\\\\\".format(\n",
    "        name, \n",
    "        diff_rbf['diff_dict'][name]['dist_mean']/10, \n",
    "        diff_rbf['diff_dict'][name]['dist_std']/10, \n",
    "        diff_ecpd['diff_dict'][name]['dist_mean']/10, \n",
    "        diff_ecpd['diff_dict'][name]['dist_std']/10,\n",
    "        ))"
   ]
  },
  {
   "cell_type": "code",
   "execution_count": null,
   "metadata": {},
   "outputs": [],
   "source": [
    "print(\"${:.2f} \\pm {:.2f}$\".format(\n",
    "    diff_rbf['dist_mean']/10,\n",
    "    diff_rbf['dist_std']/10,\n",
    "    ))"
   ]
  },
  {
   "cell_type": "code",
   "execution_count": null,
   "metadata": {},
   "outputs": [],
   "source": [
    "print(\"${:.2f} \\pm {:.2f}$\".format(\n",
    "    diff_ecpd['dist_mean']/10,\n",
    "    diff_ecpd['dist_std']/10,\n",
    "    ))"
   ]
  },
  {
   "cell_type": "code",
   "execution_count": null,
   "metadata": {},
   "outputs": [],
   "source": [
    "data = [diff_rbf['dist_mean']/10, diff_ecpd['dist_mean']/10]\n",
    "labels = ['Our Approach', 'ECPD Approach']\n",
    "colors = ['goldenrod', 'teal']\n",
    "\n",
    "plt.bar(range(len(data)), data, tick_label=labels, color=colors, width=0.5)\n",
    "plt.errorbar(0, diff_rbf['dist_mean']/10, yerr=diff_rbf['dist_std']/10, color='black', capsize=10)\n",
    "plt.errorbar(1, diff_ecpd['dist_mean']/10, yerr=diff_ecpd['dist_std']/10, color='black', capsize=10)\n",
    "\n",
    "plt.ylabel('Alignment Error (cm)')\n",
    "plt.show()"
   ]
  },
  {
   "attachments": {},
   "cell_type": "markdown",
   "metadata": {},
   "source": [
    "# Arbitrary Landmarks"
   ]
  },
  {
   "cell_type": "code",
   "execution_count": null,
   "metadata": {},
   "outputs": [],
   "source": [
    "diff_cpd = utils.load_pkl_object('cpd/diff.pkl')"
   ]
  },
  {
   "cell_type": "code",
   "execution_count": null,
   "metadata": {},
   "outputs": [],
   "source": [
    "import os\n",
    "\n",
    "folder = 'rbf/'\n",
    "files = os.listdir(folder)\n",
    "files = [os.path.join(folder, f) for f in files if ('.pkl' in f) and ('marker' in f) and ('duration' not in f)]\n",
    "\n",
    "diff_rbf_ls = []\n",
    "\n",
    "for file in files:\n",
    "    diff_rbf_ls.append(utils.load_pkl_object(file))"
   ]
  },
  {
   "cell_type": "code",
   "execution_count": null,
   "metadata": {},
   "outputs": [],
   "source": [
    "folder = 'ecpd/'\n",
    "files = os.listdir(folder)\n",
    "files = [os.path.join(folder, f) for f in files if ('.pkl' in f) and ('marker' in f) and ('duration' not in f)]\n",
    "\n",
    "diff_ecpd_ls = []\n",
    "\n",
    "for file in files:\n",
    "    diff_ecpd_ls.append(utils.load_pkl_object(file))"
   ]
  },
  {
   "cell_type": "code",
   "execution_count": null,
   "metadata": {},
   "outputs": [],
   "source": [
    "for idx in range(18):\n",
    "    print(\"Landmark {} & ${:.2f} \\pm {:.2f}$ & ${:.2f} \\pm {:.2f}$ & ${:.2f} \\pm {:.2f}$ \\\\\\\\\".format(\n",
    "        idx,\n",
    "        diff_rbf_ls[idx]['dist_mean']/10,\n",
    "        diff_rbf_ls[idx]['dist_std']/10,\n",
    "        diff_ecpd_ls[idx]['dist_mean']/10,\n",
    "        diff_ecpd_ls[idx]['dist_std']/10,\n",
    "        diff_cpd['diff_dict'][\"marker {}\".format(idx)]['dist_mean']/10,\n",
    "        diff_cpd['diff_dict'][\"marker {}\".format(idx)]['dist_std']/10,\n",
    "    ))"
   ]
  },
  {
   "cell_type": "code",
   "execution_count": null,
   "metadata": {},
   "outputs": [],
   "source": [
    "import numpy as np\n",
    "\n",
    "rbf_mean_ls = [diff['dist_mean']/10 for diff in diff_rbf_ls]\n",
    "rbf_std_ls = [diff['dist_std']/10 for diff in diff_rbf_ls]\n",
    "\n",
    "print(\"${:.2f} \\pm {:.2f}$\".format(\n",
    "    np.mean(rbf_mean_ls),\n",
    "    np.mean(rbf_std_ls),\n",
    "))"
   ]
  },
  {
   "cell_type": "code",
   "execution_count": null,
   "metadata": {},
   "outputs": [],
   "source": [
    "ecpd_mean_ls = [diff['dist_mean']/10 for diff in diff_ecpd_ls]\n",
    "ecpd_std_ls = [diff['dist_std']/10 for diff in diff_ecpd_ls]\n",
    "\n",
    "print(\"${:.2f} \\pm {:.2f}$\".format(\n",
    "    np.mean(ecpd_mean_ls),\n",
    "    np.mean(ecpd_std_ls),\n",
    "))"
   ]
  },
  {
   "cell_type": "code",
   "execution_count": null,
   "metadata": {},
   "outputs": [],
   "source": [
    "print(\"${:.2f} \\pm {:.2f}$\".format(\n",
    "    diff_cpd['dist_mean']/10,\n",
    "    diff_cpd['dist_std']/10,\n",
    "))"
   ]
  },
  {
   "cell_type": "code",
   "execution_count": null,
   "metadata": {},
   "outputs": [],
   "source": [
    "data = [np.mean(rbf_mean_ls), np.mean(ecpd_mean_ls), diff_cpd['dist_mean']/10]\n",
    "labels = ['Our Approach', 'ECPD Approach', 'CPD Approach']\n",
    "colors = ['goldenrod', 'teal', 'teal']\n",
    "\n",
    "plt.bar(range(len(data)), data, tick_label=labels, color=colors, width=0.5)\n",
    "plt.errorbar(0, np.mean(rbf_mean_ls), yerr=np.mean(rbf_std_ls), color='black', capsize=10)\n",
    "plt.errorbar(1, np.mean(ecpd_mean_ls), yerr=np.mean(ecpd_std_ls), color='black', capsize=10)\n",
    "plt.errorbar(2, diff_cpd['dist_mean']/10, yerr=diff_cpd['dist_std']/10, color='black', capsize=10)\n",
    "\n",
    "plt.ylabel('Alignment Error (cm)')\n",
    "plt.show()"
   ]
  },
  {
   "cell_type": "code",
   "execution_count": null,
   "metadata": {},
   "outputs": [],
   "source": []
  }
 ],
 "metadata": {
  "kernelspec": {
   "display_name": "mesh4d",
   "language": "python",
   "name": "python3"
  },
  "language_info": {
   "codemirror_mode": {
    "name": "ipython",
    "version": 3
   },
   "file_extension": ".py",
   "mimetype": "text/x-python",
   "name": "python",
   "nbconvert_exporter": "python",
   "pygments_lexer": "ipython3",
   "version": "3.9.16"
  }
 },
 "nbformat": 4,
 "nbformat_minor": 2
}
