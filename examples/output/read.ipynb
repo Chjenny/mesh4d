{
 "cells": [
  {
   "cell_type": "code",
   "execution_count": null,
   "metadata": {},
   "outputs": [],
   "source": [
    "# add root folder of the project to path\n",
    "import sys\n",
    "sys.path.insert(0, '../..')"
   ]
  },
  {
   "cell_type": "code",
   "execution_count": null,
   "metadata": {},
   "outputs": [],
   "source": [
    "from mesh4d import utils"
   ]
  },
  {
   "attachments": {},
   "cell_type": "markdown",
   "metadata": {},
   "source": [
    "# Computation Time"
   ]
  },
  {
   "cell_type": "code",
   "execution_count": null,
   "metadata": {},
   "outputs": [],
   "source": [
    "time_cpd = utils.load_pkl_object('cpd/duration.pkl')\n",
    "time_ecpd = utils.load_pkl_object('ecpd/duration.pkl')\n",
    "time_rbf = utils.load_pkl_object('rbf/duration.pkl')\n",
    "time_bcpd = utils.load_pkl_object('bcpd/duration.pkl')"
   ]
  },
  {
   "cell_type": "code",
   "execution_count": null,
   "metadata": {},
   "outputs": [],
   "source": [
    "time_rbf, time_cpd, time_ecpd, time_bcpd"
   ]
  },
  {
   "cell_type": "code",
   "execution_count": null,
   "metadata": {},
   "outputs": [],
   "source": [
    "import matplotlib.pyplot as plt\n",
    "plt.rcParams['figure.dpi'] = 600\n",
    "\n",
    "data = [time_rbf, time_ecpd, time_cpd, time_bcpd]\n",
    "labels = ['Our Approach', 'ECPD', 'CPD', 'BCPD']\n",
    "colors = ['goldenrod', 'teal', 'teal', 'teal']\n",
    "plt.bar(range(len(data)), data, tick_label=labels, color=colors, width=0.5)\n",
    "\n",
    "plt.ylabel('Computation Time (s)')\n",
    "plt.grid(linestyle='--', axis='y')\n",
    "plt.show()"
   ]
  },
  {
   "attachments": {},
   "cell_type": "markdown",
   "metadata": {},
   "source": [
    "# Control Landmarks"
   ]
  },
  {
   "cell_type": "code",
   "execution_count": null,
   "metadata": {},
   "outputs": [],
   "source": [
    "diff_ecpd = utils.load_pkl_object('ecpd/diff.pkl')\n",
    "diff_rbf = utils.load_pkl_object('rbf/diff.pkl')"
   ]
  },
  {
   "cell_type": "code",
   "execution_count": null,
   "metadata": {},
   "outputs": [],
   "source": [
    "for name in diff_rbf['diff_dict'].keys():\n",
    "    print(\"{} & ${:.2f} \\pm {:.2f}$ & ${:.2f} \\pm {:.2f}$ & - \\\\\\\\\".format(\n",
    "        name, \n",
    "        diff_rbf['diff_dict'][name]['dist_mean']/10, \n",
    "        diff_rbf['diff_dict'][name]['dist_std']/10, \n",
    "        diff_ecpd['diff_dict'][name]['dist_mean']/10, \n",
    "        diff_ecpd['diff_dict'][name]['dist_std']/10,\n",
    "        ))"
   ]
  },
  {
   "cell_type": "code",
   "execution_count": null,
   "metadata": {},
   "outputs": [],
   "source": [
    "print(\"${:.2f} \\pm {:.2f}$\".format(\n",
    "    diff_rbf['dist_mean']/10,\n",
    "    diff_rbf['dist_std']/10,\n",
    "    ))"
   ]
  },
  {
   "cell_type": "code",
   "execution_count": null,
   "metadata": {},
   "outputs": [],
   "source": [
    "print(\"${:.2f} \\pm {:.2f}$\".format(\n",
    "    diff_ecpd['dist_mean']/10,\n",
    "    diff_ecpd['dist_std']/10,\n",
    "    ))"
   ]
  },
  {
   "cell_type": "code",
   "execution_count": null,
   "metadata": {},
   "outputs": [],
   "source": [
    "data = [diff_rbf['dist_mean']/10, diff_ecpd['dist_mean']/10]\n",
    "labels = ['Our Approach', 'ECPD']\n",
    "colors = ['goldenrod', 'teal']\n",
    "\n",
    "plt.bar(range(len(data)), data, tick_label=labels, color=colors, width=0.5)\n",
    "plt.errorbar(0, diff_rbf['dist_mean']/10, yerr=diff_rbf['dist_std']/10, color='black', capsize=10)\n",
    "plt.errorbar(1, diff_ecpd['dist_mean']/10, yerr=diff_ecpd['dist_std']/10, color='black', capsize=10)\n",
    "\n",
    "plt.ylabel('Alignment Error (cm)')\n",
    "plt.grid(linestyle='--', axis='y')\n",
    "plt.show()"
   ]
  },
  {
   "attachments": {},
   "cell_type": "markdown",
   "metadata": {},
   "source": [
    "# Arbitrary Landmarks"
   ]
  },
  {
   "cell_type": "code",
   "execution_count": null,
   "metadata": {},
   "outputs": [],
   "source": [
    "diff_cpd = utils.load_pkl_object('cpd/diff.pkl')\n",
    "diff_bcpd = utils.load_pkl_object('bcpd/diff.pkl')"
   ]
  },
  {
   "cell_type": "code",
   "execution_count": null,
   "metadata": {},
   "outputs": [],
   "source": [
    "import os\n",
    "\n",
    "folder = 'rbf/'\n",
    "files = os.listdir(folder)\n",
    "files = [os.path.join(folder, f) for f in files if ('.pkl' in f) and ('marker' in f) and ('duration' not in f)]\n",
    "\n",
    "diff_rbf_ls = []\n",
    "\n",
    "for file in files:\n",
    "    diff_rbf_ls.append(utils.load_pkl_object(file))"
   ]
  },
  {
   "cell_type": "code",
   "execution_count": null,
   "metadata": {},
   "outputs": [],
   "source": [
    "folder = 'ecpd/'\n",
    "files = os.listdir(folder)\n",
    "files = [os.path.join(folder, f) for f in files if ('.pkl' in f) and ('marker' in f) and ('duration' not in f)]\n",
    "\n",
    "diff_ecpd_ls = []\n",
    "\n",
    "for file in files:\n",
    "    diff_ecpd_ls.append(utils.load_pkl_object(file))"
   ]
  },
  {
   "cell_type": "code",
   "execution_count": null,
   "metadata": {},
   "outputs": [],
   "source": [
    "for idx in range(18):\n",
    "    print(\"{} & ${:.2f} \\pm {:.2f}$ & ${:.2f} \\pm {:.2f}$ & ${:.2f} \\pm {:.2f}$ & ${:.2f} \\pm {:.2f}$ \\\\\\\\\".format(\n",
    "        idx,\n",
    "        diff_rbf_ls[idx]['dist_mean']/10,\n",
    "        diff_rbf_ls[idx]['dist_std']/10,\n",
    "        diff_cpd['diff_dict'][\"marker {}\".format(idx)]['dist_mean']/10,\n",
    "        diff_cpd['diff_dict'][\"marker {}\".format(idx)]['dist_std']/10,\n",
    "        diff_ecpd_ls[idx]['dist_mean']/10,\n",
    "        diff_ecpd_ls[idx]['dist_std']/10,\n",
    "        diff_bcpd['diff_dict'][\"marker {}\".format(idx)]['dist_mean']/10,\n",
    "        diff_bcpd['diff_dict'][\"marker {}\".format(idx)]['dist_std']/10,\n",
    "    ))"
   ]
  },
  {
   "cell_type": "code",
   "execution_count": null,
   "metadata": {},
   "outputs": [],
   "source": [
    "import numpy as np\n",
    "\n",
    "dist_ls = []\n",
    "\n",
    "for diff in diff_rbf_ls:\n",
    "    for marker_diff in diff['diff_dict'].values():\n",
    "        dist_ls.append(marker_diff['dist'])\n",
    "\n",
    "dist_array = np.array(dist_ls).reshape((-1,))\n",
    "rbf_mean_uc = np.mean(dist_array)/10\n",
    "rbf_std_uc = np.std(dist_array)/10\n",
    "\n",
    "print(\"${:.2f} \\pm {:.2f}$\".format(\n",
    "    rbf_mean_uc,\n",
    "    rbf_std_uc,\n",
    "))"
   ]
  },
  {
   "cell_type": "code",
   "execution_count": null,
   "metadata": {},
   "outputs": [],
   "source": [
    "dist_ls = []\n",
    "\n",
    "for diff in diff_ecpd_ls:\n",
    "    for marker_diff in diff['diff_dict'].values():\n",
    "        dist_ls.append(marker_diff['dist'])\n",
    "\n",
    "dist_array = np.array(dist_ls).reshape((-1,))\n",
    "ecpd_mean_uc = np.mean(dist_array)/10\n",
    "ecpd_std_uc = np.std(dist_array)/10\n",
    "\n",
    "print(\"${:.2f} \\pm {:.2f}$\".format(\n",
    "    ecpd_mean_uc,\n",
    "    ecpd_std_uc,\n",
    "))"
   ]
  },
  {
   "cell_type": "code",
   "execution_count": null,
   "metadata": {},
   "outputs": [],
   "source": [
    "print(\"${:.2f} \\pm {:.2f}$\".format(\n",
    "    diff_cpd['dist_mean']/10,\n",
    "    diff_cpd['dist_std']/10,\n",
    "))"
   ]
  },
  {
   "cell_type": "code",
   "execution_count": null,
   "metadata": {},
   "outputs": [],
   "source": [
    "print(\"${:.2f} \\pm {:.2f}$\".format(\n",
    "    diff_bcpd['dist_mean']/10,\n",
    "    diff_bcpd['dist_std']/10,\n",
    "))"
   ]
  },
  {
   "cell_type": "code",
   "execution_count": null,
   "metadata": {},
   "outputs": [],
   "source": [
    "data = [rbf_mean_uc, ecpd_mean_uc, diff_cpd['dist_mean']/10, diff_bcpd['dist_mean']/10]\n",
    "labels = ['Our Approach', 'ECPD', 'CPD', 'BCDP']\n",
    "colors = ['goldenrod', 'teal', 'teal', 'teal']\n",
    "\n",
    "plt.bar(range(len(data)), data, tick_label=labels, color=colors, width=0.5)\n",
    "plt.errorbar(0, rbf_mean_uc, yerr=rbf_std_uc, color='black', capsize=10)\n",
    "plt.errorbar(1, ecpd_mean_uc, yerr=ecpd_std_uc, color='black', capsize=10)\n",
    "plt.errorbar(2, diff_cpd['dist_mean']/10, yerr=diff_cpd['dist_std']/10, color='black', capsize=10)\n",
    "plt.errorbar(3, diff_bcpd['dist_mean']/10, yerr=diff_bcpd['dist_std']/10, color='black', capsize=10)\n",
    "\n",
    "plt.ylabel('Alignment Error (cm)')\n",
    "plt.grid(linestyle='--', axis='y')\n",
    "plt.show()"
   ]
  },
  {
   "cell_type": "code",
   "execution_count": null,
   "metadata": {},
   "outputs": [],
   "source": []
  }
 ],
 "metadata": {
  "kernelspec": {
   "display_name": "mesh4d",
   "language": "python",
   "name": "python3"
  },
  "language_info": {
   "codemirror_mode": {
    "name": "ipython",
    "version": 3
   },
   "file_extension": ".py",
   "mimetype": "text/x-python",
   "name": "python",
   "nbconvert_exporter": "python",
   "pygments_lexer": "ipython3",
   "version": "3.9.16"
  }
 },
 "nbformat": 4,
 "nbformat_minor": 2
}
