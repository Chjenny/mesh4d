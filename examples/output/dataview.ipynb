{
 "cells": [
  {
   "cell_type": "code",
   "execution_count": null,
   "metadata": {},
   "outputs": [],
   "source": [
    "# add root folder of the project to path\n",
    "import sys\n",
    "sys.path.insert(0, '../..')"
   ]
  },
  {
   "cell_type": "code",
   "execution_count": null,
   "metadata": {},
   "outputs": [],
   "source": [
    "from mesh4d import utils"
   ]
  },
  {
   "attachments": {},
   "cell_type": "markdown",
   "metadata": {},
   "source": [
    "# Computation time"
   ]
  },
  {
   "cell_type": "code",
   "execution_count": null,
   "metadata": {},
   "outputs": [],
   "source": [
    "time_cpd = utils.load_pkl_object('cpd/duration.pkl')\n",
    "time_ecpd = utils.load_pkl_object('ecpd/duration.pkl')\n",
    "time_rbf = utils.load_pkl_object('rbf/duration.pkl')\n",
    "time_bcpd = utils.load_pkl_object('bcpd/duration.pkl')"
   ]
  },
  {
   "cell_type": "code",
   "execution_count": null,
   "metadata": {},
   "outputs": [],
   "source": [
    "print(\" & Our Approach & CPD & ECPD & BCPD\\\\\\\\\")\n",
    "print(\"Computation Time (s) & {:.2f} & {:.2f} & {:.2f} & {:.2f}\".format(time_rbf, time_cpd, time_ecpd, time_bcpd))"
   ]
  },
  {
   "cell_type": "code",
   "execution_count": null,
   "metadata": {},
   "outputs": [],
   "source": [
    "import matplotlib.pyplot as plt\n",
    "plt.rcParams['figure.dpi'] = 600\n",
    "\n",
    "data = [time_rbf, time_cpd, time_ecpd, time_bcpd]\n",
    "labels = ['Our Approach', 'CPD', 'ECPD', 'BCPD']\n",
    "colors = ['goldenrod', 'teal', 'teal', 'teal']\n",
    "plt.scatter(range(len(data)), data)\n",
    "\n",
    "plt.yscale('log')\n",
    "plt.ylabel('Computation Time (s)')\n",
    "plt.grid(linestyle='--', axis='y')"
   ]
  },
  {
   "cell_type": "code",
   "execution_count": null,
   "metadata": {},
   "outputs": [],
   "source": [
    "import matplotlib.pyplot as plt\n",
    "plt.rcParams['figure.dpi'] = 600\n",
    "\n",
    "data = [time_rbf, time_cpd, time_ecpd, time_bcpd]\n",
    "labels = ['Our Approach', 'CPD', 'ECPD', 'BCPD']\n",
    "colors = ['goldenrod', 'teal', 'teal', 'teal']\n",
    "plt.bar(range(len(data)), data, tick_label=labels, color=colors, width=0.5)\n",
    "\n",
    "plt.yscale('log')\n",
    "plt.ylabel('Computation Time (s)')\n",
    "plt.grid(linestyle='--', axis='y')"
   ]
  },
  {
   "attachments": {},
   "cell_type": "markdown",
   "metadata": {},
   "source": [
    "# Control landmarks alignment"
   ]
  },
  {
   "cell_type": "code",
   "execution_count": null,
   "metadata": {},
   "outputs": [],
   "source": [
    "import numpy as np\n",
    "\n",
    "diff_rbf = utils.load_pkl_object('rbf/diff.pkl')\n",
    "diff_ecpd = utils.load_pkl_object('ecpd/diff.pkl')\n",
    "\n",
    "dist_ecpd = np.array(\n",
    "    [marker['dist'] for marker in diff_ecpd['diff_dict'].values()]\n",
    "    )\n",
    "\n",
    "dist_rbf = np.array(\n",
    "    [marker['dist'] for marker in diff_rbf['diff_dict'].values()]\n",
    "    )"
   ]
  },
  {
   "cell_type": "code",
   "execution_count": null,
   "metadata": {},
   "outputs": [],
   "source": [
    "print(\"Landmarks & Our Approach & ECPD\\\\\\\\\")\n",
    "\n",
    "for name in diff_rbf['diff_dict'].keys():\n",
    "    print(\"{} & ${:.2f} \\pm {:.2f}$ & ${:.2f} \\pm {:.2f}$\\\\\\\\\".format(\n",
    "        name.split(' ')[-1],\n",
    "        diff_rbf['diff_dict'][name]['dist_mean']/10,\n",
    "        diff_rbf['diff_dict'][name]['dist_std']/10,\n",
    "        diff_ecpd['diff_dict'][name]['dist_mean']/10,\n",
    "        diff_ecpd['diff_dict'][name]['dist_std']/10,\n",
    "        ))\n",
    "    \n",
    "print(\"Overall Error & ${:.2f} \\pm {:.2f}$ & ${:.2f} \\pm {:.2f}$\\\\\\\\\".format(\n",
    "    diff_rbf['dist_mean']/10,\n",
    "    diff_rbf['dist_std']/10,\n",
    "    diff_ecpd['dist_mean']/10,\n",
    "    diff_ecpd['dist_std']/10,\n",
    "    ))"
   ]
  },
  {
   "cell_type": "code",
   "execution_count": null,
   "metadata": {},
   "outputs": [],
   "source": [
    "bplot = plt.boxplot(\n",
    "    x = (dist_rbf.reshape((-1,))/10, dist_ecpd.reshape((-1,))/10), \n",
    "    labels = ('Our approach', 'ECPD'),\n",
    "    patch_artist=True, medianprops=dict(color='black'),\n",
    "    )\n",
    "\n",
    "for patch, color in zip(bplot['boxes'], ['goldenrod', 'teal', 'teal', 'teal']):\n",
    "    patch.set_facecolor(color)\n",
    "\n",
    "plt.ylabel('Alignment Error (cm)')"
   ]
  },
  {
   "cell_type": "code",
   "execution_count": null,
   "metadata": {},
   "outputs": [],
   "source": [
    "dist_rbf_time = np.mean(dist_rbf, axis=0)\n",
    "dist_ecpd_time = np.mean(dist_ecpd, axis=0)\n",
    "\n",
    "plt.plot(dist_ecpd_time/10, color='teal')\n",
    "plt.plot(dist_rbf_time/10, color='goldenrod')\n",
    "plt.scatter(range(len(dist_ecpd_time)), dist_ecpd_time/10, color='teal', marker='v', label='ECPD')\n",
    "plt.scatter(range(len(dist_rbf_time)), dist_rbf_time/10, color='goldenrod', label='Our approach')\n",
    "\n",
    "plt.legend(loc='upper left')\n",
    "plt.xlabel('frame id')\n",
    "plt.ylabel('Alignment Error (cm)')"
   ]
  },
  {
   "attachments": {},
   "cell_type": "markdown",
   "metadata": {},
   "source": [
    "# Non-control landmarks alignment"
   ]
  },
  {
   "cell_type": "code",
   "execution_count": null,
   "metadata": {},
   "outputs": [],
   "source": [
    "diff_cpd = utils.load_pkl_object('cpd/diff.pkl')\n",
    "diff_bcpd = utils.load_pkl_object('bcpd/diff.pkl')\n",
    "\n",
    "dist_cpd = np.array([marker['dist'] for marker in diff_cpd['diff_dict'].values()])\n",
    "dist_bcpd = np.array([marker['dist'] for marker in diff_bcpd['diff_dict'].values()])"
   ]
  },
  {
   "cell_type": "code",
   "execution_count": null,
   "metadata": {},
   "outputs": [],
   "source": [
    "import os\n",
    "\n",
    "folder = 'rbf/exclude/'\n",
    "files = os.listdir(folder)\n",
    "files = [os.path.join(folder, f) for f in files if ('.pkl' in f) and ('marker' in f) and ('duration' not in f)]\n",
    "\n",
    "diff_rbf_ls = [utils.load_pkl_object(file) for file in files]\n",
    "dist_rbf = np.array([marker_diff['dist']\n",
    "            for diff in diff_rbf_ls \n",
    "            for marker_diff in diff['diff_dict'].values()])"
   ]
  },
  {
   "cell_type": "code",
   "execution_count": null,
   "metadata": {},
   "outputs": [],
   "source": [
    "folder = 'ecpd/exclude/'\n",
    "files = os.listdir(folder)\n",
    "files = [os.path.join(folder, f) for f in files if ('.pkl' in f) and ('marker' in f) and ('duration' not in f)]\n",
    "\n",
    "diff_ecpd_ls = [utils.load_pkl_object(file) for file in files]\n",
    "dist_ecpd = np.array([marker_diff['dist']\n",
    "            for diff in diff_ecpd_ls \n",
    "            for marker_diff in diff['diff_dict'].values()])"
   ]
  },
  {
   "cell_type": "code",
   "execution_count": null,
   "metadata": {},
   "outputs": [],
   "source": [
    "print(\"Landmarks & Our Approach & CPD & ECPD & BCPD\\\\\\\\\")\n",
    "\n",
    "for idx in range(18):\n",
    "    print(\"{} & ${:.2f} \\pm {:.2f}$ & ${:.2f} \\pm {:.2f}$ & ${:.2f} \\pm {:.2f}$ & ${:.2f} \\pm {:.2f}$ \\\\\\\\\".format(\n",
    "        idx,\n",
    "        diff_rbf_ls[idx]['dist_mean']/10,\n",
    "        diff_rbf_ls[idx]['dist_std']/10,\n",
    "        diff_cpd['diff_dict'][\"marker {}\".format(idx)]['dist_mean']/10,\n",
    "        diff_cpd['diff_dict'][\"marker {}\".format(idx)]['dist_std']/10,\n",
    "        diff_ecpd_ls[idx]['dist_mean']/10,\n",
    "        diff_ecpd_ls[idx]['dist_std']/10,\n",
    "        diff_bcpd['diff_dict'][\"marker {}\".format(idx)]['dist_mean']/10,\n",
    "        diff_bcpd['diff_dict'][\"marker {}\".format(idx)]['dist_std']/10,\n",
    "    ))\n",
    "\n",
    "print(\"Overall Error & ${:.2f} \\pm {:.2f}$ & ${:.2f} \\pm {:.2f}$ & ${:.2f} \\pm {:.2f}$ & ${:.2f} \\pm {:.2f}$ \\\\\\\\\".format(\n",
    "        np.mean(dist_rbf)/10,\n",
    "        np.std(dist_rbf)/10,\n",
    "        diff_cpd['dist_mean']/10,\n",
    "        diff_cpd['dist_std']/10,\n",
    "        np.mean(dist_ecpd)/10,\n",
    "        np.std(dist_ecpd)/10,\n",
    "        diff_bcpd['dist_mean']/10,\n",
    "        diff_bcpd['dist_std']/10,\n",
    "    ))\n",
    "    "
   ]
  },
  {
   "cell_type": "code",
   "execution_count": null,
   "metadata": {},
   "outputs": [],
   "source": [
    "bplot = plt.boxplot(\n",
    "    x = (dist_rbf.reshape((-1,))/10, dist_cpd.reshape((-1,))/10, dist_ecpd.reshape((-1,))/10, dist_bcpd.reshape((-1,))/10), \n",
    "    labels=('Our approach', 'CPD', 'ECPD', 'BCPD'),\n",
    "    patch_artist=True, medianprops=dict(color='black'),\n",
    "    )\n",
    "\n",
    "for patch, color in zip(bplot['boxes'], ['goldenrod', 'teal', 'teal', 'teal']):\n",
    "    patch.set_facecolor(color)\n",
    "\n",
    "plt.ylabel('Alignment Error (cm)')"
   ]
  },
  {
   "cell_type": "code",
   "execution_count": null,
   "metadata": {},
   "outputs": [],
   "source": [
    "dist_rbf_time = np.mean(dist_rbf, axis=0)\n",
    "dist_cpd_time = np.mean(dist_cpd, axis=0)\n",
    "dist_ecpd_time = np.mean(dist_ecpd, axis=0)\n",
    "dist_bcpd_time = np.mean(dist_bcpd, axis=0)\n",
    "\n",
    "plt.plot(dist_cpd_time/10, color='teal')\n",
    "plt.plot(dist_ecpd_time/10, color='teal')\n",
    "plt.plot(dist_bcpd_time/10, color='teal')\n",
    "plt.plot(dist_rbf_time/10, color='goldenrod')\n",
    "\n",
    "plt.scatter(range(len(dist_cpd_time)), dist_cpd_time/10, color='teal', marker='v', label='ECPD')\n",
    "plt.scatter(range(len(dist_ecpd_time)), dist_ecpd_time/10, color='teal', marker='*', label='CPD')\n",
    "plt.scatter(range(len(dist_bcpd_time)), dist_bcpd_time/10, color='teal', marker='+', label='BCPD')\n",
    "plt.scatter(range(len(dist_rbf_time)), dist_rbf_time/10, color='goldenrod', label='Our approach')\n",
    "\n",
    "plt.legend(loc='upper left')\n",
    "plt.xlabel('frame id')\n",
    "plt.ylabel('Alignment Error (cm)')"
   ]
  },
  {
   "attachments": {},
   "cell_type": "markdown",
   "metadata": {},
   "source": [
    "# Ablation study"
   ]
  },
  {
   "cell_type": "code",
   "execution_count": null,
   "metadata": {},
   "outputs": [],
   "source": [
    "kernel_results = utils.load_pkl_object('rbf/ablation/kernel_results.pkl')\n",
    "align_results = utils.load_pkl_object('rbf/ablation/align_results.pkl')\n",
    "nbr_results = utils.load_pkl_object('rbf/ablation/nbr_results.pkl')"
   ]
  }
 ],
 "metadata": {
  "kernelspec": {
   "display_name": "mesh4d",
   "language": "python",
   "name": "python3"
  },
  "language_info": {
   "codemirror_mode": {
    "name": "ipython",
    "version": 3
   },
   "file_extension": ".py",
   "mimetype": "text/x-python",
   "name": "python",
   "nbconvert_exporter": "python",
   "pygments_lexer": "ipython3",
   "version": "3.9.16"
  }
 },
 "nbformat": 4,
 "nbformat_minor": 2
}
