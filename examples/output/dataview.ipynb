{
 "cells": [
  {
   "cell_type": "code",
   "execution_count": null,
   "metadata": {},
   "outputs": [],
   "source": [
    "# add root folder of the project to path\n",
    "import sys\n",
    "sys.path.insert(0, '../..')"
   ]
  },
  {
   "cell_type": "code",
   "execution_count": null,
   "metadata": {},
   "outputs": [],
   "source": [
    "from mesh4d import utils"
   ]
  },
  {
   "attachments": {},
   "cell_type": "markdown",
   "metadata": {},
   "source": [
    "# Computation time"
   ]
  },
  {
   "cell_type": "code",
   "execution_count": null,
   "metadata": {},
   "outputs": [],
   "source": [
    "time_cpd = utils.load_pkl_object('cpd/duration.pkl')\n",
    "time_ecpd = utils.load_pkl_object('ecpd/duration.pkl')\n",
    "time_rbf = utils.load_pkl_object('rbf/duration.pkl')\n",
    "time_bcpd = utils.load_pkl_object('bcpd/duration.pkl')"
   ]
  },
  {
   "cell_type": "code",
   "execution_count": null,
   "metadata": {},
   "outputs": [],
   "source": [
    "time_rbf, time_cpd, time_ecpd, time_bcpd"
   ]
  },
  {
   "cell_type": "code",
   "execution_count": null,
   "metadata": {},
   "outputs": [],
   "source": [
    "import matplotlib.pyplot as plt\n",
    "plt.rcParams['figure.dpi'] = 600\n",
    "\n",
    "data = [time_rbf, time_cpd, time_ecpd, time_bcpd]\n",
    "labels = ['Our Approach', 'CPD', 'ECPD', 'BCPD']\n",
    "colors = ['goldenrod', 'teal', 'teal', 'teal']\n",
    "plt.bar(range(len(data)), data, tick_label=labels, color=colors, width=0.5)\n",
    "\n",
    "plt.ylabel('Computation Time (s)')\n",
    "plt.grid(linestyle='--', axis='y')"
   ]
  },
  {
   "attachments": {},
   "cell_type": "markdown",
   "metadata": {},
   "source": [
    "# Control landmarks alignment"
   ]
  },
  {
   "cell_type": "code",
   "execution_count": null,
   "metadata": {},
   "outputs": [],
   "source": [
    "diff_ecpd = utils.load_pkl_object('ecpd/diff.pkl')\n",
    "diff_rbf = utils.load_pkl_object('rbf/diff.pkl')"
   ]
  },
  {
   "cell_type": "code",
   "execution_count": null,
   "metadata": {},
   "outputs": [],
   "source": [
    "for name in diff_rbf['diff_dict'].keys():\n",
    "    print(\"{} & ${:.2f} \\pm {:.2f}$ & ${:.2f} \\pm {:.2f}$\\\\\\\\\".format(\n",
    "        name.split(' ')[-1],\n",
    "        diff_rbf['diff_dict'][name]['dist_mean']/10,\n",
    "        diff_rbf['diff_dict'][name]['dist_std']/10,\n",
    "        diff_ecpd['diff_dict'][name]['dist_mean']/10,\n",
    "        diff_ecpd['diff_dict'][name]['dist_std']/10,\n",
    "        ))"
   ]
  },
  {
   "cell_type": "code",
   "execution_count": null,
   "metadata": {},
   "outputs": [],
   "source": [
    "print(\"${:.2f} \\pm {:.2f}$\".format(\n",
    "    diff_rbf['dist_mean']/10,\n",
    "    diff_rbf['dist_std']/10,\n",
    "    ))"
   ]
  },
  {
   "cell_type": "code",
   "execution_count": null,
   "metadata": {},
   "outputs": [],
   "source": [
    "print(\"${:.2f} \\pm {:.2f}$\".format(\n",
    "    diff_ecpd['dist_mean']/10,\n",
    "    diff_ecpd['dist_std']/10,\n",
    "    ))"
   ]
  },
  {
   "cell_type": "code",
   "execution_count": null,
   "metadata": {},
   "outputs": [],
   "source": [
    "data = [diff_rbf['dist_mean']/10, diff_ecpd['dist_mean']/10]\n",
    "labels = ['Our Approach', 'ECPD']\n",
    "colors = ['goldenrod', 'teal']\n",
    "\n",
    "plt.bar(range(len(data)), data, tick_label=labels, color=colors, width=0.5)\n",
    "plt.errorbar(0, diff_rbf['dist_mean']/10, yerr=diff_rbf['dist_std']/10, color='black', capsize=10)\n",
    "plt.errorbar(1, diff_ecpd['dist_mean']/10, yerr=diff_ecpd['dist_std']/10, color='black', capsize=10)\n",
    "\n",
    "plt.ylabel('Alignment Error (cm)')\n",
    "plt.grid(linestyle='--', axis='y')"
   ]
  },
  {
   "cell_type": "code",
   "execution_count": null,
   "metadata": {},
   "outputs": [],
   "source": [
    "import numpy as np\n",
    "\n",
    "dist_time_rbf_ls = []\n",
    "dist_time_ecpd_ls = []\n",
    "\n",
    "for marker in diff_rbf['diff_dict'].values():\n",
    "    dist_time_rbf_ls.append(marker['dist'])\n",
    "\n",
    "for marker in diff_ecpd['diff_dict'].values():\n",
    "    dist_time_ecpd_ls.append(marker['dist'])\n",
    "\n",
    "dist_time_rbf_ls = np.array(dist_time_rbf_ls)\n",
    "dist_time_ecpd_ls = np.array(dist_time_ecpd_ls)\n",
    "mean_rbf_ls = np.mean(dist_time_rbf_ls, axis=0)\n",
    "mean_ecpd_ls = np.mean(dist_time_ecpd_ls, axis=0)"
   ]
  },
  {
   "cell_type": "code",
   "execution_count": null,
   "metadata": {},
   "outputs": [],
   "source": [
    "np.std(dist_time_ecpd_ls, axis=0)\n",
    "\n",
    "plt.plot(mean_rbf_ls/10, color='goldenrod')\n",
    "plt.plot(mean_ecpd_ls/10, color='teal')\n",
    "plt.scatter(range(len(mean_rbf_ls)), mean_rbf_ls/10, color='goldenrod', label='Our approach')\n",
    "plt.scatter(range(len(mean_ecpd_ls)), mean_ecpd_ls/10, color='teal', marker='v', label='ECPD')\n",
    "\n",
    "plt.grid(linestyle='--')\n",
    "plt.legend(loc='upper left')\n",
    "plt.xlabel('frame id')\n",
    "plt.ylabel('Alignment Error (cm)')"
   ]
  },
  {
   "attachments": {},
   "cell_type": "markdown",
   "metadata": {},
   "source": [
    "# Non-control landmarks alignment"
   ]
  },
  {
   "cell_type": "code",
   "execution_count": null,
   "metadata": {},
   "outputs": [],
   "source": [
    "diff_cpd = utils.load_pkl_object('cpd/diff.pkl')\n",
    "diff_bcpd = utils.load_pkl_object('bcpd/diff.pkl')"
   ]
  },
  {
   "cell_type": "code",
   "execution_count": null,
   "metadata": {},
   "outputs": [],
   "source": [
    "import os\n",
    "\n",
    "folder = 'rbf/exclude/'\n",
    "files = os.listdir(folder)\n",
    "files = [os.path.join(folder, f) for f in files if ('.pkl' in f) and ('marker' in f) and ('duration' not in f)]\n",
    "\n",
    "diff_rbf_ls = []\n",
    "\n",
    "for file in files:\n",
    "    diff_rbf_ls.append(utils.load_pkl_object(file))"
   ]
  },
  {
   "cell_type": "code",
   "execution_count": null,
   "metadata": {},
   "outputs": [],
   "source": [
    "folder = 'ecpd/exclude/'\n",
    "files = os.listdir(folder)\n",
    "files = [os.path.join(folder, f) for f in files if ('.pkl' in f) and ('marker' in f) and ('duration' not in f)]\n",
    "\n",
    "diff_ecpd_ls = []\n",
    "\n",
    "for file in files:\n",
    "    diff_ecpd_ls.append(utils.load_pkl_object(file))"
   ]
  },
  {
   "cell_type": "code",
   "execution_count": null,
   "metadata": {},
   "outputs": [],
   "source": [
    "for idx in range(18):\n",
    "    print(\"{} & ${:.2f} \\pm {:.2f}$ & ${:.2f} \\pm {:.2f}$ & ${:.2f} \\pm {:.2f}$ & ${:.2f} \\pm {:.2f}$ \\\\\\\\\".format(\n",
    "        idx,\n",
    "        diff_rbf_ls[idx]['dist_mean']/10,\n",
    "        diff_rbf_ls[idx]['dist_std']/10,\n",
    "        diff_cpd['diff_dict'][\"marker {}\".format(idx)]['dist_mean']/10,\n",
    "        diff_cpd['diff_dict'][\"marker {}\".format(idx)]['dist_std']/10,\n",
    "        diff_ecpd_ls[idx]['dist_mean']/10,\n",
    "        diff_ecpd_ls[idx]['dist_std']/10,\n",
    "        diff_bcpd['diff_dict'][\"marker {}\".format(idx)]['dist_mean']/10,\n",
    "        diff_bcpd['diff_dict'][\"marker {}\".format(idx)]['dist_std']/10,\n",
    "    ))"
   ]
  },
  {
   "cell_type": "code",
   "execution_count": null,
   "metadata": {},
   "outputs": [],
   "source": [
    "import numpy as np\n",
    "\n",
    "dist_ls = []\n",
    "\n",
    "for diff in diff_rbf_ls:\n",
    "    for marker_diff in diff['diff_dict'].values():\n",
    "        dist_ls.append(marker_diff['dist'])\n",
    "\n",
    "dist_array = np.array(dist_ls)\n",
    "rbf_mean_uc = np.mean(dist_array)/10\n",
    "rbf_std_uc = np.std(dist_array)/10\n",
    "\n",
    "print(\"${:.2f} \\pm {:.2f}$\".format(\n",
    "    rbf_mean_uc,\n",
    "    rbf_std_uc,\n",
    "))"
   ]
  },
  {
   "cell_type": "code",
   "execution_count": null,
   "metadata": {},
   "outputs": [],
   "source": [
    "dist_time_rbf = np.mean(dist_array, axis=0)"
   ]
  },
  {
   "cell_type": "code",
   "execution_count": null,
   "metadata": {},
   "outputs": [],
   "source": [
    "print(\"${:.2f} \\pm {:.2f}$\".format(\n",
    "    diff_cpd['dist_mean']/10,\n",
    "    diff_cpd['dist_std']/10,\n",
    "))"
   ]
  },
  {
   "cell_type": "code",
   "execution_count": null,
   "metadata": {},
   "outputs": [],
   "source": [
    "dist_ls = []\n",
    "\n",
    "for diff in diff_ecpd_ls:\n",
    "    for marker_diff in diff['diff_dict'].values():\n",
    "        dist_ls.append(marker_diff['dist'])\n",
    "\n",
    "dist_array = np.array(dist_ls)\n",
    "ecpd_mean_uc = np.mean(dist_array)/10\n",
    "ecpd_std_uc = np.std(dist_array)/10\n",
    "\n",
    "print(\"${:.2f} \\pm {:.2f}$\".format(\n",
    "    ecpd_mean_uc,\n",
    "    ecpd_std_uc,\n",
    "))"
   ]
  },
  {
   "cell_type": "code",
   "execution_count": null,
   "metadata": {},
   "outputs": [],
   "source": [
    "dist_time_ecpd = np.mean(dist_array, axis=0)"
   ]
  },
  {
   "cell_type": "code",
   "execution_count": null,
   "metadata": {},
   "outputs": [],
   "source": [
    "print(\"${:.2f} \\pm {:.2f}$\".format(\n",
    "    diff_bcpd['dist_mean']/10,\n",
    "    diff_bcpd['dist_std']/10,\n",
    "))"
   ]
  },
  {
   "cell_type": "code",
   "execution_count": null,
   "metadata": {},
   "outputs": [],
   "source": [
    "data = [rbf_mean_uc, diff_cpd['dist_mean']/10, ecpd_mean_uc, diff_bcpd['dist_mean']/10]\n",
    "labels = ['Our Approach', 'CPD', 'ECPD', 'BCDP']\n",
    "colors = ['goldenrod', 'teal', 'teal', 'teal']\n",
    "\n",
    "plt.bar(range(len(data)), data, tick_label=labels, color=colors, width=0.5)\n",
    "plt.errorbar(0, rbf_mean_uc, yerr=rbf_std_uc, color='black', capsize=10)\n",
    "plt.errorbar(1, diff_cpd['dist_mean']/10, yerr=diff_cpd['dist_std']/10, color='black', capsize=10)\n",
    "plt.errorbar(2, ecpd_mean_uc, yerr=ecpd_std_uc, color='black', capsize=10)\n",
    "plt.errorbar(3, diff_bcpd['dist_mean']/10, yerr=diff_bcpd['dist_std']/10, color='black', capsize=10)\n",
    "\n",
    "plt.ylabel('Alignment Error (cm)')\n",
    "plt.grid(linestyle='--', axis='y')"
   ]
  },
  {
   "cell_type": "code",
   "execution_count": null,
   "metadata": {},
   "outputs": [],
   "source": [
    "import numpy as np\n",
    "\n",
    "dist_time_cpd_ls = []\n",
    "dist_time_bcpd_ls = []\n",
    "\n",
    "for marker in diff_cpd['diff_dict'].values():\n",
    "    dist_time_cpd_ls.append(marker['dist'])\n",
    "\n",
    "for marker in diff_bcpd['diff_dict'].values():\n",
    "    dist_time_bcpd_ls.append(marker['dist'])\n",
    "\n",
    "dist_time_cpd_ls = np.array(dist_time_cpd_ls)\n",
    "dist_time_bcpd_ls = np.array(dist_time_bcpd_ls)\n",
    "mean_cpd_ls = np.mean(dist_time_cpd_ls, axis=0)\n",
    "mean_bcpd_ls = np.mean(dist_time_bcpd_ls, axis=0)"
   ]
  },
  {
   "cell_type": "code",
   "execution_count": null,
   "metadata": {},
   "outputs": [],
   "source": [
    "plt.plot(dist_time_ecpd/10, color='teal')\n",
    "plt.plot(dist_time_rbf/10, color='goldenrod')\n",
    "plt.scatter(range(len(dist_time_rbf)), dist_time_rbf/10, color='goldenrod', label='Our approach')\n",
    "plt.scatter(range(len(dist_time_ecpd)), dist_time_ecpd/10, color='teal', marker='v', label='ECPD')\n",
    "\n",
    "plt.plot(mean_cpd_ls/10, color='teal')\n",
    "plt.plot(mean_bcpd_ls/10, color='teal')\n",
    "plt.scatter(range(len(mean_cpd_ls)), mean_cpd_ls/10, color='teal', marker='*', label='CPD')\n",
    "plt.scatter(range(len(mean_bcpd_ls)), mean_bcpd_ls/10, color='teal', marker='+', label='BCPD')\n",
    "\n",
    "plt.grid(linestyle='--')\n",
    "plt.legend(loc='upper left')\n",
    "plt.xlabel('frame id')\n",
    "plt.ylabel('Alignment Error (cm)')"
   ]
  },
  {
   "attachments": {},
   "cell_type": "markdown",
   "metadata": {},
   "source": [
    "# Ablation study"
   ]
  },
  {
   "cell_type": "code",
   "execution_count": null,
   "metadata": {},
   "outputs": [],
   "source": [
    "kernel_results = utils.load_pkl_object('rbf/ablation/kernel_results.pkl')\n",
    "align_results = utils.load_pkl_object('rbf/ablation/align_results.pkl')"
   ]
  },
  {
   "attachments": {},
   "cell_type": "markdown",
   "metadata": {},
   "source": [
    "## Kernel selection"
   ]
  },
  {
   "cell_type": "code",
   "execution_count": null,
   "metadata": {},
   "outputs": [],
   "source": [
    "# data aggregate\n",
    "duration_ls = []\n",
    "control_dist_mean_ls = []\n",
    "control_dist_std_ls = []\n",
    "\n",
    "for kernel in kernel_results['control landmarks'].values():\n",
    "    duration_ls.append(kernel['duration'])\n",
    "    control_dist_mean_ls.append(kernel['dist_mean']/10)\n",
    "    control_dist_std_ls.append(kernel['dist_std']/10)\n",
    "\n",
    "noncontrol_dist_mean_ls = []\n",
    "noncontrol_dist_std_ls = []\n",
    "\n",
    "for kernel in kernel_results['non-control landmarks'].values():\n",
    "    noncontrol_dist_mean_ls.append(kernel['dist_mean']/10)\n",
    "    noncontrol_dist_std_ls.append(kernel['dist_std']/10)"
   ]
  },
  {
   "cell_type": "code",
   "execution_count": null,
   "metadata": {},
   "outputs": [],
   "source": [
    "import matplotlib.pyplot as plt\n",
    "plt.rcParams['figure.dpi'] = 600\n",
    "\n",
    "fig, ax1 = plt.subplots()\n",
    "ax2 = ax1.twinx()\n",
    "\n",
    "# control landmarks\n",
    "ax1.bar(np.arange(\n",
    "    len(control_dist_mean_ls)) * 4, control_dist_mean_ls, color='olive',\n",
    "    label='control landmarks',\n",
    "    tick_label= ['TPS', 'linear', 'cubic', 'quintic'],\n",
    "    )\n",
    "\n",
    "# non-control landmarks\n",
    "ax1.bar(\n",
    "    np.arange(len(noncontrol_dist_mean_ls)) * 4 + 1, noncontrol_dist_mean_ls, color='goldenrod',\n",
    "    label='non-control landmarks',\n",
    "    )\n",
    "\n",
    "# duration\n",
    "ax2.bar(np.arange(len(duration_ls)) * 4 + 2, duration_ls, color='teal', label='computation time')\n",
    "\n",
    "ax1.set_ylabel('Alignment Error (cm)', color='goldenrod')\n",
    "ax2.set_ylabel('Computation Time (s)', color='teal')\n",
    "ax1.set_yscale('log')\n",
    "ax1.legend(loc=[0.01, 0.85])\n",
    "\n",
    "ax2.legend(loc=[0.01, 0.77])\n",
    "ax2.grid(linestyle='--', axis='y')"
   ]
  },
  {
   "cell_type": "code",
   "execution_count": null,
   "metadata": {},
   "outputs": [],
   "source": [
    "for ls in zip(['None', 1, 2, 5], duration_ls, control_dist_mean_ls, control_dist_std_ls, noncontrol_dist_mean_ls, noncontrol_dist_std_ls):\n",
    "    print(\"{} & {:.2f} & {:.2f} \\pm {:.2f} & {:.2f} \\pm {:.2f}\\\\\\\\\".format(*ls))"
   ]
  },
  {
   "attachments": {},
   "cell_type": "markdown",
   "metadata": {},
   "source": [
    "## Post-alignment"
   ]
  },
  {
   "cell_type": "code",
   "execution_count": null,
   "metadata": {},
   "outputs": [],
   "source": [
    "# data aggregate\n",
    "duration_ls = []\n",
    "merge_dist_mean_ls = []\n",
    "merge_dist_std_ls = []\n",
    "\n",
    "for k_nbr in align_results['merge'].values():\n",
    "    duration_ls.append(k_nbr['duration'])\n",
    "    merge_dist_mean_ls.append(k_nbr['dist_mean']/10)\n",
    "    merge_dist_std_ls.append(k_nbr['dist_std']/10)"
   ]
  },
  {
   "cell_type": "code",
   "execution_count": null,
   "metadata": {},
   "outputs": [],
   "source": [
    "import matplotlib.pyplot as plt\n",
    "plt.rcParams['figure.dpi'] = 600\n",
    "\n",
    "fig, ax1 = plt.subplots()\n",
    "ax2 = ax1.twinx()\n",
    "\n",
    "# shape mergence\n",
    "ax1.bar(np.arange(\n",
    "    len(merge_dist_mean_ls)) * 3, merge_dist_mean_ls, color='goldenrod',\n",
    "    label='alignment distance',\n",
    "    tick_label= ['None', '1', '2', '5'],\n",
    "    )\n",
    "\n",
    "# duration\n",
    "ax2.bar(np.arange(len(duration_ls)) * 3 + 1, duration_ls, color='teal', label='computation time')\n",
    "\n",
    "ax1.set_xlabel('Parameter $M$ in post alignment')\n",
    "ax1.set_ylabel('Shape Alignment Distance (cm)', color='goldenrod')\n",
    "ax1.set_yscale('log')\n",
    "ax1.legend(loc=[0.01, 0.58])\n",
    "\n",
    "ax2.set_ylabel('Computation Time (s)', color='teal')\n",
    "ax2.legend(loc=[0.01, 0.5])\n",
    "ax2.grid(linestyle='--', axis='y')"
   ]
  },
  {
   "cell_type": "code",
   "execution_count": null,
   "metadata": {},
   "outputs": [],
   "source": [
    "for ls in zip(['None', 1, 2, 5], duration_ls, merge_dist_mean_ls, merge_dist_std_ls):\n",
    "    print(\"{} & {:.2f} & {:.2f} \\pm {:.2f}\\\\\\\\\".format(*ls))"
   ]
  },
  {
   "cell_type": "code",
   "execution_count": null,
   "metadata": {},
   "outputs": [],
   "source": []
  }
 ],
 "metadata": {
  "kernelspec": {
   "display_name": "mesh4d",
   "language": "python",
   "name": "python3"
  },
  "language_info": {
   "codemirror_mode": {
    "name": "ipython",
    "version": 3
   },
   "file_extension": ".py",
   "mimetype": "text/x-python",
   "name": "python",
   "nbconvert_exporter": "python",
   "pygments_lexer": "ipython3",
   "version": "3.9.16"
  }
 },
 "nbformat": 4,
 "nbformat_minor": 2
}
