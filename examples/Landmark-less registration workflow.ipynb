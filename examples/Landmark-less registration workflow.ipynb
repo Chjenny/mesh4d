{
 "cells": [
  {
   "cell_type": "code",
   "execution_count": null,
   "metadata": {},
   "outputs": [],
   "source": [
    "# add root folder of the project to path\n",
    "import sys\n",
    "sys.path.insert(0, '..')"
   ]
  },
  {
   "cell_type": "code",
   "execution_count": null,
   "metadata": {},
   "outputs": [],
   "source": [
    "# parameter settings\n",
    "is_plot = True\n",
    "is_export = True\n",
    "\n",
    "landmarks_path = '../data/landmarks/6kmh_braless_18markers_12fps.pkl'\n",
    "meshes_path = '../data/meshes/6kmh_braless_26markers/'\n",
    "test_landmarks_path = '../data/test/braless_random_landmarks.pkl'\n",
    "\n",
    "start=0\n",
    "stride = 12\n",
    "end=120"
   ]
  },
  {
   "attachments": {},
   "cell_type": "markdown",
   "metadata": {},
   "source": [
    "# Data Loading"
   ]
  },
  {
   "cell_type": "code",
   "execution_count": null,
   "metadata": {},
   "outputs": [],
   "source": [
    "from mesh4d import obj3d\n",
    "\n",
    "mesh_ls, texture_ls = obj3d.load_mesh_series(\n",
    "    folder=meshes_path,\n",
    "    start=start,\n",
    "    stride=stride,\n",
    "    end=end,\n",
    ")"
   ]
  },
  {
   "cell_type": "code",
   "execution_count": null,
   "metadata": {},
   "outputs": [],
   "source": [
    "from mesh4d import utils\n",
    "\n",
    "landmarks = utils.load_pkl_object(landmarks_path)\n",
    "landmarks.interp_field()"
   ]
  },
  {
   "cell_type": "code",
   "execution_count": null,
   "metadata": {},
   "outputs": [],
   "source": [
    "from mesh4d.analyse.crave import clip_with_contour\n",
    "\n",
    "contour = landmarks.extract(('marker 0', 'marker 2', 'marker 15', 'marker 17'))\n",
    "mesh_clip_ls = clip_with_contour(mesh_ls, start_time=0, fps=12, contour=contour, clip_bound='xy', margin=0.5)"
   ]
  },
  {
   "cell_type": "code",
   "execution_count": null,
   "metadata": {},
   "outputs": [],
   "source": [
    "body_ls = obj3d.init_obj_series(\n",
    "    mesh_ls, \n",
    "    obj_type=obj3d.Obj3d_Deform\n",
    "    )"
   ]
  },
  {
   "cell_type": "code",
   "execution_count": null,
   "metadata": {},
   "outputs": [],
   "source": [
    "breast_ls = obj3d.init_obj_series(\n",
    "    mesh_clip_ls, \n",
    "    obj_type=obj3d.Obj3d_Deform\n",
    "    )"
   ]
  },
  {
   "attachments": {},
   "cell_type": "markdown",
   "metadata": {},
   "source": [
    "# Registration Approach Selection"
   ]
  },
  {
   "cell_type": "code",
   "execution_count": null,
   "metadata": {},
   "outputs": [],
   "source": [
    "import time\n",
    "start_time = time.time()"
   ]
  },
  {
   "attachments": {},
   "cell_type": "markdown",
   "metadata": {},
   "source": [
    "---\n",
    "\n",
    "_P.S. Only activate one of the following code blocks in this section_"
   ]
  },
  {
   "cell_type": "code",
   "execution_count": null,
   "metadata": {},
   "outputs": [],
   "source": [
    "# \"\"\"\n",
    "from mesh4d.regist import reg_rbf\n",
    "\n",
    "export_folder = 'output/rbf/'\n",
    "\n",
    "o4 = reg_rbf.Obj4d_RBF(\n",
    "    fps=120 / stride,\n",
    "    enable_rigid=False,\n",
    "    enable_nonrigid=True,\n",
    "    )\n",
    "\n",
    "o4.add_obj(*body_ls, landmarks=landmarks)\n",
    "o4.load_markerset('landmarks', landmarks)\n",
    "o4.regist('landmarks')\n",
    "# \"\"\""
   ]
  },
  {
   "cell_type": "code",
   "execution_count": null,
   "metadata": {},
   "outputs": [],
   "source": [
    "\"\"\"\n",
    "from mesh4d.regist import reg_ecpd\n",
    "\n",
    "export_folder = 'output/ecpd/'\n",
    "\n",
    "o4 = reg_ecpd.Obj4d_ECPD(\n",
    "    fps=120 / stride,\n",
    "    enable_rigid=False,\n",
    "    enable_nonrigid=True,\n",
    "    regist_points_num=1000,\n",
    "    )\n",
    "\n",
    "o4.add_obj(*breast_ls, landmarks=landmarks)\n",
    "o4.load_markerset('landmarks', landmarks)\n",
    "o4.regist('landmarks')\n",
    "\"\"\""
   ]
  },
  {
   "attachments": {},
   "cell_type": "markdown",
   "metadata": {},
   "source": [
    "---\n",
    "\n",
    "Export time duration"
   ]
  },
  {
   "cell_type": "code",
   "execution_count": null,
   "metadata": {},
   "outputs": [],
   "source": [
    "duration = time.time() - start_time\n",
    "print(\"computation time: {}\".format(duration))\n",
    "\n",
    "if is_export:\n",
    "    utils.save_pkl_object(duration, export_folder, 'duration')"
   ]
  },
  {
   "attachments": {},
   "cell_type": "markdown",
   "metadata": {},
   "source": [
    "# Ultra-dense Motion Capture"
   ]
  },
  {
   "attachments": {},
   "cell_type": "markdown",
   "metadata": {},
   "source": [
    "## Control Landmarks"
   ]
  },
  {
   "cell_type": "code",
   "execution_count": null,
   "metadata": {},
   "outputs": [],
   "source": [
    "kps_source = landmarks.get_time_coord(0)\n",
    "o4.vkps_track(kps_source, frame_id=0)"
   ]
  },
  {
   "cell_type": "code",
   "execution_count": null,
   "metadata": {},
   "outputs": [],
   "source": [
    "from mesh4d import kps\n",
    "vkps = o4.assemble_markerset(name='vkps')\n",
    "diff = kps.MarkerSet.diff(vkps, landmarks)\n",
    "\n",
    "\"\"\"\n",
    "inver_markers = ('marker 1', 'marker 4', 'marker 5', 'marker 6', 'marker 7', 'marker 8', 'marker 9', 'marker 10', 'marker 11', 'marker 12', 'marker 13')\n",
    "diff = kps.MarkerSet.diff(vkps.extract(inver_markers), landmarks.extract(inver_markers))\n",
    "\"\"\""
   ]
  },
  {
   "cell_type": "code",
   "execution_count": null,
   "metadata": {},
   "outputs": [],
   "source": [
    "if is_export:\n",
    "    utils.save_pkl_object(diff, export_folder, 'diff')"
   ]
  },
  {
   "cell_type": "code",
   "execution_count": null,
   "metadata": {},
   "outputs": [],
   "source": [
    "if is_plot:\n",
    "    o4.export_deform_gif(export_folder, filename='vkps', kps_names=('vkps', 'landmarks'))"
   ]
  },
  {
   "attachments": {},
   "cell_type": "markdown",
   "metadata": {},
   "source": [
    "## Randomly Selected Landmarks"
   ]
  },
  {
   "cell_type": "code",
   "execution_count": null,
   "metadata": {},
   "outputs": [],
   "source": [
    "from mesh4d import utils\n",
    "\n",
    "random_landmarks = utils.load_pkl_object(test_landmarks_path)\n",
    "random_kps = random_landmarks.get_frame_coord(0)"
   ]
  },
  {
   "cell_type": "code",
   "execution_count": null,
   "metadata": {},
   "outputs": [],
   "source": [
    "o4.vkps_track(random_kps, frame_id=0, name='vkps_random')\n",
    "vkps_random = o4.assemble_markerset(name='vkps_random')"
   ]
  },
  {
   "cell_type": "code",
   "execution_count": null,
   "metadata": {},
   "outputs": [],
   "source": [
    "if is_plot:\n",
    "    o4.export_deform_gif(output_folder=export_folder, filename='vkps_random', kps_names=('vkps_random',))"
   ]
  },
  {
   "attachments": {},
   "cell_type": "markdown",
   "metadata": {},
   "source": [
    "## Full-field Breast Deformation Estimation"
   ]
  },
  {
   "cell_type": "code",
   "execution_count": null,
   "metadata": {},
   "outputs": [],
   "source": [
    "breast_kps = breast_ls[1].get_sample_kps(1000)\n",
    "o4.vkps_track(breast_kps, frame_id=1, name='vkps_breast_full')"
   ]
  },
  {
   "cell_type": "code",
   "execution_count": null,
   "metadata": {},
   "outputs": [],
   "source": [
    "vkps_breast_full = o4.assemble_markerset(name='vkps_breast_full')\n",
    "vkps_breast_full.interp_field()"
   ]
  },
  {
   "cell_type": "code",
   "execution_count": null,
   "metadata": {},
   "outputs": [],
   "source": [
    "from mesh4d.analyse import visual, measure\n",
    "\n",
    "_, starts, traces = measure.markerset_trace_length(vkps_breast_full, start_frame=1)\n",
    "\n",
    "if is_plot:\n",
    "    visual.show_mesh_value_mask(\n",
    "        mesh_clip_ls[1], starts, traces, \n",
    "        min_threshold=100, max_threshold=900,\n",
    "        is_save=True, export_folder=export_folder, export_name='breast_disp',\n",
    "        show_edges=True)"
   ]
  },
  {
   "attachments": {},
   "cell_type": "markdown",
   "metadata": {},
   "source": [
    "# K-fold cross-verfication"
   ]
  },
  {
   "attachments": {},
   "cell_type": "markdown",
   "metadata": {},
   "source": [
    "import time\n",
    "from mesh4d import kps\n",
    "\n",
    "import mesh4d\n",
    "mesh4d.output_msg = False\n",
    "\n",
    "for name in landmarks.markers.keys():\n",
    "    # split dataset\n",
    "    landmarks_test, landmarks_train = landmarks.split((name, ))\n",
    "\n",
    "    start_time = time.time()\n",
    "\n",
    "    o4 = reg_rbf.Obj4d_RBF(\n",
    "        fps=120 / stride,\n",
    "        enable_rigid=False,\n",
    "        enable_nonrigid=True,\n",
    "    )\n",
    "    o4.add_obj(*body_ls, landmarks=landmarks_train)\n",
    "    o4.load_markerset('landmarks_train', landmarks_train)\n",
    "    o4.load_markerset('landmarks_test', landmarks_test)\n",
    "\n",
    "    duration = time.time() - start_time\n",
    "    print(\"computation time: {}\".format(duration))\n",
    "    utils.save_pkl_object(duration, 'output/rbf/{}/duration.pkl'.format(name))\n",
    "\n",
    "    # virtual key points tracking\n",
    "    kps_source = landmarks_test.get_time_coord(0)\n",
    "    o4.vkps_track(kps_source, frame_id=0, name='vkps_test')\n",
    "    kps_source = landmarks_train.get_time_coord(0)\n",
    "    o4.vkps_track(kps_source, frame_id=0, name='vkps_train')\n",
    "\n",
    "    # quantitative estimation\n",
    "    if is_plot:\n",
    "        o4.show_deform_gif(output_folder='output/rbf/{}'.format(name), filename='vkps_train', kps_names=('vkps_train', 'landmarks_train'))\n",
    "        o4.show_deform_gif(output_folder='output/rbf/{}'.format(name), filename='vkps_test', kps_names=('vkps_test', 'landmarks_test'))\n",
    "        \n",
    "    # quantitative estimation\n",
    "    vkps = o4.assemble_markerset(name='vkps_train')\n",
    "    diff_train = kps.MarkerSet.diff(vkps, landmarks_train)\n",
    "    utils.save_pkl_object(diff_train, 'output/rbf/{}/diff_train.pkl'.format(name))\n",
    "\n",
    "    vkps = o4.assemble_markerset(name='vkps_test')\n",
    "    diff_test = kps.MarkerSet.diff(vkps, landmarks_test)\n",
    "    utils.save_pkl_object(diff_test, 'output/rbf/{}/diff_test.pkl'.format(name))\n",
    "\n",
    "    print(\"{} train error: {} test_error: {}\".format(name, diff_train['diff_str'], diff_test['diff_str']))"
   ]
  },
  {
   "cell_type": "code",
   "execution_count": null,
   "metadata": {},
   "outputs": [],
   "source": []
  }
 ],
 "metadata": {
  "kernelspec": {
   "display_name": "base",
   "language": "python",
   "name": "python3"
  },
  "language_info": {
   "codemirror_mode": {
    "name": "ipython",
    "version": 3
   },
   "file_extension": ".py",
   "mimetype": "text/x-python",
   "name": "python",
   "nbconvert_exporter": "python",
   "pygments_lexer": "ipython3",
   "version": "3.9.16"
  },
  "vscode": {
   "interpreter": {
    "hash": "8c8ccae62b03e03f602162ec2d3ff7715f4331cfb18cae8be1463dcdd08d9f0b"
   }
  }
 },
 "nbformat": 4,
 "nbformat_minor": 2
}
