{
 "cells": [
  {
   "cell_type": "code",
   "execution_count": null,
   "metadata": {},
   "outputs": [],
   "source": [
    "# add root folder of the project to path\n",
    "import sys\n",
    "sys.path.insert(0, '..')"
   ]
  },
  {
   "cell_type": "code",
   "execution_count": null,
   "metadata": {},
   "outputs": [],
   "source": [
    "# parameter settings\n",
    "is_plot = True\n",
    "is_export = True\n",
    "\n",
    "landmarks_path = '../data/landmarks/refine_6kmh_braless_18markers_12fps.pkl'\n",
    "meshes_path = '../data/meshes/6kmh_braless_26markers/'\n",
    "test_landmarks_path = '../data/test/braless_random_landmarks.pkl'\n",
    "\n",
    "start=0\n",
    "stride = 12\n",
    "end=120"
   ]
  },
  {
   "attachments": {},
   "cell_type": "markdown",
   "metadata": {},
   "source": [
    "# Data Loading"
   ]
  },
  {
   "cell_type": "code",
   "execution_count": null,
   "metadata": {},
   "outputs": [],
   "source": [
    "from mesh4d import obj3d\n",
    "from mesh4d.analyse import crave\n",
    "\n",
    "mesh_ls, texture_ls = obj3d.load_mesh_series(\n",
    "    folder=meshes_path,\n",
    "    start=start,\n",
    "    stride=stride,\n",
    "    end=end,\n",
    ")\n",
    "mesh_ls = [crave.fix_pvmesh_disconnect(mesh) for mesh in mesh_ls]"
   ]
  },
  {
   "cell_type": "code",
   "execution_count": null,
   "metadata": {},
   "outputs": [],
   "source": [
    "from mesh4d import utils\n",
    "\n",
    "landmarks = utils.load_pkl_object(landmarks_path)\n",
    "landmarks.interp_field()"
   ]
  },
  {
   "cell_type": "code",
   "execution_count": null,
   "metadata": {},
   "outputs": [],
   "source": [
    "from mesh4d.analyse.crave import clip_with_contour\n",
    "\n",
    "contour = landmarks.extract(('marker 0', 'marker 2', 'marker 15', 'marker 17'))\n",
    "mesh_clip_ls = clip_with_contour(mesh_ls, start_time=0, fps=12, contour=contour, clip_bound='xy', margin=0.5)"
   ]
  },
  {
   "cell_type": "code",
   "execution_count": null,
   "metadata": {},
   "outputs": [],
   "source": [
    "body_ls = obj3d.init_obj_series(\n",
    "    mesh_ls, \n",
    "    obj_type=obj3d.Obj3d_Deform\n",
    "    )"
   ]
  },
  {
   "cell_type": "code",
   "execution_count": null,
   "metadata": {},
   "outputs": [],
   "source": [
    "breast_ls = obj3d.init_obj_series(\n",
    "    mesh_clip_ls, \n",
    "    obj_type=obj3d.Obj3d_Deform\n",
    "    )"
   ]
  },
  {
   "attachments": {},
   "cell_type": "markdown",
   "metadata": {},
   "source": [
    "---\n",
    "# Registration Approach Selection\n",
    "\n",
    "\n",
    "_P.S. Only activate one of the following code blocks in this section_"
   ]
  },
  {
   "cell_type": "code",
   "execution_count": null,
   "metadata": {},
   "outputs": [],
   "source": [
    "# \"\"\"\n",
    "from mesh4d.regist import reg_rbf\n",
    "\n",
    "obj3d_ls = body_ls\n",
    "obj4d_type = reg_rbf.Obj4d_RBF\n",
    "export_folder = 'output/rbf/'\n",
    "# \"\"\""
   ]
  },
  {
   "cell_type": "code",
   "execution_count": null,
   "metadata": {},
   "outputs": [],
   "source": [
    "\"\"\"\n",
    "from mesh4d.regist import reg_ecpd\n",
    "\n",
    "obj3d_ls = breast_ls\n",
    "obj4d_type = reg_ecpd.Obj4d_ECPD\n",
    "export_folder = 'output/ecpd/'\n",
    "\"\"\""
   ]
  },
  {
   "attachments": {},
   "cell_type": "markdown",
   "metadata": {},
   "source": [
    "# Ultra-dense Motion Capture"
   ]
  },
  {
   "cell_type": "code",
   "execution_count": null,
   "metadata": {},
   "outputs": [],
   "source": [
    "import time\n",
    "start_time = time.time()\n",
    "\n",
    "o4 = obj4d_type(\n",
    "    fps=120 / stride,\n",
    "    enable_rigid=False,\n",
    "    enable_nonrigid=True,\n",
    ")\n",
    "o4.add_obj(*obj3d_ls)\n",
    "o4.load_markerset('landmarks', landmarks)\n",
    "o4.regist('landmarks')\n",
    "\n",
    "duration = time.time() - start_time"
   ]
  },
  {
   "cell_type": "code",
   "execution_count": null,
   "metadata": {},
   "outputs": [],
   "source": [
    "print(\"computation time: {}\".format(duration))\n",
    "\n",
    "if is_export:\n",
    "    utils.save_pkl_object(duration, export_folder=export_folder, export_name='duration')"
   ]
  },
  {
   "attachments": {},
   "cell_type": "markdown",
   "metadata": {},
   "source": [
    "## Control Landmarks"
   ]
  },
  {
   "cell_type": "code",
   "execution_count": null,
   "metadata": {},
   "outputs": [],
   "source": [
    "kps_source = landmarks.get_time_coord(0)\n",
    "o4.vkps_track(kps_source, start_id=0)"
   ]
  },
  {
   "cell_type": "code",
   "execution_count": null,
   "metadata": {},
   "outputs": [],
   "source": [
    "from mesh4d import kps\n",
    "vkps = o4.assemble_markerset(name='vkps')\n",
    "diff = kps.MarkerSet.diff(vkps, landmarks)"
   ]
  },
  {
   "cell_type": "code",
   "execution_count": null,
   "metadata": {},
   "outputs": [],
   "source": [
    "if is_export:\n",
    "    utils.save_pkl_object(diff, export_folder, 'diff')"
   ]
  },
  {
   "cell_type": "code",
   "execution_count": null,
   "metadata": {},
   "outputs": [],
   "source": [
    "if is_plot:\n",
    "    o4.export_pcd_gif(export_folder, filename='vkps', kps_names=('vkps', 'landmarks'))"
   ]
  },
  {
   "cell_type": "code",
   "execution_count": null,
   "metadata": {},
   "outputs": [],
   "source": [
    "import numpy as np\n",
    "from mesh4d.analyse import visual\n",
    "\n",
    "error_ls = []\n",
    "\n",
    "for marker in diff['diff_dict'].values():\n",
    "    error_ls.append(marker['dist_mean'])\n",
    "\n",
    "error_ls = np.array(error_ls)\n",
    "\n",
    "if is_plot:\n",
    "    landmarks_init = landmarks_init = landmarks.get_frame_coord(1).get_points_coord()\n",
    "    visual.show_mesh_value_mask(mesh_clip_ls[1], landmarks_init, error_ls/10, k_nbr=100, show_edges=True)"
   ]
  },
  {
   "attachments": {},
   "cell_type": "markdown",
   "metadata": {},
   "source": [
    "## Randomly Selected Landmarks"
   ]
  },
  {
   "cell_type": "code",
   "execution_count": null,
   "metadata": {},
   "outputs": [],
   "source": [
    "from mesh4d import utils\n",
    "\n",
    "random_landmarks = utils.load_pkl_object(test_landmarks_path)\n",
    "random_kps = random_landmarks.get_frame_coord(0)"
   ]
  },
  {
   "cell_type": "code",
   "execution_count": null,
   "metadata": {},
   "outputs": [],
   "source": [
    "o4.vkps_track(random_kps, start_id=0, name='vkps_random')\n",
    "vkps_random = o4.assemble_markerset(name='vkps_random')\n",
    "vkps_random.interp_field()"
   ]
  },
  {
   "cell_type": "code",
   "execution_count": null,
   "metadata": {},
   "outputs": [],
   "source": [
    "from mesh4d.obj4d import Obj4d_Kps\n",
    "\n",
    "if is_plot:\n",
    "    o4_breast = Obj4d_Kps(fps=120 / stride)\n",
    "    o4_breast.add_obj(*breast_ls)\n",
    "    o4_breast.load_markerset('vkps_random', vkps_random)\n",
    "    o4_breast.export_pcd_gif(output_folder=export_folder, filename='vkps_random', kps_names=('vkps_random',))"
   ]
  },
  {
   "cell_type": "code",
   "execution_count": null,
   "metadata": {},
   "outputs": [],
   "source": [
    "import os\n",
    "import mesh4d\n",
    "import pyvista as pv\n",
    "\n",
    "if is_export:\n",
    "    scene = pv.Plotter()\n",
    "    vkps_random.add_to_scene(scene)\n",
    "\n",
    "    export_path = os.path.join(export_folder, 'trace.png')\n",
    "    scene.camera_position = 'xy'\n",
    "    scene.show(screenshot=export_path)\n",
    "\n",
    "    if mesh4d.output_msg:\n",
    "        print(\"export image: {}\".format(export_path))"
   ]
  },
  {
   "cell_type": "code",
   "execution_count": null,
   "metadata": {},
   "outputs": [],
   "source": [
    "import os\n",
    "import mesh4d\n",
    "import pyvista as pv\n",
    "\n",
    "if is_plot:\n",
    "    scene = pv.Plotter()\n",
    "    vkps_random.add_to_scene(scene)\n",
    "    breast_ls[0].add_mesh_to_scene(scene, point_size=1e-3, opacity=0.1)\n",
    "    scene.camera_position = 'xy'\n",
    "    scene.show()"
   ]
  },
  {
   "attachments": {},
   "cell_type": "markdown",
   "metadata": {},
   "source": [
    "## Full-field Breast Deformation Estimation"
   ]
  },
  {
   "cell_type": "code",
   "execution_count": null,
   "metadata": {},
   "outputs": [],
   "source": [
    "breast_kps = breast_ls[1].get_sample_kps(1000)\n",
    "o4.vkps_track(breast_kps, start_id=1, name='vkps_breast_full')"
   ]
  },
  {
   "cell_type": "code",
   "execution_count": null,
   "metadata": {},
   "outputs": [],
   "source": [
    "vkps_breast_full = o4.assemble_markerset(name='vkps_breast_full', start_id=1)\n",
    "vkps_breast_full.interp_field()"
   ]
  },
  {
   "cell_type": "code",
   "execution_count": null,
   "metadata": {},
   "outputs": [],
   "source": [
    "from mesh4d.analyse import visual, measure\n",
    "\n",
    "_, starts, traces = measure.markerset_trace_length(vkps_breast_full, start_frame=1)\n",
    "\n",
    "if is_plot:\n",
    "    visual.show_mesh_value_mask(\n",
    "        mesh_clip_ls[1], starts, np.array(traces)/10,\n",
    "        is_save=True, export_folder=export_folder, export_name='breast_disp',\n",
    "        show_edges=True)"
   ]
  },
  {
   "cell_type": "code",
   "execution_count": null,
   "metadata": {},
   "outputs": [],
   "source": []
  }
 ],
 "metadata": {
  "kernelspec": {
   "display_name": "base",
   "language": "python",
   "name": "python3"
  },
  "language_info": {
   "codemirror_mode": {
    "name": "ipython",
    "version": 3
   },
   "file_extension": ".py",
   "mimetype": "text/x-python",
   "name": "python",
   "nbconvert_exporter": "python",
   "pygments_lexer": "ipython3",
   "version": "3.9.16"
  },
  "vscode": {
   "interpreter": {
    "hash": "8c8ccae62b03e03f602162ec2d3ff7715f4331cfb18cae8be1463dcdd08d9f0b"
   }
  }
 },
 "nbformat": 4,
 "nbformat_minor": 2
}
